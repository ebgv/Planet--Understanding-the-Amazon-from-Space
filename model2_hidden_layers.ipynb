{
  "nbformat": 4,
  "nbformat_minor": 0,
  "metadata": {
    "colab": {
      "name": "building_model.ipynb",
      "version": "0.3.2",
      "provenance": [],
      "collapsed_sections": [],
      "include_colab_link": true
    },
    "kernelspec": {
      "name": "python3",
      "display_name": "Python 3"
    },
    "accelerator": "GPU"
  },
  "cells": [
    {
      "cell_type": "markdown",
      "metadata": {
        "id": "view-in-github",
        "colab_type": "text"
      },
      "source": [
        "[View in Colaboratory](https://colab.research.google.com/github/ebgv/Planet--Understanding-the-Amazon-from-Space/blob/master/model2_hidden_layers.ipynb)"
      ]
    },
    {
      "metadata": {
        "id": "awDU7mmlvcva",
        "colab_type": "code",
        "outputId": "7b9ffe1f-7373-4ee8-c939-e124f7b85dcf",
        "colab": {
          "base_uri": "https://localhost:8080/",
          "height": 34
        }
      },
      "cell_type": "code",
      "source": [
        "# check the environment \n",
        "\n",
        "%ls"
      ],
      "execution_count": 1,
      "outputs": [
        {
          "output_type": "stream",
          "text": [
            "\u001b[0m\u001b[01;34mdata\u001b[0m/  \u001b[01;34msample_data\u001b[0m/\n"
          ],
          "name": "stdout"
        }
      ]
    },
    {
      "metadata": {
        "id": "S1OG8FpLalVP",
        "colab_type": "code",
        "outputId": "b8b1d78e-2ed7-41bc-d97f-58671e67b24a",
        "colab": {
          "base_uri": "https://localhost:8080/",
          "height": 1714
        }
      },
      "cell_type": "code",
      "source": [
        "# check if the data is in the environment \n",
        "\n",
        "%cd /content/data/sample/test/cloudy\n",
        "%ls"
      ],
      "execution_count": 2,
      "outputs": [
        {
          "output_type": "stream",
          "text": [
            "/content/data/sample/test/cloudy\n",
            "train_10043.jpg  train_17597.jpg  train_27945.jpg  train_37889.jpg\n",
            "train_10128.jpg  train_1776.jpg   train_28182.jpg  train_37929.jpg\n",
            "train_10177.jpg  train_1786.jpg   train_28244.jpg  train_37942.jpg\n",
            "train_10225.jpg  train_18134.jpg  train_28318.jpg  train_37980.jpg\n",
            "train_10246.jpg  train_18253.jpg  train_28454.jpg  train_38089.jpg\n",
            "train_10265.jpg  train_18344.jpg  train_28463.jpg  train_3815.jpg\n",
            "train_10293.jpg  train_18513.jpg  train_28488.jpg  train_38278.jpg\n",
            "train_10389.jpg  train_18551.jpg  train_28657.jpg  train_38329.jpg\n",
            "train_10485.jpg  train_18572.jpg  train_28765.jpg  train_38400.jpg\n",
            "train_10547.jpg  train_18913.jpg  train_28974.jpg  train_38405.jpg\n",
            "train_10552.jpg  train_18942.jpg  train_29002.jpg  train_38657.jpg\n",
            "train_10563.jpg  train_19069.jpg  train_29014.jpg  train_38807.jpg\n",
            "train_10598.jpg  train_19363.jpg  train_2904.jpg   train_38808.jpg\n",
            "train_10895.jpg  train_1938.jpg   train_29182.jpg  train_38823.jpg\n",
            "train_10908.jpg  train_19504.jpg  train_29278.jpg  train_38893.jpg\n",
            "train_10940.jpg  train_19513.jpg  train_29292.jpg  train_38957.jpg\n",
            "train_10952.jpg  train_1969.jpg   train_2961.jpg   train_38964.jpg\n",
            "train_11118.jpg  train_19756.jpg  train_2965.jpg   train_38968.jpg\n",
            "train_11150.jpg  train_19923.jpg  train_29667.jpg  train_38983.jpg\n",
            "train_11161.jpg  train_1996.jpg   train_29684.jpg  train_38988.jpg\n",
            "train_11305.jpg  train_20051.jpg  train_29808.jpg  train_39054.jpg\n",
            "train_11307.jpg  train_20310.jpg  train_29846.jpg  train_39056.jpg\n",
            "train_11312.jpg  train_20331.jpg  train_29917.jpg  train_39163.jpg\n",
            "train_11317.jpg  train_20352.jpg  train_29932.jpg  train_39178.jpg\n",
            "train_11325.jpg  train_20397.jpg  train_29960.jpg  train_3932.jpg\n",
            "train_11415.jpg  train_20472.jpg  train_30262.jpg  train_39334.jpg\n",
            "train_11416.jpg  train_20489.jpg  train_30311.jpg  train_39378.jpg\n",
            "train_11512.jpg  train_20496.jpg  train_30386.jpg  train_3951.jpg\n",
            "train_11686.jpg  train_20522.jpg  train_30487.jpg  train_39520.jpg\n",
            "train_11706.jpg  train_20581.jpg  train_30534.jpg  train_39709.jpg\n",
            "train_11805.jpg  train_20612.jpg  train_30586.jpg  train_39813.jpg\n",
            "train_118.jpg    train_20655.jpg  train_30882.jpg  train_40033.jpg\n",
            "train_11981.jpg  train_20669.jpg  train_30902.jpg  train_4007.jpg\n",
            "train_12313.jpg  train_20913.jpg  train_31134.jpg  train_4013.jpg\n",
            "train_12353.jpg  train_20948.jpg  train_31184.jpg  train_40168.jpg\n",
            "train_12360.jpg  train_21210.jpg  train_3119.jpg   train_40416.jpg\n",
            "train_12517.jpg  train_21336.jpg  train_3126.jpg   train_4094.jpg\n",
            "train_12682.jpg  train_21398.jpg  train_31588.jpg  train_4258.jpg\n",
            "train_12701.jpg  train_21555.jpg  train_31783.jpg  train_4263.jpg\n",
            "train_12708.jpg  train_21569.jpg  train_31865.jpg  train_4292.jpg\n",
            "train_12770.jpg  train_21806.jpg  train_31869.jpg  train_4359.jpg\n",
            "train_1283.jpg   train_21884.jpg  train_31887.jpg  train_4534.jpg\n",
            "train_12880.jpg  train_22193.jpg  train_31909.jpg  train_453.jpg\n",
            "train_12967.jpg  train_2231.jpg   train_32092.jpg  train_4873.jpg\n",
            "train_13011.jpg  train_2234.jpg   train_32116.jpg  train_4885.jpg\n",
            "train_13016.jpg  train_22590.jpg  train_32139.jpg  train_5021.jpg\n",
            "train_13262.jpg  train_22602.jpg  train_32169.jpg  train_5025.jpg\n",
            "train_13300.jpg  train_2267.jpg   train_32257.jpg  train_5150.jpg\n",
            "train_1336.jpg   train_22967.jpg  train_32535.jpg  train_5216.jpg\n",
            "train_13424.jpg  train_23018.jpg  train_32670.jpg  train_5294.jpg\n",
            "train_13497.jpg  train_23159.jpg  train_3278.jpg   train_5541.jpg\n",
            "train_13502.jpg  train_23222.jpg  train_32795.jpg  train_5670.jpg\n",
            "train_13647.jpg  train_23365.jpg  train_32846.jpg  train_5680.jpg\n",
            "train_1374.jpg   train_23395.jpg  train_32882.jpg  train_569.jpg\n",
            "train_13792.jpg  train_23417.jpg  train_32886.jpg  train_5803.jpg\n",
            "train_13830.jpg  train_23435.jpg  train_33279.jpg  train_5975.jpg\n",
            "train_14240.jpg  train_23511.jpg  train_3327.jpg   train_6041.jpg\n",
            "train_14265.jpg  train_23600.jpg  train_33296.jpg  train_6255.jpg\n",
            "train_14352.jpg  train_23608.jpg  train_33466.jpg  train_6306.jpg\n",
            "train_14542.jpg  train_23887.jpg  train_33476.jpg  train_6681.jpg\n",
            "train_14773.jpg  train_24070.jpg  train_33481.jpg  train_6746.jpg\n",
            "train_14869.jpg  train_24108.jpg  train_33520.jpg  train_68.jpg\n",
            "train_1490.jpg   train_24237.jpg  train_33590.jpg  train_6973.jpg\n",
            "train_14975.jpg  train_24303.jpg  train_33758.jpg  train_7008.jpg\n",
            "train_15171.jpg  train_24453.jpg  train_33822.jpg  train_7284.jpg\n",
            "train_15268.jpg  train_24777.jpg  train_34058.jpg  train_72.jpg\n",
            "train_15364.jpg  train_24891.jpg  train_34249.jpg  train_7308.jpg\n",
            "train_15393.jpg  train_24945.jpg  train_34303.jpg  train_7387.jpg\n",
            "train_15396.jpg  train_24989.jpg  train_34355.jpg  train_7537.jpg\n",
            "train_15407.jpg  train_25029.jpg  train_34408.jpg  train_758.jpg\n",
            "train_15408.jpg  train_25113.jpg  train_34789.jpg  train_7708.jpg\n",
            "train_15590.jpg  train_25176.jpg  train_34831.jpg  train_7801.jpg\n",
            "train_15709.jpg  train_25326.jpg  train_35027.jpg  train_7971.jpg\n",
            "train_15737.jpg  train_25626.jpg  train_35167.jpg  train_7991.jpg\n",
            "train_15773.jpg  train_2562.jpg   train_35495.jpg  train_8101.jpg\n",
            "train_1580.jpg   train_25732.jpg  train_35508.jpg  train_8199.jpg\n",
            "train_15911.jpg  train_26086.jpg  train_35551.jpg  train_827.jpg\n",
            "train_15951.jpg  train_26185.jpg  train_35773.jpg  train_8287.jpg\n",
            "train_15994.jpg  train_26389.jpg  train_3585.jpg   train_8544.jpg\n",
            "train_16035.jpg  train_26520.jpg  train_36004.jpg  train_8765.jpg\n",
            "train_16043.jpg  train_2664.jpg   train_36096.jpg  train_8805.jpg\n",
            "train_16188.jpg  train_26704.jpg  train_36286.jpg  train_8809.jpg\n",
            "train_16195.jpg  train_26814.jpg  train_36295.jpg  train_8819.jpg\n",
            "train_16253.jpg  train_26892.jpg  train_36321.jpg  train_8836.jpg\n",
            "train_16606.jpg  train_26957.jpg  train_36388.jpg  train_8927.jpg\n",
            "train_1663.jpg   train_26989.jpg  train_36463.jpg  train_8930.jpg\n",
            "train_16644.jpg  train_2699.jpg   train_36529.jpg  train_902.jpg\n",
            "train_16659.jpg  train_27086.jpg  train_36537.jpg  train_9062.jpg\n",
            "train_16661.jpg  train_27136.jpg  train_36600.jpg  train_9145.jpg\n",
            "train_16735.jpg  train_27138.jpg  train_36644.jpg  train_9179.jpg\n",
            "train_16844.jpg  train_27223.jpg  train_36716.jpg  train_9229.jpg\n",
            "train_16887.jpg  train_27239.jpg  train_36720.jpg  train_9346.jpg\n",
            "train_16901.jpg  train_2723.jpg   train_36964.jpg  train_9522.jpg\n",
            "train_16989.jpg  train_27379.jpg  train_37180.jpg  train_9529.jpg\n",
            "train_17067.jpg  train_27527.jpg  train_37190.jpg  train_9741.jpg\n",
            "train_17086.jpg  train_27555.jpg  train_37439.jpg  train_9752.jpg\n",
            "train_17107.jpg  train_27556.jpg  train_37465.jpg  train_9756.jpg\n",
            "train_17237.jpg  train_27810.jpg  train_37621.jpg  train_9783.jpg\n",
            "train_17357.jpg  train_27871.jpg  train_37623.jpg  train_97.jpg\n",
            "train_1756.jpg   train_27921.jpg  train_37683.jpg  train_9941.jpg\n"
          ],
          "name": "stdout"
        }
      ]
    },
    {
      "metadata": {
        "id": "U9ULE4_ibLQm",
        "colab_type": "code",
        "outputId": "80f4019e-b768-45b3-dafd-fff09c17cb60",
        "colab": {
          "base_uri": "https://localhost:8080/",
          "height": 6754
        }
      },
      "cell_type": "code",
      "source": [
        "# check if the data is in the environment \n",
        "\n",
        "%cd /content/data/sample/train/cloudy\n",
        "%ls"
      ],
      "execution_count": 3,
      "outputs": [
        {
          "output_type": "stream",
          "text": [
            "/content/data/sample/train/cloudy\n",
            "train_10021.jpg  train_18954.jpg  train_27884.jpg  train_37070.jpg\n",
            "train_10070.jpg  train_18976.jpg  train_2791.jpg   train_37171.jpg\n",
            "train_10081.jpg  train_19000.jpg  train_2796.jpg   train_37175.jpg\n",
            "train_10096.jpg  train_19027.jpg  train_28061.jpg  train_37206.jpg\n",
            "train_10103.jpg  train_19085.jpg  train_28072.jpg  train_37260.jpg\n",
            "train_10166.jpg  train_19110.jpg  train_28089.jpg  train_37294.jpg\n",
            "train_10173.jpg  train_19117.jpg  train_28101.jpg  train_37305.jpg\n",
            "train_101.jpg    train_19130.jpg  train_28197.jpg  train_37350.jpg\n",
            "train_10201.jpg  train_1916.jpg   train_28242.jpg  train_37381.jpg\n",
            "train_10224.jpg  train_1921.jpg   train_28272.jpg  train_37423.jpg\n",
            "train_10227.jpg  train_19285.jpg  train_28284.jpg  train_37445.jpg\n",
            "train_10231.jpg  train_19288.jpg  train_28292.jpg  train_37471.jpg\n",
            "train_10263.jpg  train_19299.jpg  train_28309.jpg  train_37494.jpg\n",
            "train_10269.jpg  train_1933.jpg   train_28329.jpg  train_37495.jpg\n",
            "train_10326.jpg  train_19347.jpg  train_28351.jpg  train_37555.jpg\n",
            "train_10333.jpg  train_19386.jpg  train_2837.jpg   train_37563.jpg\n",
            "train_10388.jpg  train_19392.jpg  train_28406.jpg  train_37592.jpg\n",
            "train_10394.jpg  train_19396.jpg  train_2841.jpg   train_3760.jpg\n",
            "train_10406.jpg  train_19411.jpg  train_28432.jpg  train_37640.jpg\n",
            "train_10421.jpg  train_19420.jpg  train_28444.jpg  train_37652.jpg\n",
            "train_10444.jpg  train_19426.jpg  train_284.jpg    train_37670.jpg\n",
            "train_10451.jpg  train_19442.jpg  train_28511.jpg  train_37746.jpg\n",
            "train_10493.jpg  train_19451.jpg  train_28518.jpg  train_37841.jpg\n",
            "train_10515.jpg  train_19470.jpg  train_28522.jpg  train_37879.jpg\n",
            "train_10538.jpg  train_19500.jpg  train_28534.jpg  train_37888.jpg\n",
            "train_10540.jpg  train_19502.jpg  train_28537.jpg  train_37896.jpg\n",
            "train_10555.jpg  train_19621.jpg  train_28555.jpg  train_37900.jpg\n",
            "train_10566.jpg  train_19642.jpg  train_28575.jpg  train_37938.jpg\n",
            "train_10581.jpg  train_1968.jpg   train_285.jpg    train_37953.jpg\n",
            "train_10609.jpg  train_19693.jpg  train_28636.jpg  train_3796.jpg\n",
            "train_1060.jpg   train_19694.jpg  train_28680.jpg  train_38005.jpg\n",
            "train_10621.jpg  train_19785.jpg  train_28684.jpg  train_38032.jpg\n",
            "train_10626.jpg  train_19792.jpg  train_28686.jpg  train_38073.jpg\n",
            "train_10642.jpg  train_19794.jpg  train_28690.jpg  train_38099.jpg\n",
            "train_10661.jpg  train_19813.jpg  train_28743.jpg  train_38108.jpg\n",
            "train_10663.jpg  train_19858.jpg  train_28762.jpg  train_38123.jpg\n",
            "train_10666.jpg  train_19859.jpg  train_28808.jpg  train_38127.jpg\n",
            "train_10667.jpg  train_19863.jpg  train_28823.jpg  train_38132.jpg\n",
            "train_10687.jpg  train_19906.jpg  train_28831.jpg  train_38149.jpg\n",
            "train_10710.jpg  train_19910.jpg  train_28832.jpg  train_38153.jpg\n",
            "train_10788.jpg  train_19911.jpg  train_28851.jpg  train_38161.jpg\n",
            "train_10793.jpg  train_19951.jpg  train_28860.jpg  train_38166.jpg\n",
            "train_10816.jpg  train_20008.jpg  train_28888.jpg  train_38217.jpg\n",
            "train_10856.jpg  train_20054.jpg  train_28903.jpg  train_38263.jpg\n",
            "train_1086.jpg   train_20069.jpg  train_28919.jpg  train_38287.jpg\n",
            "train_10889.jpg  train_2006.jpg   train_28923.jpg  train_38300.jpg\n",
            "train_10891.jpg  train_20070.jpg  train_28936.jpg  train_3835.jpg\n",
            "train_108.jpg    train_20108.jpg  train_28944.jpg  train_3837.jpg\n",
            "train_10905.jpg  train_20141.jpg  train_28949.jpg  train_38420.jpg\n",
            "train_1092.jpg   train_20162.jpg  train_28965.jpg  train_38446.jpg\n",
            "train_11008.jpg  train_20177.jpg  train_28991.jpg  train_38450.jpg\n",
            "train_11047.jpg  train_20179.jpg  train_29001.jpg  train_38467.jpg\n",
            "train_11050.jpg  train_20182.jpg  train_2900.jpg   train_3849.jpg\n",
            "train_11105.jpg  train_20202.jpg  train_29016.jpg  train_38541.jpg\n",
            "train_11113.jpg  train_20216.jpg  train_29033.jpg  train_38549.jpg\n",
            "train_11132.jpg  train_20239.jpg  train_29050.jpg  train_38567.jpg\n",
            "train_11171.jpg  train_20247.jpg  train_29061.jpg  train_3857.jpg\n",
            "train_11191.jpg  train_20250.jpg  train_29080.jpg  train_38606.jpg\n",
            "train_111.jpg    train_20356.jpg  train_29081.jpg  train_38610.jpg\n",
            "train_11207.jpg  train_20371.jpg  train_29109.jpg  train_38650.jpg\n",
            "train_11211.jpg  train_20391.jpg  train_2911.jpg   train_38698.jpg\n",
            "train_11218.jpg  train_203.jpg    train_29124.jpg  train_38709.jpg\n",
            "train_11229.jpg  train_20415.jpg  train_29151.jpg  train_38735.jpg\n",
            "train_11240.jpg  train_20431.jpg  train_29171.jpg  train_38757.jpg\n",
            "train_11259.jpg  train_20483.jpg  train_29187.jpg  train_38788.jpg\n",
            "train_11260.jpg  train_20523.jpg  train_29201.jpg  train_38804.jpg\n",
            "train_1126.jpg   train_20551.jpg  train_29242.jpg  train_38818.jpg\n",
            "train_11283.jpg  train_20554.jpg  train_29245.jpg  train_38824.jpg\n",
            "train_11294.jpg  train_20578.jpg  train_29333.jpg  train_38825.jpg\n",
            "train_11301.jpg  train_2058.jpg   train_29355.jpg  train_38833.jpg\n",
            "train_11326.jpg  train_20601.jpg  train_29368.jpg  train_38835.jpg\n",
            "train_11352.jpg  train_20608.jpg  train_29412.jpg  train_38890.jpg\n",
            "train_11354.jpg  train_20609.jpg  train_29424.jpg  train_38925.jpg\n",
            "train_1140.jpg   train_20675.jpg  train_29430.jpg  train_38942.jpg\n",
            "train_11486.jpg  train_20688.jpg  train_29504.jpg  train_38947.jpg\n",
            "train_11492.jpg  train_20690.jpg  train_29523.jpg  train_38979.jpg\n",
            "train_11549.jpg  train_20703.jpg  train_29528.jpg  train_39028.jpg\n",
            "train_11561.jpg  train_20748.jpg  train_29540.jpg  train_39035.jpg\n",
            "train_11569.jpg  train_20753.jpg  train_29550.jpg  train_39061.jpg\n",
            "train_11597.jpg  train_20756.jpg  train_29609.jpg  train_39153.jpg\n",
            "train_11644.jpg  train_20768.jpg  train_29653.jpg  train_39167.jpg\n",
            "train_11663.jpg  train_20821.jpg  train_29680.jpg  train_39179.jpg\n",
            "train_11673.jpg  train_20826.jpg  train_29681.jpg  train_39222.jpg\n",
            "train_11740.jpg  train_20841.jpg  train_29732.jpg  train_39226.jpg\n",
            "train_11757.jpg  train_20864.jpg  train_29733.jpg  train_3922.jpg\n",
            "train_11809.jpg  train_20891.jpg  train_29781.jpg  train_39256.jpg\n",
            "train_11820.jpg  train_20894.jpg  train_29813.jpg  train_39268.jpg\n",
            "train_11844.jpg  train_20895.jpg  train_29824.jpg  train_39288.jpg\n",
            "train_11871.jpg  train_20914.jpg  train_29833.jpg  train_39289.jpg\n",
            "train_11896.jpg  train_20957.jpg  train_29842.jpg  train_39307.jpg\n",
            "train_11904.jpg  train_21004.jpg  train_29850.jpg  train_3930.jpg\n",
            "train_11937.jpg  train_2100.jpg   train_29861.jpg  train_39328.jpg\n",
            "train_1194.jpg   train_21016.jpg  train_29881.jpg  train_39361.jpg\n",
            "train_11979.jpg  train_21071.jpg  train_29915.jpg  train_39363.jpg\n",
            "train_12009.jpg  train_21098.jpg  train_29956.jpg  train_39379.jpg\n",
            "train_12016.jpg  train_21140.jpg  train_29980.jpg  train_39385.jpg\n",
            "train_12038.jpg  train_21151.jpg  train_29996.jpg  train_39409.jpg\n",
            "train_12058.jpg  train_21186.jpg  train_30001.jpg  train_39492.jpg\n",
            "train_12068.jpg  train_2118.jpg   train_30056.jpg  train_39500.jpg\n",
            "train_12072.jpg  train_21192.jpg  train_30065.jpg  train_39527.jpg\n",
            "train_12075.jpg  train_21200.jpg  train_3014.jpg   train_39573.jpg\n",
            "train_12089.jpg  train_21278.jpg  train_30155.jpg  train_39592.jpg\n",
            "train_12097.jpg  train_21335.jpg  train_30187.jpg  train_39653.jpg\n",
            "train_12112.jpg  train_21364.jpg  train_30211.jpg  train_39674.jpg\n",
            "train_12119.jpg  train_21385.jpg  train_30223.jpg  train_39690.jpg\n",
            "train_12141.jpg  train_21388.jpg  train_30234.jpg  train_396.jpg\n",
            "train_12191.jpg  train_21467.jpg  train_30244.jpg  train_3975.jpg\n",
            "train_12204.jpg  train_21471.jpg  train_30255.jpg  train_39781.jpg\n",
            "train_12211.jpg  train_21478.jpg  train_30260.jpg  train_39821.jpg\n",
            "train_12235.jpg  train_21486.jpg  train_30274.jpg  train_39830.jpg\n",
            "train_12239.jpg  train_21502.jpg  train_302.jpg    train_39863.jpg\n",
            "train_12263.jpg  train_21521.jpg  train_30308.jpg  train_39881.jpg\n",
            "train_12286.jpg  train_21591.jpg  train_30364.jpg  train_39892.jpg\n",
            "train_12316.jpg  train_2163.jpg   train_30368.jpg  train_39920.jpg\n",
            "train_12343.jpg  train_2164.jpg   train_3036.jpg   train_39926.jpg\n",
            "train_12365.jpg  train_21657.jpg  train_30389.jpg  train_39946.jpg\n",
            "train_12375.jpg  train_21673.jpg  train_30403.jpg  train_3995.jpg\n",
            "train_12386.jpg  train_21706.jpg  train_30408.jpg  train_40008.jpg\n",
            "train_12421.jpg  train_21749.jpg  train_30416.jpg  train_40025.jpg\n",
            "train_12500.jpg  train_21750.jpg  train_30437.jpg  train_4003.jpg\n",
            "train_12502.jpg  train_21788.jpg  train_30514.jpg  train_40041.jpg\n",
            "train_12525.jpg  train_21804.jpg  train_30614.jpg  train_40051.jpg\n",
            "train_12536.jpg  train_21867.jpg  train_30623.jpg  train_40102.jpg\n",
            "train_12545.jpg  train_21868.jpg  train_30649.jpg  train_40191.jpg\n",
            "train_12592.jpg  train_21871.jpg  train_30686.jpg  train_40203.jpg\n",
            "train_12604.jpg  train_21872.jpg  train_30692.jpg  train_40236.jpg\n",
            "train_12611.jpg  train_21888.jpg  train_30696.jpg  train_40249.jpg\n",
            "train_12632.jpg  train_21908.jpg  train_30702.jpg  train_40255.jpg\n",
            "train_1265.jpg   train_21922.jpg  train_30730.jpg  train_4026.jpg\n",
            "train_12713.jpg  train_21936.jpg  train_30746.jpg  train_40301.jpg\n",
            "train_12724.jpg  train_21972.jpg  train_30748.jpg  train_40305.jpg\n",
            "train_12737.jpg  train_21990.jpg  train_30762.jpg  train_40310.jpg\n",
            "train_12924.jpg  train_22027.jpg  train_30764.jpg  train_40311.jpg\n",
            "train_12928.jpg  train_22041.jpg  train_3078.jpg   train_40320.jpg\n",
            "train_12975.jpg  train_22047.jpg  train_30792.jpg  train_40327.jpg\n",
            "train_1297.jpg   train_22068.jpg  train_30798.jpg  train_4038.jpg\n",
            "train_12983.jpg  train_22077.jpg  train_30803.jpg  train_40390.jpg\n",
            "train_12.jpg     train_22088.jpg  train_30809.jpg  train_40436.jpg\n",
            "train_13006.jpg  train_22110.jpg  train_30811.jpg  train_40447.jpg\n",
            "train_13009.jpg  train_22123.jpg  train_30828.jpg  train_40461.jpg\n",
            "train_13047.jpg  train_22149.jpg  train_30838.jpg  train_40475.jpg\n",
            "train_1304.jpg   train_22160.jpg  train_30851.jpg  train_4051.jpg\n",
            "train_13052.jpg  train_22175.jpg  train_30862.jpg  train_4065.jpg\n",
            "train_13069.jpg  train_22237.jpg  train_30870.jpg  train_4077.jpg\n",
            "train_13078.jpg  train_22250.jpg  train_30871.jpg  train_4116.jpg\n",
            "train_13110.jpg  train_22263.jpg  train_30946.jpg  train_4127.jpg\n",
            "train_13114.jpg  train_22282.jpg  train_3096.jpg   train_4133.jpg\n",
            "train_13124.jpg  train_22314.jpg  train_30989.jpg  train_413.jpg\n",
            "train_13129.jpg  train_22369.jpg  train_3098.jpg   train_4205.jpg\n",
            "train_13130.jpg  train_2236.jpg   train_3099.jpg   train_4214.jpg\n",
            "train_13167.jpg  train_22371.jpg  train_31001.jpg  train_4256.jpg\n",
            "train_13206.jpg  train_22386.jpg  train_31030.jpg  train_4293.jpg\n",
            "train_13219.jpg  train_22405.jpg  train_31051.jpg  train_4303.jpg\n",
            "train_13248.jpg  train_22410.jpg  train_31075.jpg  train_4334.jpg\n",
            "train_13282.jpg  train_22418.jpg  train_31082.jpg  train_4349.jpg\n",
            "train_13292.jpg  train_22449.jpg  train_31110.jpg  train_4362.jpg\n",
            "train_13312.jpg  train_22455.jpg  train_31129.jpg  train_4372.jpg\n",
            "train_13322.jpg  train_22461.jpg  train_31197.jpg  train_4394.jpg\n",
            "train_13370.jpg  train_22486.jpg  train_31228.jpg  train_4414.jpg\n",
            "train_1339.jpg   train_22582.jpg  train_31239.jpg  train_4438.jpg\n",
            "train_13404.jpg  train_2259.jpg   train_31242.jpg  train_4448.jpg\n",
            "train_13407.jpg  train_22612.jpg  train_31251.jpg  train_4470.jpg\n",
            "train_13413.jpg  train_2262.jpg   train_3125.jpg   train_4476.jpg\n",
            "train_13442.jpg  train_22646.jpg  train_3128.jpg   train_4488.jpg\n",
            "train_13464.jpg  train_22675.jpg  train_31296.jpg  train_4587.jpg\n",
            "train_13472.jpg  train_226.jpg    train_31339.jpg  train_4592.jpg\n",
            "train_13475.jpg  train_22728.jpg  train_31358.jpg  train_4603.jpg\n",
            "train_13560.jpg  train_22758.jpg  train_31365.jpg  train_4626.jpg\n",
            "train_13569.jpg  train_22773.jpg  train_31368.jpg  train_4628.jpg\n",
            "train_13602.jpg  train_22808.jpg  train_31369.jpg  train_4641.jpg\n",
            "train_1360.jpg   train_22809.jpg  train_3136.jpg   train_4656.jpg\n",
            "train_13613.jpg  train_22812.jpg  train_31380.jpg  train_4658.jpg\n",
            "train_13628.jpg  train_22849.jpg  train_31384.jpg  train_4717.jpg\n",
            "train_13731.jpg  train_22860.jpg  train_31387.jpg  train_4723.jpg\n",
            "train_13749.jpg  train_22865.jpg  train_3139.jpg   train_4766.jpg\n",
            "train_13785.jpg  train_22866.jpg  train_31435.jpg  train_476.jpg\n",
            "train_1378.jpg   train_22888.jpg  train_31446.jpg  train_4809.jpg\n",
            "train_13887.jpg  train_22908.jpg  train_31527.jpg  train_4834.jpg\n",
            "train_138.jpg    train_22919.jpg  train_31530.jpg  train_4843.jpg\n",
            "train_1391.jpg   train_22972.jpg  train_3157.jpg   train_4867.jpg\n",
            "train_13974.jpg  train_23012.jpg  train_31600.jpg  train_4896.jpg\n",
            "train_14024.jpg  train_23029.jpg  train_31617.jpg  train_4923.jpg\n",
            "train_14034.jpg  train_23076.jpg  train_31651.jpg  train_4952.jpg\n",
            "train_14060.jpg  train_23081.jpg  train_3165.jpg   train_4998.jpg\n",
            "train_14090.jpg  train_23084.jpg  train_31698.jpg  train_5010.jpg\n",
            "train_14091.jpg  train_23144.jpg  train_31703.jpg  train_5032.jpg\n",
            "train_14100.jpg  train_23147.jpg  train_31713.jpg  train_50.jpg\n",
            "train_14107.jpg  train_23176.jpg  train_31756.jpg  train_5119.jpg\n",
            "train_14175.jpg  train_23200.jpg  train_3176.jpg   train_5147.jpg\n",
            "train_14179.jpg  train_23252.jpg  train_31822.jpg  train_5180.jpg\n",
            "train_14180.jpg  train_23254.jpg  train_31870.jpg  train_5206.jpg\n",
            "train_14181.jpg  train_23265.jpg  train_31892.jpg  train_5220.jpg\n",
            "train_14198.jpg  train_23267.jpg  train_31910.jpg  train_5224.jpg\n",
            "train_14210.jpg  train_23310.jpg  train_31939.jpg  train_5235.jpg\n",
            "train_14238.jpg  train_23312.jpg  train_31951.jpg  train_5257.jpg\n",
            "train_14272.jpg  train_2337.jpg   train_31954.jpg  train_5325.jpg\n",
            "train_14293.jpg  train_23403.jpg  train_31966.jpg  train_5346.jpg\n",
            "train_14320.jpg  train_23418.jpg  train_31975.jpg  train_534.jpg\n",
            "train_14339.jpg  train_23434.jpg  train_31979.jpg  train_5368.jpg\n",
            "train_14381.jpg  train_23436.jpg  train_3199.jpg   train_5391.jpg\n",
            "train_14394.jpg  train_23443.jpg  train_32009.jpg  train_5458.jpg\n",
            "train_14403.jpg  train_23448.jpg  train_32011.jpg  train_5543.jpg\n",
            "train_14404.jpg  train_23476.jpg  train_32033.jpg  train_5548.jpg\n",
            "train_14462.jpg  train_23490.jpg  train_32189.jpg  train_5557.jpg\n",
            "train_14509.jpg  train_234.jpg    train_32214.jpg  train_5572.jpg\n",
            "train_1450.jpg   train_23519.jpg  train_32215.jpg  train_5625.jpg\n",
            "train_14558.jpg  train_23566.jpg  train_32228.jpg  train_5648.jpg\n",
            "train_14592.jpg  train_23588.jpg  train_32278.jpg  train_5675.jpg\n",
            "train_14634.jpg  train_23598.jpg  train_32283.jpg  train_5714.jpg\n",
            "train_14654.jpg  train_2361.jpg   train_32309.jpg  train_5750.jpg\n",
            "train_14659.jpg  train_23634.jpg  train_32327.jpg  train_5780.jpg\n",
            "train_14667.jpg  train_23635.jpg  train_32330.jpg  train_5828.jpg\n",
            "train_14744.jpg  train_23636.jpg  train_32375.jpg  train_582.jpg\n",
            "train_1479.jpg   train_23646.jpg  train_32385.jpg  train_5876.jpg\n",
            "train_14830.jpg  train_2366.jpg   train_32408.jpg  train_5881.jpg\n",
            "train_14835.jpg  train_23706.jpg  train_32431.jpg  train_5925.jpg\n",
            "train_1483.jpg   train_23799.jpg  train_32433.jpg  train_5936.jpg\n",
            "train_14862.jpg  train_23805.jpg  train_32467.jpg  train_5967.jpg\n",
            "train_1486.jpg   train_23806.jpg  train_32497.jpg  train_5981.jpg\n",
            "train_14895.jpg  train_23808.jpg  train_32513.jpg  train_5985.jpg\n",
            "train_14926.jpg  train_2380.jpg   train_32526.jpg  train_6006.jpg\n",
            "train_1492.jpg   train_23826.jpg  train_32551.jpg  train_6009.jpg\n",
            "train_14932.jpg  train_23843.jpg  train_32584.jpg  train_601.jpg\n",
            "train_14942.jpg  train_23859.jpg  train_32613.jpg  train_6054.jpg\n",
            "train_14947.jpg  train_23865.jpg  train_32617.jpg  train_6068.jpg\n",
            "train_14972.jpg  train_23877.jpg  train_32696.jpg  train_6079.jpg\n",
            "train_14977.jpg  train_23884.jpg  train_32698.jpg  train_6093.jpg\n",
            "train_14978.jpg  train_23917.jpg  train_32704.jpg  train_6096.jpg\n",
            "train_14.jpg     train_23919.jpg  train_32717.jpg  train_6105.jpg\n",
            "train_15012.jpg  train_23953.jpg  train_32726.jpg  train_6135.jpg\n",
            "train_15052.jpg  train_2396.jpg   train_32799.jpg  train_6164.jpg\n",
            "train_15077.jpg  train_23979.jpg  train_32802.jpg  train_6192.jpg\n",
            "train_15103.jpg  train_23980.jpg  train_32815.jpg  train_6251.jpg\n",
            "train_15137.jpg  train_23981.jpg  train_32819.jpg  train_6262.jpg\n",
            "train_15165.jpg  train_24001.jpg  train_32827.jpg  train_6274.jpg\n",
            "train_15201.jpg  train_24013.jpg  train_32828.jpg  train_6279.jpg\n",
            "train_1520.jpg   train_24080.jpg  train_32830.jpg  train_6305.jpg\n",
            "train_15233.jpg  train_24094.jpg  train_32869.jpg  train_6339.jpg\n",
            "train_15247.jpg  train_24114.jpg  train_32913.jpg  train_6438.jpg\n",
            "train_15278.jpg  train_24139.jpg  train_32936.jpg  train_6465.jpg\n",
            "train_15313.jpg  train_24164.jpg  train_32943.jpg  train_646.jpg\n",
            "train_15350.jpg  train_24192.jpg  train_32961.jpg  train_6484.jpg\n",
            "train_15351.jpg  train_24212.jpg  train_32973.jpg  train_6506.jpg\n",
            "train_1538.jpg   train_24249.jpg  train_32993.jpg  train_6508.jpg\n",
            "train_15469.jpg  train_2424.jpg   train_33015.jpg  train_650.jpg\n",
            "train_15477.jpg  train_24270.jpg  train_33039.jpg  train_6518.jpg\n",
            "train_15489.jpg  train_24280.jpg  train_33083.jpg  train_6520.jpg\n",
            "train_1550.jpg   train_24299.jpg  train_33140.jpg  train_6556.jpg\n",
            "train_1551.jpg   train_24301.jpg  train_33191.jpg  train_6630.jpg\n",
            "train_15562.jpg  train_2431.jpg   train_33223.jpg  train_6694.jpg\n",
            "train_15563.jpg  train_24328.jpg  train_33260.jpg  train_6736.jpg\n",
            "train_15622.jpg  train_24350.jpg  train_33291.jpg  train_6802.jpg\n",
            "train_15647.jpg  train_24356.jpg  train_33298.jpg  train_6816.jpg\n",
            "train_15677.jpg  train_24390.jpg  train_33299.jpg  train_6829.jpg\n",
            "train_15742.jpg  train_24396.jpg  train_33313.jpg  train_6850.jpg\n",
            "train_15747.jpg  train_24443.jpg  train_33341.jpg  train_6856.jpg\n",
            "train_15751.jpg  train_24472.jpg  train_3340.jpg   train_6868.jpg\n",
            "train_15770.jpg  train_24490.jpg  train_33425.jpg  train_6886.jpg\n",
            "train_15781.jpg  train_24521.jpg  train_33445.jpg  train_6888.jpg\n",
            "train_1578.jpg   train_24560.jpg  train_33463.jpg  train_6891.jpg\n",
            "train_15823.jpg  train_24569.jpg  train_33510.jpg  train_6893.jpg\n",
            "train_15830.jpg  train_24636.jpg  train_33523.jpg  train_6954.jpg\n",
            "train_15862.jpg  train_24649.jpg  train_33524.jpg  train_6962.jpg\n",
            "train_15868.jpg  train_24667.jpg  train_33541.jpg  train_6987.jpg\n",
            "train_15885.jpg  train_24693.jpg  train_33560.jpg  train_7023.jpg\n",
            "train_15915.jpg  train_24724.jpg  train_33597.jpg  train_7042.jpg\n",
            "train_15974.jpg  train_24735.jpg  train_33604.jpg  train_7048.jpg\n",
            "train_15993.jpg  train_24829.jpg  train_3360.jpg   train_7063.jpg\n",
            "train_15999.jpg  train_24859.jpg  train_33639.jpg  train_7090.jpg\n",
            "train_16023.jpg  train_24897.jpg  train_33661.jpg  train_7096.jpg\n",
            "train_16026.jpg  train_24917.jpg  train_3366.jpg   train_7121.jpg\n",
            "train_16042.jpg  train_24936.jpg  train_3368.jpg   train_7150.jpg\n",
            "train_16059.jpg  train_24950.jpg  train_33727.jpg  train_7162.jpg\n",
            "train_16083.jpg  train_24991.jpg  train_33749.jpg  train_717.jpg\n",
            "train_16094.jpg  train_25025.jpg  train_33773.jpg  train_7192.jpg\n",
            "train_16112.jpg  train_25033.jpg  train_33792.jpg  train_7245.jpg\n",
            "train_16157.jpg  train_25036.jpg  train_337.jpg    train_7251.jpg\n",
            "train_16199.jpg  train_25041.jpg  train_33880.jpg  train_7258.jpg\n",
            "train_16213.jpg  train_2504.jpg   train_33928.jpg  train_7303.jpg\n",
            "train_16240.jpg  train_25106.jpg  train_33933.jpg  train_7323.jpg\n",
            "train_16251.jpg  train_25109.jpg  train_3395.jpg   train_7365.jpg\n",
            "train_16321.jpg  train_2510.jpg   train_33962.jpg  train_7367.jpg\n",
            "train_16325.jpg  train_25127.jpg  train_33973.jpg  train_7380.jpg\n",
            "train_16387.jpg  train_25138.jpg  train_3406.jpg   train_7408.jpg\n",
            "train_16397.jpg  train_2516.jpg   train_34079.jpg  train_7411.jpg\n",
            "train_16418.jpg  train_25207.jpg  train_34125.jpg  train_7414.jpg\n",
            "train_16531.jpg  train_25219.jpg  train_34144.jpg  train_7419.jpg\n",
            "train_16551.jpg  train_25223.jpg  train_34163.jpg  train_743.jpg\n",
            "train_16567.jpg  train_25232.jpg  train_34172.jpg  train_7440.jpg\n",
            "train_16575.jpg  train_25269.jpg  train_34176.jpg  train_7556.jpg\n",
            "train_16604.jpg  train_25327.jpg  train_34205.jpg  train_7597.jpg\n",
            "train_16628.jpg  train_25337.jpg  train_34208.jpg  train_7637.jpg\n",
            "train_1662.jpg   train_25341.jpg  train_34210.jpg  train_7675.jpg\n",
            "train_16693.jpg  train_25343.jpg  train_34212.jpg  train_7701.jpg\n",
            "train_1670.jpg   train_25366.jpg  train_34216.jpg  train_7743.jpg\n",
            "train_16766.jpg  train_25389.jpg  train_34234.jpg  train_7759.jpg\n",
            "train_16787.jpg  train_25399.jpg  train_34328.jpg  train_7791.jpg\n",
            "train_16865.jpg  train_25421.jpg  train_34359.jpg  train_77.jpg\n",
            "train_16872.jpg  train_25495.jpg  train_34367.jpg  train_7820.jpg\n",
            "train_16892.jpg  train_25557.jpg  train_34391.jpg  train_7824.jpg\n",
            "train_168.jpg    train_25595.jpg  train_343.jpg    train_7854.jpg\n",
            "train_16902.jpg  train_25602.jpg  train_34413.jpg  train_7858.jpg\n",
            "train_16915.jpg  train_25647.jpg  train_34481.jpg  train_7859.jpg\n",
            "train_16927.jpg  train_25659.jpg  train_34498.jpg  train_7892.jpg\n",
            "train_16935.jpg  train_25747.jpg  train_34507.jpg  train_790.jpg\n",
            "train_16947.jpg  train_25782.jpg  train_34534.jpg  train_7945.jpg\n",
            "train_16964.jpg  train_257.jpg    train_3456.jpg   train_7959.jpg\n",
            "train_1698.jpg   train_25815.jpg  train_34572.jpg  train_7973.jpg\n",
            "train_16997.jpg  train_25818.jpg  train_34585.jpg  train_799.jpg\n",
            "train_17009.jpg  train_25827.jpg  train_34636.jpg  train_8013.jpg\n",
            "train_17016.jpg  train_25843.jpg  train_34671.jpg  train_8064.jpg\n",
            "train_17033.jpg  train_25851.jpg  train_34681.jpg  train_8100.jpg\n",
            "train_1704.jpg   train_25859.jpg  train_3468.jpg   train_8104.jpg\n",
            "train_1707.jpg   train_2588.jpg   train_34728.jpg  train_8158.jpg\n",
            "train_17083.jpg  train_25926.jpg  train_3473.jpg   train_817.jpg\n",
            "train_1711.jpg   train_25952.jpg  train_34754.jpg  train_8198.jpg\n",
            "train_17131.jpg  train_25953.jpg  train_34770.jpg  train_8220.jpg\n",
            "train_17136.jpg  train_25971.jpg  train_34803.jpg  train_8232.jpg\n",
            "train_17141.jpg  train_26015.jpg  train_34841.jpg  train_8239.jpg\n",
            "train_1717.jpg   train_26038.jpg  train_34888.jpg  train_823.jpg\n",
            "train_17182.jpg  train_26084.jpg  train_34895.jpg  train_8245.jpg\n",
            "train_17200.jpg  train_26102.jpg  train_34936.jpg  train_8264.jpg\n",
            "train_17222.jpg  train_26108.jpg  train_34951.jpg  train_8297.jpg\n",
            "train_1722.jpg   train_26159.jpg  train_34965.jpg  train_8302.jpg\n",
            "train_17253.jpg  train_26169.jpg  train_35075.jpg  train_8319.jpg\n",
            "train_17269.jpg  train_26216.jpg  train_35105.jpg  train_8320.jpg\n",
            "train_17279.jpg  train_26222.jpg  train_35122.jpg  train_8370.jpg\n",
            "train_17301.jpg  train_26226.jpg  train_3512.jpg   train_8374.jpg\n",
            "train_17324.jpg  train_26236.jpg  train_35153.jpg  train_8384.jpg\n",
            "train_1738.jpg   train_26271.jpg  train_35179.jpg  train_8421.jpg\n",
            "train_17406.jpg  train_26320.jpg  train_3517.jpg   train_8458.jpg\n",
            "train_17422.jpg  train_2632.jpg   train_35193.jpg  train_8470.jpg\n",
            "train_17504.jpg  train_26330.jpg  train_35205.jpg  train_8478.jpg\n",
            "train_17505.jpg  train_26341.jpg  train_35240.jpg  train_8481.jpg\n",
            "train_17513.jpg  train_26369.jpg  train_35275.jpg  train_8499.jpg\n",
            "train_17549.jpg  train_2636.jpg   train_35294.jpg  train_8519.jpg\n",
            "train_17552.jpg  train_26411.jpg  train_35338.jpg  train_8545.jpg\n",
            "train_17556.jpg  train_26416.jpg  train_35367.jpg  train_8546.jpg\n",
            "train_17565.jpg  train_26436.jpg  train_35390.jpg  train_8576.jpg\n",
            "train_17569.jpg  train_26443.jpg  train_35399.jpg  train_8582.jpg\n",
            "train_17584.jpg  train_26456.jpg  train_35426.jpg  train_8588.jpg\n",
            "train_17610.jpg  train_26460.jpg  train_3542.jpg   train_8608.jpg\n",
            "train_17615.jpg  train_26485.jpg  train_35457.jpg  train_860.jpg\n",
            "train_17622.jpg  train_2648.jpg   train_35475.jpg  train_8610.jpg\n",
            "train_17643.jpg  train_26512.jpg  train_35499.jpg  train_8627.jpg\n",
            "train_17662.jpg  train_26528.jpg  train_35506.jpg  train_8650.jpg\n",
            "train_17699.jpg  train_26532.jpg  train_35516.jpg  train_8657.jpg\n",
            "train_17702.jpg  train_26540.jpg  train_35525.jpg  train_8658.jpg\n",
            "train_17722.jpg  train_26541.jpg  train_35567.jpg  train_8705.jpg\n",
            "train_17762.jpg  train_26556.jpg  train_35622.jpg  train_8731.jpg\n",
            "train_17769.jpg  train_26558.jpg  train_35653.jpg  train_8742.jpg\n",
            "train_1777.jpg   train_2655.jpg   train_35665.jpg  train_8755.jpg\n",
            "train_17794.jpg  train_26562.jpg  train_35753.jpg  train_8773.jpg\n",
            "train_17797.jpg  train_26564.jpg  train_35811.jpg  train_87.jpg\n",
            "train_17814.jpg  train_26572.jpg  train_35817.jpg  train_8816.jpg\n",
            "train_1782.jpg   train_26600.jpg  train_35844.jpg  train_8839.jpg\n",
            "train_17897.jpg  train_26609.jpg  train_35846.jpg  train_8840.jpg\n",
            "train_17900.jpg  train_26643.jpg  train_35883.jpg  train_8856.jpg\n",
            "train_17901.jpg  train_26658.jpg  train_3589.jpg   train_8871.jpg\n",
            "train_17935.jpg  train_26673.jpg  train_35909.jpg  train_8872.jpg\n",
            "train_1793.jpg   train_26693.jpg  train_35950.jpg  train_8880.jpg\n",
            "train_179.jpg    train_26722.jpg  train_35987.jpg  train_8884.jpg\n",
            "train_18073.jpg  train_26758.jpg  train_36006.jpg  train_888.jpg\n",
            "train_18084.jpg  train_2684.jpg   train_36016.jpg  train_8937.jpg\n",
            "train_18102.jpg  train_26882.jpg  train_36029.jpg  train_893.jpg\n",
            "train_18115.jpg  train_26903.jpg  train_36058.jpg  train_8961.jpg\n",
            "train_18154.jpg  train_26916.jpg  train_36089.jpg  train_8972.jpg\n",
            "train_18170.jpg  train_26974.jpg  train_36099.jpg  train_8977.jpg\n",
            "train_18175.jpg  train_26999.jpg  train_3609.jpg   train_8978.jpg\n",
            "train_18183.jpg  train_26.jpg     train_36137.jpg  train_9006.jpg\n",
            "train_18215.jpg  train_27005.jpg  train_36199.jpg  train_9010.jpg\n",
            "train_18223.jpg  train_27010.jpg  train_36340.jpg  train_9021.jpg\n",
            "train_18258.jpg  train_27120.jpg  train_36363.jpg  train_9036.jpg\n",
            "train_18281.jpg  train_27139.jpg  train_36381.jpg  train_9108.jpg\n",
            "train_18294.jpg  train_27202.jpg  train_36382.jpg  train_9170.jpg\n",
            "train_18329.jpg  train_27204.jpg  train_36445.jpg  train_9258.jpg\n",
            "train_18355.jpg  train_27229.jpg  train_3645.jpg   train_9300.jpg\n",
            "train_18365.jpg  train_27254.jpg  train_36509.jpg  train_9303.jpg\n",
            "train_1836.jpg   train_27302.jpg  train_36520.jpg  train_9375.jpg\n",
            "train_18386.jpg  train_27303.jpg  train_36545.jpg  train_9380.jpg\n",
            "train_18402.jpg  train_27305.jpg  train_36559.jpg  train_938.jpg\n",
            "train_18417.jpg  train_27355.jpg  train_36564.jpg  train_9414.jpg\n",
            "train_18444.jpg  train_27397.jpg  train_3657.jpg   train_9422.jpg\n",
            "train_18462.jpg  train_27399.jpg  train_36582.jpg  train_9438.jpg\n",
            "train_18475.jpg  train_27411.jpg  train_36603.jpg  train_9442.jpg\n",
            "train_18567.jpg  train_27446.jpg  train_36669.jpg  train_9484.jpg\n",
            "train_1856.jpg   train_27460.jpg  train_36678.jpg  train_9543.jpg\n",
            "train_18626.jpg  train_27474.jpg  train_36687.jpg  train_9587.jpg\n",
            "train_18646.jpg  train_27545.jpg  train_36750.jpg  train_970.jpg\n",
            "train_18658.jpg  train_27602.jpg  train_36754.jpg  train_9713.jpg\n",
            "train_18661.jpg  train_27603.jpg  train_36802.jpg  train_9761.jpg\n",
            "train_18672.jpg  train_2763.jpg   train_36835.jpg  train_9770.jpg\n",
            "train_18768.jpg  train_27660.jpg  train_3684.jpg   train_9799.jpg\n",
            "train_1876.jpg   train_2770.jpg   train_36862.jpg  train_9843.jpg\n",
            "train_18821.jpg  train_27734.jpg  train_36935.jpg  train_9844.jpg\n",
            "train_18860.jpg  train_27769.jpg  train_36938.jpg  train_984.jpg\n",
            "train_18862.jpg  train_27780.jpg  train_36945.jpg  train_9852.jpg\n",
            "train_18887.jpg  train_27788.jpg  train_36994.jpg  train_9868.jpg\n",
            "train_18918.jpg  train_2778.jpg   train_37063.jpg  train_9943.jpg\n",
            "train_18939.jpg  train_2781.jpg   train_37064.jpg  train_9972.jpg\n"
          ],
          "name": "stdout"
        }
      ]
    },
    {
      "metadata": {
        "id": "_UGf6tQ20ez2",
        "colab_type": "text"
      },
      "cell_type": "markdown",
      "source": [
        "# Imports "
      ]
    },
    {
      "metadata": {
        "id": "vDd0uFd2udSm",
        "colab_type": "code",
        "outputId": "f3bad0b4-fb24-4988-f775-67bb154abc2d",
        "colab": {
          "base_uri": "https://localhost:8080/",
          "height": 54
        }
      },
      "cell_type": "code",
      "source": [
        "# to install pytorch on colab\n",
        "from os import path\n",
        "from wheel.pep425tags import get_abbr_impl, get_impl_ver, get_abi_tag\n",
        "platform = '{}{}-{}'.format(get_abbr_impl(), get_impl_ver(), get_abi_tag())\n",
        "\n",
        "accelerator = 'cu80' if path.exists('/opt/bin/nvidia-smi') else 'cpu'\n",
        "\n",
        "!pip install -q http://download.pytorch.org/whl/{accelerator}/torch-0.4.1-{platform}-linux_x86_64.whl torchvision"
      ],
      "execution_count": 4,
      "outputs": [
        {
          "output_type": "stream",
          "text": [
            "tcmalloc: large alloc 1073750016 bytes == 0x56af6000 @  0x7fb2a34d82a4 0x594e17 0x626104 0x51190a 0x4f5277 0x510c78 0x5119bd 0x4f5277 0x4f3338 0x510fb0 0x5119bd 0x4f5277 0x4f3338 0x510fb0 0x5119bd 0x4f5277 0x4f3338 0x510fb0 0x5119bd 0x4f6070 0x510c78 0x5119bd 0x4f5277 0x4f3338 0x510fb0 0x5119bd 0x4f6070 0x4f3338 0x510fb0 0x5119bd 0x4f6070\n"
          ],
          "name": "stdout"
        }
      ]
    },
    {
      "metadata": {
        "id": "Ql1P1A4yus4B",
        "colab_type": "code",
        "outputId": "5d70ce46-3753-45ae-9361-221a0a62565a",
        "colab": {
          "base_uri": "https://localhost:8080/",
          "height": 185
        }
      },
      "cell_type": "code",
      "source": [
        "!pip install -U bcolz"
      ],
      "execution_count": 5,
      "outputs": [
        {
          "output_type": "stream",
          "text": [
            "Collecting bcolz\n",
            "\u001b[?25l  Downloading https://files.pythonhosted.org/packages/5c/4e/23942de9d5c0fb16f10335fa83e52b431bcb8c0d4a8419c9ac206268c279/bcolz-1.2.1.tar.gz (1.5MB)\n",
            "\u001b[K    100% |████████████████████████████████| 1.5MB 13.6MB/s \n",
            "\u001b[?25hRequirement already satisfied, skipping upgrade: numpy>=1.7 in /usr/local/lib/python3.6/dist-packages (from bcolz) (1.14.6)\n",
            "Building wheels for collected packages: bcolz\n",
            "  Running setup.py bdist_wheel for bcolz ... \u001b[?25l-\b \b\\\b \b|\b \b/\b \b-\b \b\\\b \b|\b \b/\b \b-\b \b\\\b \b|\b \b/\b \b-\b \b\\\b \b|\b \b/\b \b-\b \b\\\b \b|\b \b/\b \b-\b \b\\\b \b|\b \b/\b \b-\b \b\\\b \b|\b \b/\b \b-\b \b\\\b \b|\b \b/\b \b-\b \b\\\b \b|\b \b/\b \b-\b \b\\\b \b|\b \b/\b \b-\b \b\\\b \b|\b \b/\b \b-\b \b\\\b \b|\b \b/\b \b-\b \b\\\b \b|\b \b/\b \b-\b \b\\\b \b|\b \b/\b \b-\b \b\\\b \b|\b \bdone\n",
            "\u001b[?25h  Stored in directory: /root/.cache/pip/wheels/9f/78/26/fb8c0acb91a100dc8914bf236c4eaa4b207cb876893c40b745\n",
            "Successfully built bcolz\n",
            "Installing collected packages: bcolz\n",
            "Successfully installed bcolz-1.2.1\n"
          ],
          "name": "stdout"
        }
      ]
    },
    {
      "metadata": {
        "id": "DgpyYMXsu_IL",
        "colab_type": "code",
        "outputId": "2fedad85-c3dc-44a8-930f-cde57fd1ee05",
        "colab": {
          "base_uri": "https://localhost:8080/",
          "height": 185
        }
      },
      "cell_type": "code",
      "source": [
        "!pip install Pillow==4.0.0"
      ],
      "execution_count": 6,
      "outputs": [
        {
          "output_type": "stream",
          "text": [
            "Collecting Pillow==4.0.0\n",
            "\u001b[?25l  Downloading https://files.pythonhosted.org/packages/37/e8/b3fbf87b0188d22246678f8cd61e23e31caa1769ebc06f1664e2e5fe8a17/Pillow-4.0.0-cp36-cp36m-manylinux1_x86_64.whl (5.6MB)\n",
            "\u001b[K    100% |████████████████████████████████| 5.6MB 1.2MB/s \n",
            "\u001b[?25hRequirement already satisfied: olefile in /usr/local/lib/python3.6/dist-packages (from Pillow==4.0.0) (0.46)\n",
            "\u001b[31mtorchvision 0.2.1 has requirement pillow>=4.1.1, but you'll have pillow 4.0.0 which is incompatible.\u001b[0m\n",
            "Installing collected packages: Pillow\n",
            "  Found existing installation: Pillow 5.3.0\n",
            "    Uninstalling Pillow-5.3.0:\n",
            "      Successfully uninstalled Pillow-5.3.0\n",
            "Successfully installed Pillow-4.0.0\n"
          ],
          "name": "stdout"
        }
      ]
    },
    {
      "metadata": {
        "id": "gRTTbDoRlow3",
        "colab_type": "code",
        "colab": {}
      },
      "cell_type": "code",
      "source": [
        "from PIL import Image\n",
        "import numpy as np\n",
        "import matplotlib.pyplot as plt\n",
        "import os\n",
        "import torch\n",
        "import torch.nn as nn\n",
        "import torchvision\n",
        "from torchvision import models,transforms,datasets\n",
        "import bcolz\n",
        "import time"
      ],
      "execution_count": 0,
      "outputs": []
    },
    {
      "metadata": {
        "id": "45My7S-Y0lCT",
        "colab_type": "text"
      },
      "cell_type": "markdown",
      "source": [
        "# GPU Settings "
      ]
    },
    {
      "metadata": {
        "id": "WM7hZrucl9PE",
        "colab_type": "code",
        "outputId": "cfbc01fb-e5a7-4dec-9a34-1ad38e5553c0",
        "colab": {
          "base_uri": "https://localhost:8080/",
          "height": 34
        }
      },
      "cell_type": "code",
      "source": [
        "use_gpu = torch.cuda.is_available()\n",
        "print('Using gpu: %s ' % use_gpu)\n",
        "\n",
        "dtype = torch.FloatTensor\n",
        "if use_gpu:\n",
        "    dtype = torch.cuda.FloatTensor"
      ],
      "execution_count": 8,
      "outputs": [
        {
          "output_type": "stream",
          "text": [
            "Using gpu: True \n"
          ],
          "name": "stdout"
        }
      ]
    },
    {
      "metadata": {
        "id": "GwTDQCpm0oJk",
        "colab_type": "text"
      },
      "cell_type": "markdown",
      "source": [
        "# Data Loader"
      ]
    },
    {
      "metadata": {
        "id": "4WVn9nA0wPxX",
        "colab_type": "code",
        "colab": {}
      },
      "cell_type": "code",
      "source": [
        "# loader taken from class example: parameters to verify\n",
        "\n",
        "def save_array(fname, arr):\n",
        "    c=bcolz.carray(arr, rootdir=fname, mode='w')\n",
        "    c.flush()\n",
        "def load_array(fname):\n",
        "    return bcolz.open(fname)[:]\n",
        "\n",
        "normalize = transforms.Normalize(mean=[0.485, 0.456, 0.406], std=[0.229, 0.224, 0.225]) # statistics from imagenet ? \n",
        "\n",
        "prep1 = transforms.Compose([\n",
        "                transforms.CenterCrop(224), # default cropping \n",
        "                transforms.ToTensor(),\n",
        "                normalize,\n",
        "            ])"
      ],
      "execution_count": 0,
      "outputs": []
    },
    {
      "metadata": {
        "id": "H5dXEO_VwY94",
        "colab_type": "code",
        "colab": {}
      },
      "cell_type": "code",
      "source": [
        "data_dir = '/content/data/sample'\n",
        "#data_dir = '/content/data'\n",
        "\n",
        "#batch_size = 4\n",
        "batch_size = 64"
      ],
      "execution_count": 0,
      "outputs": []
    },
    {
      "metadata": {
        "id": "fwh58aPbw0V9",
        "colab_type": "code",
        "colab": {}
      },
      "cell_type": "code",
      "source": [
        "# dictionary of datasets - in this case only train data set \n",
        "dsets = {x: datasets.ImageFolder(os.path.join(data_dir, x), prep1)\n",
        "         for x in ['train', 'test']}"
      ],
      "execution_count": 0,
      "outputs": []
    },
    {
      "metadata": {
        "id": "BHfKaA10ycIf",
        "colab_type": "code",
        "outputId": "d564e778-2e93-49dd-c59c-ae28eac0a13f",
        "colab": {
          "base_uri": "https://localhost:8080/",
          "height": 70
        }
      },
      "cell_type": "code",
      "source": [
        "# train labels \n",
        "print(dsets['train'].imgs[:5]) # 5 first images and labels \n",
        "print(dsets['train'].imgs[len(dsets['train'])-5:]) # 5 last images and labels "
      ],
      "execution_count": 12,
      "outputs": [
        {
          "output_type": "stream",
          "text": [
            "[('/content/data/sample/train/clear/train_10.jpg', 0), ('/content/data/sample/train/clear/train_10001.jpg', 0), ('/content/data/sample/train/clear/train_10013.jpg', 0), ('/content/data/sample/train/clear/train_10014.jpg', 0), ('/content/data/sample/train/clear/train_10038.jpg', 0)]\n",
            "[('/content/data/sample/train/partly_cloudy/train_9849.jpg', 3), ('/content/data/sample/train/partly_cloudy/train_9851.jpg', 3), ('/content/data/sample/train/partly_cloudy/train_9892.jpg', 3), ('/content/data/sample/train/partly_cloudy/train_9921.jpg', 3), ('/content/data/sample/train/partly_cloudy/train_9997.jpg', 3)]\n"
          ],
          "name": "stdout"
        }
      ]
    },
    {
      "metadata": {
        "id": "-enxZHd-mHzt",
        "colab_type": "code",
        "outputId": "acda3319-72b6-4701-9006-cc2922bfd514",
        "colab": {
          "base_uri": "https://localhost:8080/",
          "height": 70
        }
      },
      "cell_type": "code",
      "source": [
        "# test labels \n",
        "print(dsets['test'].imgs[:5]) # 5 first images and labels \n",
        "print(dsets['test'].imgs[len(dsets['test'])-5:]) # 5 last images and labels "
      ],
      "execution_count": 13,
      "outputs": [
        {
          "output_type": "stream",
          "text": [
            "[('/content/data/sample/test/clear/train_10077.jpg', 0), ('/content/data/sample/test/clear/train_10155.jpg', 0), ('/content/data/sample/test/clear/train_10198.jpg', 0), ('/content/data/sample/test/clear/train_10315.jpg', 0), ('/content/data/sample/test/clear/train_10369.jpg', 0)]\n",
            "[('/content/data/sample/test/partly_cloudy/train_9552.jpg', 3), ('/content/data/sample/test/partly_cloudy/train_969.jpg', 3), ('/content/data/sample/test/partly_cloudy/train_9720.jpg', 3), ('/content/data/sample/test/partly_cloudy/train_9772.jpg', 3), ('/content/data/sample/test/partly_cloudy/train_994.jpg', 3)]\n"
          ],
          "name": "stdout"
        }
      ]
    },
    {
      "metadata": {
        "id": "x8yvakTTyAmi",
        "colab_type": "code",
        "outputId": "1f923ea6-2918-462a-c33c-ae8cd434c341",
        "colab": {
          "base_uri": "https://localhost:8080/",
          "height": 34
        }
      },
      "cell_type": "code",
      "source": [
        "dset_classes = dsets['train'].classes\n",
        "dset_classes # binary classes to begin "
      ],
      "execution_count": 14,
      "outputs": [
        {
          "output_type": "execute_result",
          "data": {
            "text/plain": [
              "['clear', 'cloudy', 'haze', 'partly_cloudy']"
            ]
          },
          "metadata": {
            "tags": []
          },
          "execution_count": 14
        }
      ]
    },
    {
      "metadata": {
        "id": "XPtizIgvxUGX",
        "colab_type": "code",
        "colab": {}
      },
      "cell_type": "code",
      "source": [
        "# dictionary of data loaders - again only train for now \n",
        "dset_loaders = {x: torch.utils.data.DataLoader(dsets[x], batch_size=batch_size,\n",
        "                                               shuffle=True, num_workers=0)\n",
        "                for x in ['train', 'test']}"
      ],
      "execution_count": 0,
      "outputs": []
    },
    {
      "metadata": {
        "id": "om8qegy4aGrO",
        "colab_type": "code",
        "outputId": "15ba4ad5-0775-41cd-f959-1dce6e739d59",
        "colab": {
          "base_uri": "https://localhost:8080/",
          "height": 50
        }
      },
      "cell_type": "code",
      "source": [
        "print(len(dsets['train']))\n",
        "print(len(dsets['test']))"
      ],
      "execution_count": 16,
      "outputs": [
        {
          "output_type": "stream",
          "text": [
            "6400\n",
            "1600\n"
          ],
          "name": "stdout"
        }
      ]
    },
    {
      "metadata": {
        "id": "o0GVXkF9Bp2X",
        "colab_type": "text"
      },
      "cell_type": "markdown",
      "source": [
        "# Model: A bit more complex one"
      ]
    },
    {
      "metadata": {
        "id": "n5gAEy1wBxfF",
        "colab_type": "code",
        "colab": {}
      },
      "cell_type": "code",
      "source": [
        "import torch\n",
        "import torch.nn as nn\n",
        "import torch.nn.functional as F\n",
        "\n",
        "class NNet(nn.Module):\n",
        "    def __init__(self):\n",
        "        super(NNet, self).__init__()\n",
        "        self.conv1 = nn.Conv2d(in_channels = 3, out_channels = 32, kernel_size=5)\n",
        "        self.conv2 = nn.Conv2d(in_channels = 32, out_channels = 64, kernel_size=5)\n",
        "        self.conv2_drop = nn.Dropout2d()\n",
        "        self.fc1 = nn.Linear(4096, 256)\n",
        "        self.fc2 = nn.Linear(256, 4)\n",
        "\n",
        "    def forward(self, x):\n",
        "        # First Conv block:\n",
        "        x = self.conv1(x)\n",
        "        x = F.max_pool2d(x, 5)\n",
        "        x = F.relu(x)\n",
        "        \n",
        "        # Second Conv block:\n",
        "        x = self.conv2(x)\n",
        "        x = self.conv2_drop(x)\n",
        "        x = F.max_pool2d(x, 5)\n",
        "        x = F.relu(x)\n",
        "        \n",
        "        # Flatten:\n",
        "        x = x.view(x.size(0), -1)\n",
        "        \n",
        "        # Classifier:\n",
        "        ## First layer:\n",
        "        x = self.fc1(x)\n",
        "        x = F.relu(x)\n",
        "        x = F.dropout(x, training=self.training)\n",
        "        # Second layer:\n",
        "        x = self.fc2(x)\n",
        "        x = F.log_softmax(x, dim=1)\n",
        "\n",
        "        return x"
      ],
      "execution_count": 0,
      "outputs": []
    },
    {
      "metadata": {
        "id": "NAQHJKIM1Tb4",
        "colab_type": "text"
      },
      "cell_type": "markdown",
      "source": [
        "# Training Framework"
      ]
    },
    {
      "metadata": {
        "id": "UpnMbim41FNd",
        "colab_type": "code",
        "colab": {}
      },
      "cell_type": "code",
      "source": [
        "def train(model,data_loader,loss_fn,optimizer,n_epochs=1):\n",
        "    \n",
        "    model.train(True)\n",
        "    \n",
        "    loss_train = np.zeros(n_epochs)\n",
        "    acc_train = np.zeros(n_epochs)\n",
        "    \n",
        "    for epoch_num in range(n_epochs):\n",
        "        running_corrects = 0.0\n",
        "        running_loss = 0.0\n",
        "        size = 0\n",
        "\n",
        "        for data in data_loader:\n",
        "            inputs, labels = data\n",
        "            if use_gpu:\n",
        "                inputs, labels = inputs.cuda(), labels.cuda()    \n",
        "                \n",
        "            # batch_size ?\n",
        "            bs = labels.size(0)\n",
        "            \n",
        "            # define the loss to minimize\n",
        "            outputs = model(inputs)\n",
        "            loss = loss_fn(outputs, labels)\n",
        "            # define the optimizer\n",
        "            optimizer = optimizer\n",
        "            optimizer.zero_grad()\n",
        "            # backpropagation\n",
        "            loss.backward()\n",
        "            optimizer.step()\n",
        "            \n",
        "            # predictions to get statistics \n",
        "            _,preds = torch.max(outputs.data,1)\n",
        "            # statistics\n",
        "            running_loss += loss.data.item()\n",
        "            running_corrects += torch.sum(preds == labels.data)\n",
        "            size += bs\n",
        "        # epoch statistics     \n",
        "        epoch_loss = running_loss / size\n",
        "        epoch_acc = running_corrects.item() / size\n",
        "        loss_train[epoch_num] = epoch_loss\n",
        "        acc_train[epoch_num] = epoch_acc\n",
        "        print('Train - Loss: {:.4f} Acc: {:.4f}'.format(epoch_loss, epoch_acc))\n",
        "        \n",
        "    return loss_train, acc_train"
      ],
      "execution_count": 0,
      "outputs": []
    },
    {
      "metadata": {
        "id": "w55tUh7AFBkT",
        "colab_type": "text"
      },
      "cell_type": "markdown",
      "source": [
        "# Running training epochs"
      ]
    },
    {
      "metadata": {
        "id": "VftjxsGtGKvy",
        "colab_type": "code",
        "colab": {
          "base_uri": "https://localhost:8080/",
          "height": 185
        },
        "outputId": "8906216b-9313-4a4e-b0a5-775d709ba1e7"
      },
      "cell_type": "code",
      "source": [
        "# instanciate the model \n",
        "model = NNet()\n",
        "use_gpu = torch.cuda.is_available()\n",
        "if use_gpu:\n",
        "    model = model.cuda()\n",
        "\n",
        "# choose the appropriate loss\n",
        "loss_fn = torch.nn.CrossEntropyLoss()\n",
        "# learning rate \n",
        "learning_rate = 1e-3\n",
        "# your SGD optimizer\n",
        "optimizer_cl = torch.optim.Adam(model.parameters(), lr=learning_rate)\n",
        "\n",
        "\n",
        "# and train for 10 epochs\n",
        "l_t, a_t = train(model, dset_loaders['train'], loss_fn, optimizer_cl, n_epochs = 10)"
      ],
      "execution_count": 37,
      "outputs": [
        {
          "output_type": "stream",
          "text": [
            "Train - Loss: 0.0146 Acc: 0.6061\n",
            "Train - Loss: 0.0134 Acc: 0.6550\n",
            "Train - Loss: 0.0123 Acc: 0.6891\n",
            "Train - Loss: 0.0119 Acc: 0.6966\n",
            "Train - Loss: 0.0117 Acc: 0.7067\n",
            "Train - Loss: 0.0110 Acc: 0.7344\n",
            "Train - Loss: 0.0105 Acc: 0.7484\n",
            "Train - Loss: 0.0104 Acc: 0.7486\n",
            "Train - Loss: 0.0101 Acc: 0.7612\n",
            "Train - Loss: 0.0095 Acc: 0.7720\n"
          ],
          "name": "stdout"
        }
      ]
    },
    {
      "metadata": {
        "id": "6GvEne6jZ4gD",
        "colab_type": "text"
      },
      "cell_type": "markdown",
      "source": [
        "# Testing "
      ]
    },
    {
      "metadata": {
        "id": "YW0txkc1Z_D5",
        "colab_type": "code",
        "colab": {}
      },
      "cell_type": "code",
      "source": [
        "def test(model,data_loader):\n",
        "    model.train(False)\n",
        "\n",
        "    running_corrects = 0.0\n",
        "    running_loss = 0.0\n",
        "    size = 0\n",
        "\n",
        "    for data in data_loader:\n",
        "        inputs, labels = data\n",
        "        if use_gpu:\n",
        "            inputs, labels = inputs.cuda(), labels.cuda()\n",
        "            \n",
        "        bs = labels.size(0)\n",
        "                \n",
        "        outputs = model(inputs)\n",
        "        loss = loss_fn(outputs, labels)\n",
        "        _,preds = torch.max(outputs.data,1)\n",
        "        \n",
        "        # statistics\n",
        "        running_loss += loss.data.item()\n",
        "        running_corrects += torch.sum(preds == labels.data)\n",
        "        size += bs\n",
        "\n",
        "    print('Test - Loss: {:.4f} Acc: {:.4f}'.format(running_loss / size, running_corrects.item() / size))"
      ],
      "execution_count": 0,
      "outputs": []
    },
    {
      "metadata": {
        "id": "OcpLu8PJkida",
        "colab_type": "code",
        "colab": {
          "base_uri": "https://localhost:8080/",
          "height": 34
        },
        "outputId": "f21217e0-4f09-4211-81bb-9b5acdb1d16f"
      },
      "cell_type": "code",
      "source": [
        "# using 'hidden'\n",
        "\n",
        "test(model, dset_loaders['test'])"
      ],
      "execution_count": 39,
      "outputs": [
        {
          "output_type": "stream",
          "text": [
            "Test - Loss: 0.0099 Acc: 0.7631\n"
          ],
          "name": "stdout"
        }
      ]
    }
  ]
}