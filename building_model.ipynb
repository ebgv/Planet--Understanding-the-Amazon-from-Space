{
  "nbformat": 4,
  "nbformat_minor": 0,
  "metadata": {
    "colab": {
      "name": "building_model.ipynb",
      "version": "0.3.2",
      "provenance": [],
      "collapsed_sections": [],
      "include_colab_link": true
    },
    "kernelspec": {
      "name": "python3",
      "display_name": "Python 3"
    },
    "accelerator": "GPU"
  },
  "cells": [
    {
      "cell_type": "markdown",
      "metadata": {
        "id": "view-in-github",
        "colab_type": "text"
      },
      "source": [
        "[![Open In Colab](https://colab.research.google.com/assets/colab-badge.svg)](https://colab.research.google.com/github/ebgv/Planet--Understanding-the-Amazon-from-Space/blob/master/building_model.ipynb)"
      ]
    },
    {
      "metadata": {
        "id": "awDU7mmlvcva",
        "colab_type": "code",
        "colab": {
          "base_uri": "https://localhost:8080/",
          "height": 34
        },
        "outputId": "8d7c6630-1dd1-4c74-ad00-75ecd4faead3"
      },
      "cell_type": "code",
      "source": [
        "# check the environment \n",
        "\n",
        "%ls"
      ],
      "execution_count": 2,
      "outputs": [
        {
          "output_type": "stream",
          "text": [
            "\u001b[0m\u001b[01;34mdata\u001b[0m/  \u001b[01;34msample_data\u001b[0m/\n"
          ],
          "name": "stdout"
        }
      ]
    },
    {
      "metadata": {
        "id": "S1OG8FpLalVP",
        "colab_type": "code",
        "colab": {
          "base_uri": "https://localhost:8080/",
          "height": 119
        },
        "outputId": "073ed55e-73b7-4fcb-e3dd-7efd5c885358"
      },
      "cell_type": "code",
      "source": [
        "# check if the data is in the environment \n",
        "\n",
        "%cd /content/data/sample/test/cloudy\n",
        "%ls"
      ],
      "execution_count": 3,
      "outputs": [
        {
          "output_type": "stream",
          "text": [
            "/content/data/sample/test/cloudy\n",
            "train_13312.jpg  train_22371.jpg  train_28309.jpg  train_6465.jpg\n",
            "train_15915.jpg  train_2424.jpg   train_34531.jpg  train_6694.jpg\n",
            "train_18976.jpg  train_25952.jpg  train_38947.jpg  train_7308.jpg\n",
            "train_19000.jpg  train_26540.jpg  train_4214.jpg   train_8519.jpg\n",
            "train_20914.jpg  train_27921.jpg  train_5032.jpg   train_9300.jpg\n"
          ],
          "name": "stdout"
        }
      ]
    },
    {
      "metadata": {
        "id": "U9ULE4_ibLQm",
        "colab_type": "code",
        "colab": {
          "base_uri": "https://localhost:8080/",
          "height": 119
        },
        "outputId": "7ae0c4a4-a709-47c6-8d2a-ed9b0da7b6e4"
      },
      "cell_type": "code",
      "source": [
        "# check if the data is in the environment \n",
        "\n",
        "%cd /content/data/sample/train/cloudy\n",
        "%ls"
      ],
      "execution_count": 4,
      "outputs": [
        {
          "output_type": "stream",
          "text": [
            "/content/data/sample/train/cloudy\n",
            "train_10663.jpg  train_19130.jpg  train_31869.jpg  train_35987.jpg\n",
            "train_10687.jpg  train_22569.jpg  train_32283.jpg  train_36363.jpg\n",
            "train_11294.jpg  train_24328.jpg  train_32513.jpg  train_37350.jpg\n",
            "train_13248.jpg  train_26341.jpg  train_33291.jpg  train_38968.jpg\n",
            "train_17009.jpg  train_28686.jpg  train_33639.jpg  train_40475.jpg\n"
          ],
          "name": "stdout"
        }
      ]
    },
    {
      "metadata": {
        "id": "_UGf6tQ20ez2",
        "colab_type": "text"
      },
      "cell_type": "markdown",
      "source": [
        "# Imports "
      ]
    },
    {
      "metadata": {
        "id": "vDd0uFd2udSm",
        "colab_type": "code",
        "colab": {
          "base_uri": "https://localhost:8080/",
          "height": 54
        },
        "outputId": "f104ddf8-ba8e-443f-993c-b56a4ed0fbbf"
      },
      "cell_type": "code",
      "source": [
        "# to install pytorch on colab\n",
        "from os import path\n",
        "from wheel.pep425tags import get_abbr_impl, get_impl_ver, get_abi_tag\n",
        "platform = '{}{}-{}'.format(get_abbr_impl(), get_impl_ver(), get_abi_tag())\n",
        "\n",
        "accelerator = 'cu80' if path.exists('/opt/bin/nvidia-smi') else 'cpu'\n",
        "\n",
        "!pip install -q http://download.pytorch.org/whl/{accelerator}/torch-0.4.1-{platform}-linux_x86_64.whl torchvision"
      ],
      "execution_count": 5,
      "outputs": [
        {
          "output_type": "stream",
          "text": [
            "tcmalloc: large alloc 1073750016 bytes == 0x563f4000 @  0x7fb705a872a4 0x594e17 0x626104 0x51190a 0x4f5277 0x510c78 0x5119bd 0x4f5277 0x4f3338 0x510fb0 0x5119bd 0x4f5277 0x4f3338 0x510fb0 0x5119bd 0x4f5277 0x4f3338 0x510fb0 0x5119bd 0x4f6070 0x510c78 0x5119bd 0x4f5277 0x4f3338 0x510fb0 0x5119bd 0x4f6070 0x4f3338 0x510fb0 0x5119bd 0x4f6070\n"
          ],
          "name": "stdout"
        }
      ]
    },
    {
      "metadata": {
        "id": "Ql1P1A4yus4B",
        "colab_type": "code",
        "outputId": "346fd6b0-a3b1-479a-813a-7b536a11b538",
        "colab": {
          "base_uri": "https://localhost:8080/",
          "height": 207
        }
      },
      "cell_type": "code",
      "source": [
        "!pip install -U bcolz"
      ],
      "execution_count": 6,
      "outputs": [
        {
          "output_type": "stream",
          "text": [
            "Collecting bcolz\n",
            "\u001b[?25l  Downloading https://files.pythonhosted.org/packages/5c/4e/23942de9d5c0fb16f10335fa83e52b431bcb8c0d4a8419c9ac206268c279/bcolz-1.2.1.tar.gz (1.5MB)\n",
            "\r\u001b[K    0% |▎                               | 10kB 17.5MB/s eta 0:00:01\r\u001b[K    1% |▌                               | 20kB 4.2MB/s eta 0:00:01\r\u001b[K    2% |▊                               | 30kB 6.0MB/s eta 0:00:01\r\u001b[K    2% |█                               | 40kB 4.0MB/s eta 0:00:01\r\u001b[K    3% |█▏                              | 51kB 4.9MB/s eta 0:00:01\r\u001b[K    4% |█▍                              | 61kB 5.7MB/s eta 0:00:01\r\u001b[K    4% |█▋                              | 71kB 6.5MB/s eta 0:00:01\r\u001b[K    5% |█▉                              | 81kB 7.3MB/s eta 0:00:01\r\u001b[K    6% |██                              | 92kB 8.1MB/s eta 0:00:01\r\u001b[K    7% |██▎                             | 102kB 6.4MB/s eta 0:00:01\r\u001b[K    7% |██▌                             | 112kB 6.5MB/s eta 0:00:01\r\u001b[K    8% |██▊                             | 122kB 8.7MB/s eta 0:00:01\r\u001b[K    9% |███                             | 133kB 8.5MB/s eta 0:00:01\r\u001b[K    9% |███▏                            | 143kB 14.6MB/s eta 0:00:01\r\u001b[K    10% |███▍                            | 153kB 14.7MB/s eta 0:00:01\r\u001b[K    11% |███▋                            | 163kB 14.6MB/s eta 0:00:01\r\u001b[K    11% |███▉                            | 174kB 14.5MB/s eta 0:00:01\r\u001b[K    12% |████                            | 184kB 14.7MB/s eta 0:00:01\r\u001b[K    13% |████▎                           | 194kB 14.7MB/s eta 0:00:01\r\u001b[K    14% |████▌                           | 204kB 36.1MB/s eta 0:00:01\r\u001b[K    14% |████▊                           | 215kB 19.2MB/s eta 0:00:01\r\u001b[K    15% |█████                           | 225kB 19.1MB/s eta 0:00:01\r\u001b[K    16% |█████▏                          | 235kB 20.4MB/s eta 0:00:01\r\u001b[K    16% |█████▍                          | 245kB 20.4MB/s eta 0:00:01\r\u001b[K    17% |█████▋                          | 256kB 20.5MB/s eta 0:00:01\r\u001b[K    18% |█████▉                          | 266kB 19.3MB/s eta 0:00:01\r\u001b[K    18% |██████                          | 276kB 19.7MB/s eta 0:00:01\r\u001b[K    19% |██████▎                         | 286kB 19.7MB/s eta 0:00:01\r\u001b[K    20% |██████▌                         | 296kB 19.6MB/s eta 0:00:01\r\u001b[K    21% |██████▊                         | 307kB 20.2MB/s eta 0:00:01\r\u001b[K    21% |███████                         | 317kB 44.8MB/s eta 0:00:01\r\u001b[K    22% |███████▏                        | 327kB 45.8MB/s eta 0:00:01\r\u001b[K    23% |███████▍                        | 337kB 46.6MB/s eta 0:00:01\r\u001b[K    23% |███████▋                        | 348kB 41.0MB/s eta 0:00:01\r\u001b[K    24% |███████▉                        | 358kB 40.5MB/s eta 0:00:01\r\u001b[K    25% |████████                        | 368kB 45.8MB/s eta 0:00:01\r\u001b[K    25% |████████▎                       | 378kB 45.1MB/s eta 0:00:01\r\u001b[K    26% |████████▌                       | 389kB 43.4MB/s eta 0:00:01\r\u001b[K    27% |████████▊                       | 399kB 43.6MB/s eta 0:00:01\r\u001b[K    28% |█████████                       | 409kB 43.7MB/s eta 0:00:01\r\u001b[K    28% |█████████▏                      | 419kB 44.0MB/s eta 0:00:01\r\u001b[K    29% |█████████▍                      | 430kB 33.0MB/s eta 0:00:01\r\u001b[K    30% |█████████▋                      | 440kB 32.6MB/s eta 0:00:01\r\u001b[K    30% |█████████▉                      | 450kB 33.6MB/s eta 0:00:01\r\u001b[K    31% |██████████                      | 460kB 33.8MB/s eta 0:00:01\r\u001b[K    32% |██████████▎                     | 471kB 35.1MB/s eta 0:00:01\r\u001b[K    32% |██████████▋                     | 481kB 35.6MB/s eta 0:00:01\r\u001b[K    33% |██████████▉                     | 491kB 36.7MB/s eta 0:00:01\r\u001b[K    34% |███████████                     | 501kB 36.8MB/s eta 0:00:01\r\u001b[K    35% |███████████▎                    | 512kB 34.9MB/s eta 0:00:01\r\u001b[K    35% |███████████▌                    | 522kB 34.8MB/s eta 0:00:01\r\u001b[K    36% |███████████▊                    | 532kB 47.6MB/s eta 0:00:01\r\u001b[K    37% |████████████                    | 542kB 48.1MB/s eta 0:00:01\r\u001b[K    37% |████████████▏                   | 552kB 53.6MB/s eta 0:00:01\r\u001b[K    38% |████████████▍                   | 563kB 53.6MB/s eta 0:00:01\r\u001b[K    39% |████████████▋                   | 573kB 52.6MB/s eta 0:00:01\r\u001b[K    40% |████████████▉                   | 583kB 52.6MB/s eta 0:00:01\r\u001b[K    40% |█████████████                   | 593kB 51.7MB/s eta 0:00:01\r\u001b[K    41% |█████████████▎                  | 604kB 52.2MB/s eta 0:00:01\r\u001b[K    42% |█████████████▌                  | 614kB 55.8MB/s eta 0:00:01\r\u001b[K    42% |█████████████▊                  | 624kB 54.9MB/s eta 0:00:01\r\u001b[K    43% |██████████████                  | 634kB 55.2MB/s eta 0:00:01\r\u001b[K    44% |██████████████▏                 | 645kB 55.4MB/s eta 0:00:01\r\u001b[K    44% |██████████████▍                 | 655kB 53.6MB/s eta 0:00:01\r\u001b[K    45% |██████████████▋                 | 665kB 40.0MB/s eta 0:00:01\r\u001b[K    46% |██████████████▉                 | 675kB 38.1MB/s eta 0:00:01\r\u001b[K    47% |███████████████                 | 686kB 38.1MB/s eta 0:00:01\r\u001b[K    47% |███████████████▎                | 696kB 38.2MB/s eta 0:00:01\r\u001b[K    48% |███████████████▌                | 706kB 37.6MB/s eta 0:00:01\r\u001b[K    49% |███████████████▊                | 716kB 38.1MB/s eta 0:00:01\r\u001b[K    49% |████████████████                | 727kB 37.6MB/s eta 0:00:01\r\u001b[K    50% |████████████████▏               | 737kB 37.0MB/s eta 0:00:01\r\u001b[K    51% |████████████████▍               | 747kB 36.7MB/s eta 0:00:01\r\u001b[K    51% |████████████████▋               | 757kB 37.4MB/s eta 0:00:01\r\u001b[K    52% |████████████████▉               | 768kB 49.4MB/s eta 0:00:01\r\u001b[K    53% |█████████████████               | 778kB 52.0MB/s eta 0:00:01\r\u001b[K    54% |█████████████████▎              | 788kB 51.7MB/s eta 0:00:01\r\u001b[K    54% |█████████████████▌              | 798kB 51.7MB/s eta 0:00:01\r\u001b[K    55% |█████████████████▊              | 808kB 52.1MB/s eta 0:00:01\r\u001b[K    56% |██████████████████              | 819kB 50.2MB/s eta 0:00:01\r\u001b[K    56% |██████████████████▏             | 829kB 50.4MB/s eta 0:00:01\r\u001b[K    57% |██████████████████▍             | 839kB 51.0MB/s eta 0:00:01\r\u001b[K    58% |██████████████████▋             | 849kB 51.9MB/s eta 0:00:01\r\u001b[K    58% |██████████████████▉             | 860kB 47.2MB/s eta 0:00:01\r\u001b[K    59% |███████████████████             | 870kB 46.5MB/s eta 0:00:01\r\u001b[K    60% |███████████████████▎            | 880kB 47.7MB/s eta 0:00:01\r\u001b[K    61% |███████████████████▌            | 890kB 48.0MB/s eta 0:00:01\r\u001b[K    61% |███████████████████▊            | 901kB 48.3MB/s eta 0:00:01\r\u001b[K    62% |████████████████████            | 911kB 48.9MB/s eta 0:00:01\r\u001b[K    63% |████████████████████▏           | 921kB 50.7MB/s eta 0:00:01\r\u001b[K    63% |████████████████████▍           | 931kB 51.8MB/s eta 0:00:01\r\u001b[K    64% |████████████████████▋           | 942kB 52.0MB/s eta 0:00:01\r\u001b[K    65% |████████████████████▉           | 952kB 51.6MB/s eta 0:00:01\r\u001b[K    65% |█████████████████████▏          | 962kB 58.6MB/s eta 0:00:01\r\u001b[K    66% |█████████████████████▍          | 972kB 59.9MB/s eta 0:00:01\r\u001b[K    67% |█████████████████████▋          | 983kB 58.8MB/s eta 0:00:01\r\u001b[K    68% |█████████████████████▉          | 993kB 58.3MB/s eta 0:00:01\r\u001b[K    68% |██████████████████████          | 1.0MB 58.9MB/s eta 0:00:01\r\u001b[K    69% |██████████████████████▎         | 1.0MB 59.5MB/s eta 0:00:01\r\u001b[K    70% |██████████████████████▌         | 1.0MB 59.9MB/s eta 0:00:01\r\u001b[K    70% |██████████████████████▊         | 1.0MB 60.1MB/s eta 0:00:01\r\u001b[K    71% |███████████████████████         | 1.0MB 58.8MB/s eta 0:00:01\r\u001b[K    72% |███████████████████████▏        | 1.1MB 58.8MB/s eta 0:00:01\r\u001b[K    72% |███████████████████████▍        | 1.1MB 57.8MB/s eta 0:00:01\r\u001b[K    73% |███████████████████████▋        | 1.1MB 57.9MB/s eta 0:00:01\r\u001b[K    74% |███████████████████████▉        | 1.1MB 58.4MB/s eta 0:00:01\r\u001b[K    75% |████████████████████████        | 1.1MB 49.4MB/s eta 0:00:01\r\u001b[K    75% |████████████████████████▎       | 1.1MB 49.0MB/s eta 0:00:01\r\u001b[K    76% |████████████████████████▌       | 1.1MB 48.5MB/s eta 0:00:01\r\u001b[K    77% |████████████████████████▊       | 1.1MB 48.8MB/s eta 0:00:01\r\u001b[K    77% |█████████████████████████       | 1.1MB 48.3MB/s eta 0:00:01\r\u001b[K    78% |█████████████████████████▏      | 1.1MB 48.2MB/s eta 0:00:01\r\u001b[K    79% |█████████████████████████▍      | 1.2MB 48.5MB/s eta 0:00:01\r\u001b[K    80% |█████████████████████████▋      | 1.2MB 48.6MB/s eta 0:00:01\r\u001b[K    80% |█████████████████████████▉      | 1.2MB 48.8MB/s eta 0:00:01\r\u001b[K    81% |██████████████████████████      | 1.2MB 48.5MB/s eta 0:00:01\r\u001b[K    82% |██████████████████████████▎     | 1.2MB 55.4MB/s eta 0:00:01\r\u001b[K    82% |██████████████████████████▌     | 1.2MB 55.5MB/s eta 0:00:01\r\u001b[K    83% |██████████████████████████▊     | 1.2MB 55.5MB/s eta 0:00:01\r\u001b[K    84% |███████████████████████████     | 1.2MB 54.8MB/s eta 0:00:01\r\u001b[K    84% |███████████████████████████▏    | 1.2MB 55.9MB/s eta 0:00:01\r\u001b[K    85% |███████████████████████████▍    | 1.2MB 55.5MB/s eta 0:00:01\r\u001b[K    86% |███████████████████████████▋    | 1.3MB 53.8MB/s eta 0:00:01\r\u001b[K    87% |███████████████████████████▉    | 1.3MB 53.8MB/s eta 0:00:01\r\u001b[K    87% |████████████████████████████    | 1.3MB 53.2MB/s eta 0:00:01\r\u001b[K    88% |████████████████████████████▎   | 1.3MB 53.1MB/s eta 0:00:01\r\u001b[K    89% |████████████████████████████▌   | 1.3MB 54.4MB/s eta 0:00:01\r\u001b[K    89% |████████████████████████████▊   | 1.3MB 53.3MB/s eta 0:00:01\r\u001b[K    90% |█████████████████████████████   | 1.3MB 53.7MB/s eta 0:00:01\r\u001b[K    91% |█████████████████████████████▏  | 1.3MB 53.7MB/s eta 0:00:01\r\u001b[K    91% |█████████████████████████████▍  | 1.3MB 53.7MB/s eta 0:00:01\r\u001b[K    92% |█████████████████████████████▋  | 1.4MB 54.8MB/s eta 0:00:01\r\u001b[K    93% |█████████████████████████████▉  | 1.4MB 55.1MB/s eta 0:00:01\r\u001b[K    94% |██████████████████████████████  | 1.4MB 54.0MB/s eta 0:00:01\r\u001b[K    94% |██████████████████████████████▎ | 1.4MB 54.0MB/s eta 0:00:01\r\u001b[K    95% |██████████████████████████████▌ | 1.4MB 53.8MB/s eta 0:00:01\r\u001b[K    96% |██████████████████████████████▊ | 1.4MB 34.1MB/s eta 0:00:01\r\u001b[K    96% |███████████████████████████████ | 1.4MB 33.9MB/s eta 0:00:01\r\u001b[K    97% |███████████████████████████████▏| 1.4MB 33.9MB/s eta 0:00:01\r\u001b[K    98% |███████████████████████████████▍| 1.4MB 33.8MB/s eta 0:00:01\r\u001b[K    98% |███████████████████████████████▊| 1.4MB 33.6MB/s eta 0:00:01\r\u001b[K    99% |████████████████████████████████| 1.5MB 33.5MB/s eta 0:00:01\r\u001b[K    100% |████████████████████████████████| 1.5MB 14.7MB/s \n",
            "\u001b[?25hRequirement already satisfied, skipping upgrade: numpy>=1.7 in /usr/local/lib/python3.6/dist-packages (from bcolz) (1.14.6)\n",
            "Building wheels for collected packages: bcolz\n",
            "  Running setup.py bdist_wheel for bcolz ... \u001b[?25l-\b \b\\\b \b|\b \b/\b \b-\b \b\\\b \b|\b \b/\b \b-\b \b\\\b \b|\b \b/\b \b-\b \b\\\b \b|\b \b/\b \b-\b \b\\\b \b|\b \b/\b \b-\b \b\\\b \b|\b \b/\b \b-\b \b\\\b \b|\b \b/\b \b-\b \b\\\b \b|\b \b/\b \b-\b \b\\\b \b|\b \b/\b \b-\b \b\\\b \b|\b \b/\b \b-\b \b\\\b \b|\b \b/\b \b-\b \b\\\b \b|\b \b/\b \b-\b \b\\\b \b|\b \b/\b \b-\b \b\\\b \b|\b \b/\b \b-\b \b\\\b \bdone\n",
            "\u001b[?25h  Stored in directory: /root/.cache/pip/wheels/9f/78/26/fb8c0acb91a100dc8914bf236c4eaa4b207cb876893c40b745\n",
            "Successfully built bcolz\n",
            "Installing collected packages: bcolz\n",
            "Successfully installed bcolz-1.2.1\n"
          ],
          "name": "stdout"
        }
      ]
    },
    {
      "metadata": {
        "id": "DgpyYMXsu_IL",
        "colab_type": "code",
        "outputId": "411d9010-2623-4ff9-f930-3433736362ee",
        "colab": {
          "base_uri": "https://localhost:8080/",
          "height": 207
        }
      },
      "cell_type": "code",
      "source": [
        "!pip install Pillow==4.0.0"
      ],
      "execution_count": 7,
      "outputs": [
        {
          "output_type": "stream",
          "text": [
            "Collecting Pillow==4.0.0\n",
            "\u001b[?25l  Downloading https://files.pythonhosted.org/packages/37/e8/b3fbf87b0188d22246678f8cd61e23e31caa1769ebc06f1664e2e5fe8a17/Pillow-4.0.0-cp36-cp36m-manylinux1_x86_64.whl (5.6MB)\n",
            "\u001b[K    100% |████████████████████████████████| 5.6MB 6.7MB/s \n",
            "\u001b[?25hRequirement already satisfied: olefile in /usr/local/lib/python3.6/dist-packages (from Pillow==4.0.0) (0.46)\n",
            "\u001b[31mtorchvision 0.2.1 has requirement pillow>=4.1.1, but you'll have pillow 4.0.0 which is incompatible.\u001b[0m\n",
            "Installing collected packages: Pillow\n",
            "  Found existing installation: Pillow 5.3.0\n",
            "    Uninstalling Pillow-5.3.0:\n",
            "      Successfully uninstalled Pillow-5.3.0\n",
            "Successfully installed Pillow-4.0.0\n"
          ],
          "name": "stdout"
        }
      ]
    },
    {
      "metadata": {
        "id": "gRTTbDoRlow3",
        "colab_type": "code",
        "colab": {}
      },
      "cell_type": "code",
      "source": [
        "from PIL import Image\n",
        "import numpy as np\n",
        "import matplotlib.pyplot as plt\n",
        "import os\n",
        "import torch\n",
        "import torch.nn as nn\n",
        "import torchvision\n",
        "from torchvision import models,transforms,datasets\n",
        "import bcolz\n",
        "import time"
      ],
      "execution_count": 0,
      "outputs": []
    },
    {
      "metadata": {
        "id": "45My7S-Y0lCT",
        "colab_type": "text"
      },
      "cell_type": "markdown",
      "source": [
        "# GPU Settings "
      ]
    },
    {
      "metadata": {
        "id": "WM7hZrucl9PE",
        "colab_type": "code",
        "outputId": "5dcf2924-8122-415d-9319-3da5a0dc98a6",
        "colab": {
          "base_uri": "https://localhost:8080/",
          "height": 34
        }
      },
      "cell_type": "code",
      "source": [
        "use_gpu = torch.cuda.is_available()\n",
        "print('Using gpu: %s ' % use_gpu)\n",
        "\n",
        "dtype = torch.FloatTensor\n",
        "if use_gpu:\n",
        "    dtype = torch.cuda.FloatTensor"
      ],
      "execution_count": 9,
      "outputs": [
        {
          "output_type": "stream",
          "text": [
            "Using gpu: True \n"
          ],
          "name": "stdout"
        }
      ]
    },
    {
      "metadata": {
        "id": "GwTDQCpm0oJk",
        "colab_type": "text"
      },
      "cell_type": "markdown",
      "source": [
        "# Data Loader"
      ]
    },
    {
      "metadata": {
        "id": "4WVn9nA0wPxX",
        "colab_type": "code",
        "colab": {}
      },
      "cell_type": "code",
      "source": [
        "# loader taken from class example: parameters to verify\n",
        "\n",
        "def save_array(fname, arr):\n",
        "    c=bcolz.carray(arr, rootdir=fname, mode='w')\n",
        "    c.flush()\n",
        "def load_array(fname):\n",
        "    return bcolz.open(fname)[:]\n",
        "\n",
        "normalize = transforms.Normalize(mean=[0.485, 0.456, 0.406], std=[0.229, 0.224, 0.225]) # statistics from imagenet ? \n",
        "\n",
        "prep1 = transforms.Compose([\n",
        "                transforms.CenterCrop(224), # default cropping \n",
        "                transforms.ToTensor(),\n",
        "                normalize,\n",
        "            ])"
      ],
      "execution_count": 0,
      "outputs": []
    },
    {
      "metadata": {
        "id": "H5dXEO_VwY94",
        "colab_type": "code",
        "colab": {}
      },
      "cell_type": "code",
      "source": [
        "data_dir = '/content/data/sample'\n",
        "#data_dir = '/content/data'\n",
        "\n",
        "batch_size = 4\n",
        "#batch_size = 64"
      ],
      "execution_count": 0,
      "outputs": []
    },
    {
      "metadata": {
        "id": "fwh58aPbw0V9",
        "colab_type": "code",
        "colab": {}
      },
      "cell_type": "code",
      "source": [
        "# dictionary of datasets - in this case only train data set \n",
        "dsets = {x: datasets.ImageFolder(os.path.join(data_dir, x), prep1)\n",
        "         for x in ['train', 'test']}"
      ],
      "execution_count": 0,
      "outputs": []
    },
    {
      "metadata": {
        "id": "BHfKaA10ycIf",
        "colab_type": "code",
        "outputId": "a0724212-d3ad-4833-e08d-a23653c44804",
        "colab": {
          "base_uri": "https://localhost:8080/",
          "height": 71
        }
      },
      "cell_type": "code",
      "source": [
        "# train labels \n",
        "print(dsets['train'].imgs[:5]) # 5 first images and labels \n",
        "print(dsets['train'].imgs[len(dsets['train'])-5:]) # 5 last images and labels "
      ],
      "execution_count": 13,
      "outputs": [
        {
          "output_type": "stream",
          "text": [
            "[('/content/data/sample/train/clear/train_10162.jpg', 0), ('/content/data/sample/train/clear/train_10190.jpg', 0), ('/content/data/sample/train/clear/train_10463.jpg', 0), ('/content/data/sample/train/clear/train_12265.jpg', 0), ('/content/data/sample/train/clear/train_17530.jpg', 0)]\n",
            "[('/content/data/sample/train/partly_cloudy/train_5260.jpg', 3), ('/content/data/sample/train/partly_cloudy/train_7695.jpg', 3), ('/content/data/sample/train/partly_cloudy/train_8991.jpg', 3), ('/content/data/sample/train/partly_cloudy/train_9348.jpg', 3), ('/content/data/sample/train/partly_cloudy/train_9581.jpg', 3)]\n"
          ],
          "name": "stdout"
        }
      ]
    },
    {
      "metadata": {
        "id": "-enxZHd-mHzt",
        "colab_type": "code",
        "colab": {
          "base_uri": "https://localhost:8080/",
          "height": 71
        },
        "outputId": "87bffdc0-5381-452c-bfed-f1f5d881ac28"
      },
      "cell_type": "code",
      "source": [
        "# test labels \n",
        "print(dsets['test'].imgs[:5]) # 5 first images and labels \n",
        "print(dsets['test'].imgs[len(dsets['test'])-5:]) # 5 last images and labels "
      ],
      "execution_count": 14,
      "outputs": [
        {
          "output_type": "stream",
          "text": [
            "[('/content/data/sample/test/clear/train_11403.jpg', 0), ('/content/data/sample/test/clear/train_11708.jpg', 0), ('/content/data/sample/test/clear/train_14992.jpg', 0), ('/content/data/sample/test/clear/train_16269.jpg', 0), ('/content/data/sample/test/clear/train_22239.jpg', 0)]\n",
            "[('/content/data/sample/test/partly_cloudy/train_8311.jpg', 3), ('/content/data/sample/test/partly_cloudy/train_8746.jpg', 3), ('/content/data/sample/test/partly_cloudy/train_9150.jpg', 3), ('/content/data/sample/test/partly_cloudy/train_9278.jpg', 3), ('/content/data/sample/test/partly_cloudy/train_9707.jpg', 3)]\n"
          ],
          "name": "stdout"
        }
      ]
    },
    {
      "metadata": {
        "id": "x8yvakTTyAmi",
        "colab_type": "code",
        "outputId": "3959fb60-755c-49d0-b44b-4777e0a11ee7",
        "colab": {
          "base_uri": "https://localhost:8080/",
          "height": 34
        }
      },
      "cell_type": "code",
      "source": [
        "dset_classes = dsets['train'].classes\n",
        "dset_classes # binary classes to begin "
      ],
      "execution_count": 15,
      "outputs": [
        {
          "output_type": "execute_result",
          "data": {
            "text/plain": [
              "['clear', 'cloudy', 'haze', 'partly_cloudy']"
            ]
          },
          "metadata": {
            "tags": []
          },
          "execution_count": 15
        }
      ]
    },
    {
      "metadata": {
        "id": "XPtizIgvxUGX",
        "colab_type": "code",
        "colab": {}
      },
      "cell_type": "code",
      "source": [
        "# dictionary of data loaders - again only train for now \n",
        "dset_loaders = {x: torch.utils.data.DataLoader(dsets[x], batch_size=batch_size,\n",
        "                                               shuffle=False, num_workers=0)\n",
        "                for x in ['train', 'test']}"
      ],
      "execution_count": 0,
      "outputs": []
    },
    {
      "metadata": {
        "id": "om8qegy4aGrO",
        "colab_type": "code",
        "colab": {
          "base_uri": "https://localhost:8080/",
          "height": 51
        },
        "outputId": "418897cd-6cea-4658-b783-83543503835d"
      },
      "cell_type": "code",
      "source": [
        "print(len(dsets['train']))\n",
        "print(len(dsets['test']))"
      ],
      "execution_count": 17,
      "outputs": [
        {
          "output_type": "stream",
          "text": [
            "80\n",
            "80\n"
          ],
          "name": "stdout"
        }
      ]
    },
    {
      "metadata": {
        "id": "nnt0LiD61EMJ",
        "colab_type": "text"
      },
      "cell_type": "markdown",
      "source": [
        "# Model: simple classifier from scratch"
      ]
    },
    {
      "metadata": {
        "id": "JpeEpPcrxu9x",
        "colab_type": "code",
        "colab": {}
      },
      "cell_type": "code",
      "source": [
        "# need to understand parameters in more details !!!!\n",
        "\n",
        "import torch.nn as nn\n",
        "import torch.nn.functional as F # other way to define layers: when no need to update parameters \n",
        "\n",
        "# max pooling layer is not in init: no parameters to update ie. deterministic function  \n",
        "\n",
        "class classifier(nn.Module):\n",
        "    \n",
        "    def __init__(self):\n",
        "        super(classifier, self).__init__() # do the init from the inherited class\n",
        "        # then what are the parameters of the network: need to be defined in init \n",
        "        # fill the missing entries below\n",
        "        self.conv1 = nn.Conv2d(in_channels=3, out_channels=64, kernel_size=3, padding=1) # check meaning of arguments  \n",
        "        self.fc = nn.Linear(in_features=32*32*64, out_features=4) # 32 = 224 / 7\n",
        "        \n",
        "    def forward(self,x):\n",
        "        # implement your network here, use F.max_pool2d, F.log_softmax and do not forget to flatten your vector\n",
        "        x = self.conv1(x)\n",
        "        x = F.max_pool2d(x, kernel_size=7, stride=7)\n",
        "        x = x.view(-1, 32*32*64) # flatten \n",
        "        x = self.fc(x)\n",
        "        return F.log_softmax(x, dim=1) # softmax across the line ! not the component \n",
        "    \n",
        "# since we inherit from nn module, the forward is called by default (do not call classifier.forward() !!"
      ],
      "execution_count": 0,
      "outputs": []
    },
    {
      "metadata": {
        "id": "r1h7QqLAzktS",
        "colab_type": "text"
      },
      "cell_type": "markdown",
      "source": [
        "# Model vgg16 by hand "
      ]
    },
    {
      "metadata": {
        "id": "X45_ZlO9zjke",
        "colab_type": "code",
        "colab": {}
      },
      "cell_type": "code",
      "source": [
        "import torch\n",
        "import torch.nn as nn\n",
        "import torch.nn.functional as F\n",
        "\n",
        "\n",
        "class VGG_16(nn.Module):\n",
        "\n",
        "    def __init__(self,num_classes=4):\n",
        "        super(VGG_16, self).__init__()\n",
        "        self.convblock1 = nn.Sequential(\n",
        "            nn.Conv2d(3, 64, kernel_size=3, padding=1),\n",
        "            nn.ReLU(inplace=True),\n",
        "            nn.Conv2d(64, 64, kernel_size=3, padding=1),\n",
        "            nn.ReLU(inplace=True),\n",
        "            nn.MaxPool2d(kernel_size=2, stride=2),\n",
        "        )\n",
        "        self.convblock2 = nn.Sequential(\n",
        "            nn.Conv2d(64, 128, kernel_size=3, padding=1),\n",
        "            nn.ReLU(inplace=True),\n",
        "            nn.Conv2d(128, 128, kernel_size=3, padding=1),\n",
        "            nn.ReLU(inplace=True),\n",
        "            nn.MaxPool2d(kernel_size=2, stride=2),\n",
        "        )\n",
        "        self.convblock3 = nn.Sequential(\n",
        "            nn.Conv2d(128, 256, kernel_size=3, padding=1),\n",
        "            nn.ReLU(inplace=True),\n",
        "            nn.Conv2d(256, 256, kernel_size=3, padding=1),\n",
        "            nn.ReLU(inplace=True),\n",
        "            nn.Conv2d(256, 256, kernel_size=3, padding=1),\n",
        "            nn.ReLU(inplace=True),\n",
        "            nn.MaxPool2d(kernel_size=2, stride=2),\n",
        "        )\n",
        "        self.convblock4 = nn.Sequential(\n",
        "            nn.Conv2d(256, 512, kernel_size=3, padding=1),\n",
        "            nn.ReLU(inplace=True),\n",
        "            nn.Conv2d(512, 512, kernel_size=3, padding=1),\n",
        "            nn.ReLU(inplace=True),\n",
        "            nn.Conv2d(512, 512, kernel_size=3, padding=1),\n",
        "            nn.ReLU(inplace=True),\n",
        "            nn.MaxPool2d(kernel_size=2, stride=2),\n",
        "        )\n",
        "        self.convblock5 = nn.Sequential(\n",
        "            nn.Conv2d(512, 512, kernel_size=3, padding=1),\n",
        "            nn.ReLU(inplace=True),\n",
        "            nn.Conv2d(512, 512, kernel_size=3, padding=1),\n",
        "            nn.ReLU(inplace=True),\n",
        "            nn.Conv2d(512, 512, kernel_size=3, padding=1),\n",
        "            nn.ReLU(inplace=True),\n",
        "            nn.MaxPool2d(kernel_size=2, stride=2),\n",
        "        )\n",
        "        self.classifier = nn.Sequential(\n",
        "            nn.Linear(512 * 7 * 7, 4096),\n",
        "            nn.ReLU(True),\n",
        "            nn.Dropout(),\n",
        "            nn.Linear(4096, 4096),\n",
        "            nn.ReLU(True),\n",
        "            nn.Dropout(),\n",
        "            nn.Linear(4096, num_classes),\n",
        "        )       \n",
        "\n",
        "    def forward(self, x):\n",
        "        x = self.convblock1(x)\n",
        "        x = self.convblock2(x)\n",
        "        x = self.convblock3(x)\n",
        "        x = self.convblock4(x)\n",
        "        x = self.convblock5(x)\n",
        "        x = x.view(x.size(0), -1)\n",
        "        x = self.classifier(x)\n",
        "        return x\n",
        "    \n",
        "    def init_weight(self,w):\n",
        "        i=0\n",
        "        for idx, m in enumerate(self.children()):\n",
        "            for idy, msub in enumerate(m.children()):\n",
        "                classname = msub.__class__.__name__\n",
        "                if classname.find('Conv') != -1:\n",
        "                    msub.weight.data = w['features.'+str(i)+'.weight']#.clone()\n",
        "                    msub.bias.data = w['features.'+str(i)+'.bias']#.clone()\n",
        "                    print(msub,'features.'+str(i))\n",
        "                if classname.find('Linear') != -1:\n",
        "                    msub.weight.data = w['classifier.'+str(i-31)+'.weight']#.clone()\n",
        "                    msub.bias.data = w['classifier.'+str(i-31)+'.bias']#.clone()\n",
        "                    print(msub,'classifier.'+str(i-31))\n",
        "                i +=1"
      ],
      "execution_count": 0,
      "outputs": []
    },
    {
      "metadata": {
        "id": "NAQHJKIM1Tb4",
        "colab_type": "text"
      },
      "cell_type": "markdown",
      "source": [
        "# Training Framework"
      ]
    },
    {
      "metadata": {
        "id": "UpnMbim41FNd",
        "colab_type": "code",
        "colab": {}
      },
      "cell_type": "code",
      "source": [
        "def train(model,data_loader,loss_fn,optimizer,n_epochs=1):\n",
        "    \n",
        "    model.train(True)\n",
        "    \n",
        "    loss_train = np.zeros(n_epochs)\n",
        "    acc_train = np.zeros(n_epochs)\n",
        "    \n",
        "    for epoch_num in range(n_epochs):\n",
        "        running_corrects = 0.0\n",
        "        running_loss = 0.0\n",
        "        size = 0\n",
        "\n",
        "        for data in data_loader:\n",
        "            inputs, labels = data\n",
        "            if use_gpu:\n",
        "                inputs, labels = inputs.cuda(), labels.cuda()    \n",
        "                \n",
        "            # batch_size ?\n",
        "            bs = labels.size(0)\n",
        "            \n",
        "            # define the loss to minimize\n",
        "            outputs = model(inputs)\n",
        "            loss = loss_fn(outputs, labels)\n",
        "            # define the optimizer\n",
        "            optimizer = optimizer\n",
        "            optimizer.zero_grad()\n",
        "            # backpropagation\n",
        "            loss.backward()\n",
        "            optimizer.step()\n",
        "            \n",
        "            # predictions to get statistics \n",
        "            _,preds = torch.max(outputs.data,1)\n",
        "            # statistics\n",
        "            running_loss += loss.data.item()\n",
        "            running_corrects += torch.sum(preds == labels.data)\n",
        "            size += bs\n",
        "        # epoch statistics     \n",
        "        epoch_loss = running_loss / size\n",
        "        epoch_acc = running_corrects.item() / size\n",
        "        loss_train[epoch_num] = epoch_loss\n",
        "        acc_train[epoch_num] = epoch_acc\n",
        "        print('Train - Loss: {:.4f} Acc: {:.4f}'.format(epoch_loss, epoch_acc))\n",
        "        \n",
        "    return loss_train, acc_train"
      ],
      "execution_count": 0,
      "outputs": []
    },
    {
      "metadata": {
        "id": "w55tUh7AFBkT",
        "colab_type": "text"
      },
      "cell_type": "markdown",
      "source": [
        "# Running training epochs"
      ]
    },
    {
      "metadata": {
        "id": "rTN5VBayz7am",
        "colab_type": "text"
      },
      "cell_type": "markdown",
      "source": [
        "# Using vgg 16 by hand "
      ]
    },
    {
      "metadata": {
        "id": "fGHeTjRZz_9_",
        "colab_type": "code",
        "colab": {
          "base_uri": "https://localhost:8080/",
          "height": 187
        },
        "outputId": "abd5fb87-0531-4aeb-b6be-c151a8584669"
      },
      "cell_type": "code",
      "source": [
        "# instanciate the model \n",
        "net = VGG_16()\n",
        "use_gpu = torch.cuda.is_available()\n",
        "if use_gpu:\n",
        "    net = net.cuda()\n",
        "\n",
        "# choose the appropriate loss\n",
        "loss_fn = torch.nn.CrossEntropyLoss()\n",
        "# learning rate \n",
        "learning_rate = 1e-3\n",
        "# your SGD optimizer\n",
        "optimizer_cl = torch.optim.Adam(conv_class.parameters(), lr=learning_rate)\n",
        "\n",
        "\n",
        "# and train for 10 epochs\n",
        "l_t, a_t = train(net, dset_loaders['train'], loss_fn, optimizer_cl, n_epochs = 10)"
      ],
      "execution_count": 30,
      "outputs": [
        {
          "output_type": "stream",
          "text": [
            "Train - Loss: 0.3465 Acc: 0.2750\n",
            "Train - Loss: 0.3465 Acc: 0.2875\n",
            "Train - Loss: 0.3467 Acc: 0.2375\n",
            "Train - Loss: 0.3465 Acc: 0.2500\n",
            "Train - Loss: 0.3469 Acc: 0.2000\n",
            "Train - Loss: 0.3466 Acc: 0.2250\n",
            "Train - Loss: 0.3466 Acc: 0.2500\n",
            "Train - Loss: 0.3464 Acc: 0.3250\n",
            "Train - Loss: 0.3464 Acc: 0.2625\n",
            "Train - Loss: 0.3465 Acc: 0.2375\n"
          ],
          "name": "stdout"
        }
      ]
    },
    {
      "metadata": {
        "id": "kdb4r2KZ0x4X",
        "colab_type": "code",
        "colab": {
          "base_uri": "https://localhost:8080/",
          "height": 187
        },
        "outputId": "ba68db61-b4d4-413b-b931-a660c99614a3"
      },
      "cell_type": "code",
      "source": [
        "# train for 10 more epochs\n",
        "l_t, a_t = train(conv_class, dset_loaders['train'], loss_fn, optimizer_cl, n_epochs = 10)"
      ],
      "execution_count": 31,
      "outputs": [
        {
          "output_type": "stream",
          "text": [
            "Train - Loss: 2.5555 Acc: 0.6000\n",
            "Train - Loss: 8.0829 Acc: 0.4875\n",
            "Train - Loss: 12.3866 Acc: 0.3375\n",
            "Train - Loss: 3.2874 Acc: 0.5750\n",
            "Train - Loss: 1.4837 Acc: 0.6500\n",
            "Train - Loss: 0.3237 Acc: 0.8625\n",
            "Train - Loss: 0.5194 Acc: 0.8500\n",
            "Train - Loss: 0.3695 Acc: 0.8250\n",
            "Train - Loss: 2.0836 Acc: 0.6375\n",
            "Train - Loss: 1.0061 Acc: 0.7125\n"
          ],
          "name": "stdout"
        }
      ]
    },
    {
      "metadata": {
        "id": "byGcBeJnz4uW",
        "colab_type": "text"
      },
      "cell_type": "markdown",
      "source": [
        "# Using the simple classfier "
      ]
    },
    {
      "metadata": {
        "id": "I8Xj5NEK1W3J",
        "colab_type": "code",
        "outputId": "f7afa55e-2d09-4475-8fdf-5d036869a5e3",
        "colab": {
          "base_uri": "https://localhost:8080/",
          "height": 187
        }
      },
      "cell_type": "code",
      "source": [
        "# using the model from scratch\n",
        "\n",
        "# instanciate the model \n",
        "conv_class = classifier()\n",
        "use_gpu = torch.cuda.is_available()\n",
        "if use_gpu:\n",
        "    conv_class = conv_class.cuda()\n",
        "\n",
        "# choose the appropriate loss\n",
        "loss_fn = torch.nn.CrossEntropyLoss()\n",
        "# learning rate \n",
        "learning_rate = 1e-3\n",
        "# your SGD optimizer\n",
        "optimizer_cl = torch.optim.Adam(conv_class.parameters(), lr=learning_rate)\n",
        "\n",
        "\n",
        "# and train for 10 epochs\n",
        "l_t, a_t = train(conv_class, dset_loaders['train'], loss_fn, optimizer_cl, n_epochs = 10)"
      ],
      "execution_count": 24,
      "outputs": [
        {
          "output_type": "stream",
          "text": [
            "Train - Loss: 4.3163 Acc: 0.4625\n",
            "Train - Loss: 7.1527 Acc: 0.2250\n",
            "Train - Loss: 1.4121 Acc: 0.6000\n",
            "Train - Loss: 3.8656 Acc: 0.4500\n",
            "Train - Loss: 0.9734 Acc: 0.6000\n",
            "Train - Loss: 1.1560 Acc: 0.5875\n",
            "Train - Loss: 0.2495 Acc: 0.8000\n",
            "Train - Loss: 0.5856 Acc: 0.6500\n",
            "Train - Loss: 0.1370 Acc: 0.8625\n",
            "Train - Loss: 0.7864 Acc: 0.5500\n"
          ],
          "name": "stdout"
        }
      ]
    },
    {
      "metadata": {
        "id": "YltiFLngZicq",
        "colab_type": "code",
        "colab": {
          "base_uri": "https://localhost:8080/",
          "height": 187
        },
        "outputId": "e6680b17-cc13-472a-9808-53d908be1078"
      },
      "cell_type": "code",
      "source": [
        "# train for 10 more epochs\n",
        "l_t, a_t = train(conv_class, dset_loaders['train'], loss_fn, optimizer_cl, n_epochs = 10)"
      ],
      "execution_count": 25,
      "outputs": [
        {
          "output_type": "stream",
          "text": [
            "Train - Loss: 1.0411 Acc: 0.5500\n",
            "Train - Loss: 0.2283 Acc: 0.7875\n",
            "Train - Loss: 0.2435 Acc: 0.7875\n",
            "Train - Loss: 0.3782 Acc: 0.7125\n",
            "Train - Loss: 0.0925 Acc: 0.9000\n",
            "Train - Loss: 0.3301 Acc: 0.7625\n",
            "Train - Loss: 0.1617 Acc: 0.9500\n",
            "Train - Loss: 0.0409 Acc: 0.9500\n",
            "Train - Loss: 0.1115 Acc: 0.8875\n",
            "Train - Loss: 0.0597 Acc: 0.9500\n"
          ],
          "name": "stdout"
        }
      ]
    },
    {
      "metadata": {
        "id": "6GvEne6jZ4gD",
        "colab_type": "text"
      },
      "cell_type": "markdown",
      "source": [
        "# Testing "
      ]
    },
    {
      "metadata": {
        "id": "YW0txkc1Z_D5",
        "colab_type": "code",
        "colab": {}
      },
      "cell_type": "code",
      "source": [
        "def test(model,data_loader):\n",
        "    model.train(False)\n",
        "\n",
        "    running_corrects = 0.0\n",
        "    running_loss = 0.0\n",
        "    size = 0\n",
        "\n",
        "    for data in data_loader:\n",
        "        inputs, labels = data\n",
        "        if use_gpu:\n",
        "            inputs, labels = inputs.cuda(), labels.cuda()\n",
        "            \n",
        "        bs = labels.size(0)\n",
        "                \n",
        "        outputs = conv_class(inputs)\n",
        "        loss = loss_fn(outputs, labels)\n",
        "        _,preds = torch.max(outputs.data,1)\n",
        "        \n",
        "        # statistics\n",
        "        running_loss += loss.data.item()\n",
        "        running_corrects += torch.sum(preds == labels.data)\n",
        "        size += bs\n",
        "\n",
        "    print('Test - Loss: {:.4f} Acc: {:.4f}'.format(running_loss / size, running_corrects.item() / size))"
      ],
      "execution_count": 0,
      "outputs": []
    },
    {
      "metadata": {
        "id": "bCReVcCNdPP_",
        "colab_type": "code",
        "colab": {
          "base_uri": "https://localhost:8080/",
          "height": 34
        },
        "outputId": "be1d65d1-a69c-4c4b-92b5-c798c71dbc25"
      },
      "cell_type": "code",
      "source": [
        "# using simple classifier \n",
        "\n",
        "test(conv_class, dset_loaders['test'])"
      ],
      "execution_count": 27,
      "outputs": [
        {
          "output_type": "stream",
          "text": [
            "Test - Loss: 0.5008 Acc: 0.6125\n"
          ],
          "name": "stdout"
        }
      ]
    },
    {
      "metadata": {
        "id": "0rW6GS5kyzCM",
        "colab_type": "code",
        "colab": {
          "base_uri": "https://localhost:8080/",
          "height": 34
        },
        "outputId": "db7e59f5-17e2-4915-d8a9-228172b087d4"
      },
      "cell_type": "code",
      "source": [
        "# using vgg16  \n",
        "\n",
        "test(net, dset_loaders['test'])"
      ],
      "execution_count": 32,
      "outputs": [
        {
          "output_type": "stream",
          "text": [
            "Test - Loss: 1.2838 Acc: 0.5500\n"
          ],
          "name": "stdout"
        }
      ]
    }
  ]
}