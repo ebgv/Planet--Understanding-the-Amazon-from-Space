{
  "nbformat": 4,
  "nbformat_minor": 0,
  "metadata": {
    "colab": {
      "name": "binary_downloading_from_kaggle.ipynb",
      "version": "0.3.2",
      "provenance": [],
      "collapsed_sections": [],
      "include_colab_link": true
    },
    "kernelspec": {
      "name": "python3",
      "display_name": "Python 3"
    },
    "accelerator": "GPU"
  },
  "cells": [
    {
      "cell_type": "markdown",
      "metadata": {
        "id": "view-in-github",
        "colab_type": "text"
      },
      "source": [
        "[View in Colaboratory](https://colab.research.google.com/github/ebgv/Planet--Understanding-the-Amazon-from-Space/blob/master/binary_downloading_from_kaggle.ipynb)"
      ]
    },
    {
      "metadata": {
        "id": "UgHYbAVzvPef",
        "colab_type": "code",
        "outputId": "de34c6cc-2f7f-4b90-cf83-fcce23483bc7",
        "colab": {
          "base_uri": "https://localhost:8080/",
          "height": 34
        }
      },
      "cell_type": "code",
      "source": [
        "# check the environment\n",
        "\n",
        "%ls"
      ],
      "execution_count": 1,
      "outputs": [
        {
          "output_type": "stream",
          "text": [
            "\u001b[0m\u001b[01;34msample_data\u001b[0m/\n"
          ],
          "name": "stdout"
        }
      ]
    },
    {
      "metadata": {
        "id": "UrCLonzbbmwk",
        "colab_type": "text"
      },
      "cell_type": "markdown",
      "source": [
        "# Loading the data from kaggle"
      ]
    },
    {
      "metadata": {
        "id": "6rBtZlj2xhhA",
        "colab_type": "code",
        "colab": {}
      },
      "cell_type": "code",
      "source": [
        "!pip install -U -q kaggle\n",
        "!mkdir -p ~/.kaggle\n",
        "!echo '{\"username\":\"danielwientjens\",\"key\":\"57cf17d52f3b8964bfc1796533f16115\"}' > ~/.kaggle/kaggle.json\n",
        "!chmod 600 ~/.kaggle/kaggle.json"
      ],
      "execution_count": 0,
      "outputs": []
    },
    {
      "metadata": {
        "id": "Ygz-8S7JLYad",
        "colab_type": "code",
        "colab": {}
      },
      "cell_type": "code",
      "source": [
        "!mkdir -p data"
      ],
      "execution_count": 0,
      "outputs": []
    },
    {
      "metadata": {
        "id": "0rusQAUALxLK",
        "colab_type": "code",
        "outputId": "c90f3657-5a17-4c08-fa7c-a1666227c5c1",
        "colab": {
          "base_uri": "https://localhost:8080/",
          "height": 170
        }
      },
      "cell_type": "code",
      "source": [
        "# train_v2.csv \n",
        "\n",
        "# downloading from kaggle \n",
        "% cd /content\n",
        "!kaggle competitions download -c planet-understanding-the-amazon-from-space -f train_v2.csv -p data\n",
        "# unzipping\n",
        "% cd /content/data\n",
        "!unzip train_v2.csv.zip -d /content/data"
      ],
      "execution_count": 4,
      "outputs": [
        {
          "output_type": "stream",
          "text": [
            "/content\n",
            "Downloading train_v2.csv.zip to data\n",
            "  0% 0.00/159k [00:00<?, ?B/s]\n",
            "100% 159k/159k [00:00<00:00, 54.6MB/s]\n",
            "/content/data\n",
            "Archive:  train_v2.csv.zip\n",
            "  inflating: /content/data/train_v2.csv  \n",
            "   creating: /content/data/__MACOSX/\n",
            "  inflating: /content/data/__MACOSX/._train_v2.csv  \n"
          ],
          "name": "stdout"
        }
      ]
    },
    {
      "metadata": {
        "id": "VuHYbk55L36n",
        "colab_type": "code",
        "outputId": "14ada240-965c-49e1-d977-8705778748eb",
        "colab": {
          "base_uri": "https://localhost:8080/",
          "height": 102
        }
      },
      "cell_type": "code",
      "source": [
        "# train-jpg.tar.7z\n",
        "# this should take a little time - loading all the images \n",
        "\n",
        "# downloading from kaggle \n",
        "% cd /content\n",
        "!kaggle competitions download -c planet-understanding-the-amazon-from-space -f train-jpg.tar.7z -p data\n",
        "# unzipping \n",
        "% cd /content/data\n",
        "!7z x -so train-jpg.tar.7z | tar xf - -C /content/data"
      ],
      "execution_count": 5,
      "outputs": [
        {
          "output_type": "stream",
          "text": [
            "/content\n",
            "Downloading train-jpg.tar.7z to data\n",
            "100% 599M/600M [00:05<00:00, 146MB/s]\n",
            "100% 600M/600M [00:05<00:00, 112MB/s]\n",
            "/content/data\n"
          ],
          "name": "stdout"
        }
      ]
    },
    {
      "metadata": {
        "id": "kfuq04D5thig",
        "colab_type": "text"
      },
      "cell_type": "markdown",
      "source": [
        "# Saving to drive "
      ]
    },
    {
      "metadata": {
        "id": "XVB_rgLUtj19",
        "colab_type": "code",
        "outputId": "66cf5383-4216-421b-e4b3-43df73c817ca",
        "colab": {
          "base_uri": "https://localhost:8080/",
          "height": 54
        }
      },
      "cell_type": "code",
      "source": [
        "\"\"\"!pip install -U -q PyDrive\n",
        "\n",
        "from pydrive.auth import GoogleAuth\n",
        "from pydrive.drive import GoogleDrive\n",
        "from google.colab import auth\n",
        "from oauth2client.client import GoogleCredentials\n",
        "\n",
        "# 1. Authenticate and create the PyDrive client.\n",
        "auth.authenticate_user()\n",
        "gauth = GoogleAuth()\n",
        "gauth.credentials = GoogleCredentials.get_application_default()\n",
        "drive = GoogleDrive(gauth)\"\"\""
      ],
      "execution_count": 0,
      "outputs": [
        {
          "output_type": "execute_result",
          "data": {
            "text/plain": [
              "'!pip install -U -q PyDrive\\n\\nfrom pydrive.auth import GoogleAuth\\nfrom pydrive.drive import GoogleDrive\\nfrom google.colab import auth\\nfrom oauth2client.client import GoogleCredentials\\n\\n# 1. Authenticate and create the PyDrive client.\\nauth.authenticate_user()\\ngauth = GoogleAuth()\\ngauth.credentials = GoogleCredentials.get_application_default()\\ndrive = GoogleDrive(gauth)'"
            ]
          },
          "metadata": {
            "tags": []
          },
          "execution_count": 7
        }
      ]
    },
    {
      "metadata": {
        "id": "qTfrdaJxuepI",
        "colab_type": "code",
        "outputId": "0d69f749-6e8d-49e4-ef30-5901ea88f040",
        "colab": {
          "base_uri": "https://localhost:8080/",
          "height": 34
        }
      },
      "cell_type": "code",
      "source": [
        "\"\"\"%cd /content/data\n",
        "%ls\"\"\""
      ],
      "execution_count": 0,
      "outputs": [
        {
          "output_type": "execute_result",
          "data": {
            "text/plain": [
              "'%cd /content/data\\n%ls'"
            ]
          },
          "metadata": {
            "tags": []
          },
          "execution_count": 8
        }
      ]
    },
    {
      "metadata": {
        "id": "CPQTr0jAuMOS",
        "colab_type": "code",
        "outputId": "f0bc48a1-01bf-48f4-cc4c-e23a7e2b1639",
        "colab": {
          "base_uri": "https://localhost:8080/",
          "height": 34
        }
      },
      "cell_type": "code",
      "source": [
        "\"\"\"upload = drive.CreateFile({'title': 'train-jpg.tar.7z'})\n",
        "upload.SetContentFile('train-jpg.tar.7z')\n",
        "upload.Upload()\"\"\""
      ],
      "execution_count": 0,
      "outputs": [
        {
          "output_type": "execute_result",
          "data": {
            "text/plain": [
              "\"upload = drive.CreateFile({'title': 'train-jpg.tar.7z'})\\nupload.SetContentFile('train-jpg.tar.7z')\\nupload.Upload()\""
            ]
          },
          "metadata": {
            "tags": []
          },
          "execution_count": 9
        }
      ]
    },
    {
      "metadata": {
        "id": "o8bGO9D9bxUJ",
        "colab_type": "text"
      },
      "cell_type": "markdown",
      "source": [
        "# Reading the data"
      ]
    },
    {
      "metadata": {
        "id": "uYPD1eSHMBET",
        "colab_type": "code",
        "colab": {}
      },
      "cell_type": "code",
      "source": [
        "import pandas as pd"
      ],
      "execution_count": 0,
      "outputs": []
    },
    {
      "metadata": {
        "id": "wRH6BlV6MUg9",
        "colab_type": "code",
        "outputId": "985e03c9-0d56-4caf-b7f2-f18fdcaa9359",
        "colab": {
          "base_uri": "https://localhost:8080/",
          "height": 204
        }
      },
      "cell_type": "code",
      "source": [
        "train_label = pd.read_csv('/content/data/train_v2.csv')\n",
        "train_label.head()"
      ],
      "execution_count": 7,
      "outputs": [
        {
          "output_type": "execute_result",
          "data": {
            "text/html": [
              "<div>\n",
              "<style scoped>\n",
              "    .dataframe tbody tr th:only-of-type {\n",
              "        vertical-align: middle;\n",
              "    }\n",
              "\n",
              "    .dataframe tbody tr th {\n",
              "        vertical-align: top;\n",
              "    }\n",
              "\n",
              "    .dataframe thead th {\n",
              "        text-align: right;\n",
              "    }\n",
              "</style>\n",
              "<table border=\"1\" class=\"dataframe\">\n",
              "  <thead>\n",
              "    <tr style=\"text-align: right;\">\n",
              "      <th></th>\n",
              "      <th>image_name</th>\n",
              "      <th>tags</th>\n",
              "    </tr>\n",
              "  </thead>\n",
              "  <tbody>\n",
              "    <tr>\n",
              "      <th>0</th>\n",
              "      <td>train_0</td>\n",
              "      <td>haze primary</td>\n",
              "    </tr>\n",
              "    <tr>\n",
              "      <th>1</th>\n",
              "      <td>train_1</td>\n",
              "      <td>agriculture clear primary water</td>\n",
              "    </tr>\n",
              "    <tr>\n",
              "      <th>2</th>\n",
              "      <td>train_2</td>\n",
              "      <td>clear primary</td>\n",
              "    </tr>\n",
              "    <tr>\n",
              "      <th>3</th>\n",
              "      <td>train_3</td>\n",
              "      <td>clear primary</td>\n",
              "    </tr>\n",
              "    <tr>\n",
              "      <th>4</th>\n",
              "      <td>train_4</td>\n",
              "      <td>agriculture clear habitation primary road</td>\n",
              "    </tr>\n",
              "  </tbody>\n",
              "</table>\n",
              "</div>"
            ],
            "text/plain": [
              "  image_name                                       tags\n",
              "0    train_0                               haze primary\n",
              "1    train_1            agriculture clear primary water\n",
              "2    train_2                              clear primary\n",
              "3    train_3                              clear primary\n",
              "4    train_4  agriculture clear habitation primary road"
            ]
          },
          "metadata": {
            "tags": []
          },
          "execution_count": 7
        }
      ]
    },
    {
      "metadata": {
        "id": "6lgh7tUiThQY",
        "colab_type": "code",
        "outputId": "b01e2fd5-e0f8-40e5-a0a4-931ea9fc31c0",
        "colab": {
          "base_uri": "https://localhost:8080/",
          "height": 204
        }
      },
      "cell_type": "code",
      "source": [
        "# creating the weather labels\n",
        "weather_categories = ['partly_cloudy', 'haze', 'cloudy', 'clear']\n",
        "weather_tag_list = [[element for element in tag.split() if element in weather_categories] for tag in train_label['tags']]\n",
        "train_label['weather_tags'] = [''.join(tag) for tag in weather_tag_list]\n",
        "train_label.head()"
      ],
      "execution_count": 8,
      "outputs": [
        {
          "output_type": "execute_result",
          "data": {
            "text/html": [
              "<div>\n",
              "<style scoped>\n",
              "    .dataframe tbody tr th:only-of-type {\n",
              "        vertical-align: middle;\n",
              "    }\n",
              "\n",
              "    .dataframe tbody tr th {\n",
              "        vertical-align: top;\n",
              "    }\n",
              "\n",
              "    .dataframe thead th {\n",
              "        text-align: right;\n",
              "    }\n",
              "</style>\n",
              "<table border=\"1\" class=\"dataframe\">\n",
              "  <thead>\n",
              "    <tr style=\"text-align: right;\">\n",
              "      <th></th>\n",
              "      <th>image_name</th>\n",
              "      <th>tags</th>\n",
              "      <th>weather_tags</th>\n",
              "    </tr>\n",
              "  </thead>\n",
              "  <tbody>\n",
              "    <tr>\n",
              "      <th>0</th>\n",
              "      <td>train_0</td>\n",
              "      <td>haze primary</td>\n",
              "      <td>haze</td>\n",
              "    </tr>\n",
              "    <tr>\n",
              "      <th>1</th>\n",
              "      <td>train_1</td>\n",
              "      <td>agriculture clear primary water</td>\n",
              "      <td>clear</td>\n",
              "    </tr>\n",
              "    <tr>\n",
              "      <th>2</th>\n",
              "      <td>train_2</td>\n",
              "      <td>clear primary</td>\n",
              "      <td>clear</td>\n",
              "    </tr>\n",
              "    <tr>\n",
              "      <th>3</th>\n",
              "      <td>train_3</td>\n",
              "      <td>clear primary</td>\n",
              "      <td>clear</td>\n",
              "    </tr>\n",
              "    <tr>\n",
              "      <th>4</th>\n",
              "      <td>train_4</td>\n",
              "      <td>agriculture clear habitation primary road</td>\n",
              "      <td>clear</td>\n",
              "    </tr>\n",
              "  </tbody>\n",
              "</table>\n",
              "</div>"
            ],
            "text/plain": [
              "  image_name                                       tags weather_tags\n",
              "0    train_0                               haze primary         haze\n",
              "1    train_1            agriculture clear primary water        clear\n",
              "2    train_2                              clear primary        clear\n",
              "3    train_3                              clear primary        clear\n",
              "4    train_4  agriculture clear habitation primary road        clear"
            ]
          },
          "metadata": {
            "tags": []
          },
          "execution_count": 8
        }
      ]
    },
    {
      "metadata": {
        "id": "lx-huxM0QaiF",
        "colab_type": "code",
        "colab": {
          "base_uri": "https://localhost:8080/",
          "height": 204
        },
        "outputId": "fc6c0be0-96e1-4d14-cd31-c787e844f084"
      },
      "cell_type": "code",
      "source": [
        "train_clear = train_label[train_label['weather_tags'] == 'clear'].copy()\n",
        "train_clear.head()"
      ],
      "execution_count": 10,
      "outputs": [
        {
          "output_type": "execute_result",
          "data": {
            "text/html": [
              "<div>\n",
              "<style scoped>\n",
              "    .dataframe tbody tr th:only-of-type {\n",
              "        vertical-align: middle;\n",
              "    }\n",
              "\n",
              "    .dataframe tbody tr th {\n",
              "        vertical-align: top;\n",
              "    }\n",
              "\n",
              "    .dataframe thead th {\n",
              "        text-align: right;\n",
              "    }\n",
              "</style>\n",
              "<table border=\"1\" class=\"dataframe\">\n",
              "  <thead>\n",
              "    <tr style=\"text-align: right;\">\n",
              "      <th></th>\n",
              "      <th>image_name</th>\n",
              "      <th>tags</th>\n",
              "      <th>weather_tags</th>\n",
              "    </tr>\n",
              "  </thead>\n",
              "  <tbody>\n",
              "    <tr>\n",
              "      <th>1</th>\n",
              "      <td>train_1</td>\n",
              "      <td>agriculture clear primary water</td>\n",
              "      <td>clear</td>\n",
              "    </tr>\n",
              "    <tr>\n",
              "      <th>2</th>\n",
              "      <td>train_2</td>\n",
              "      <td>clear primary</td>\n",
              "      <td>clear</td>\n",
              "    </tr>\n",
              "    <tr>\n",
              "      <th>3</th>\n",
              "      <td>train_3</td>\n",
              "      <td>clear primary</td>\n",
              "      <td>clear</td>\n",
              "    </tr>\n",
              "    <tr>\n",
              "      <th>4</th>\n",
              "      <td>train_4</td>\n",
              "      <td>agriculture clear habitation primary road</td>\n",
              "      <td>clear</td>\n",
              "    </tr>\n",
              "    <tr>\n",
              "      <th>6</th>\n",
              "      <td>train_6</td>\n",
              "      <td>agriculture clear cultivation primary water</td>\n",
              "      <td>clear</td>\n",
              "    </tr>\n",
              "  </tbody>\n",
              "</table>\n",
              "</div>"
            ],
            "text/plain": [
              "  image_name                                         tags weather_tags\n",
              "1    train_1              agriculture clear primary water        clear\n",
              "2    train_2                                clear primary        clear\n",
              "3    train_3                                clear primary        clear\n",
              "4    train_4    agriculture clear habitation primary road        clear\n",
              "6    train_6  agriculture clear cultivation primary water        clear"
            ]
          },
          "metadata": {
            "tags": []
          },
          "execution_count": 10
        }
      ]
    },
    {
      "metadata": {
        "id": "Ee7ZD7glQnx3",
        "colab_type": "code",
        "colab": {
          "base_uri": "https://localhost:8080/",
          "height": 204
        },
        "outputId": "42da1348-b8e9-4a4e-92b6-b09285cf084a"
      },
      "cell_type": "code",
      "source": [
        "binary_categories = ['water', 'road']\n",
        "binary_tag_list = [[element for element in tag.split() if element in binary_categories] for tag in train_clear['tags']]\n",
        "train_clear['binary_tags'] = [''.join(tag) for tag in binary_tag_list]\n",
        "train_clear.head()"
      ],
      "execution_count": 11,
      "outputs": [
        {
          "output_type": "execute_result",
          "data": {
            "text/html": [
              "<div>\n",
              "<style scoped>\n",
              "    .dataframe tbody tr th:only-of-type {\n",
              "        vertical-align: middle;\n",
              "    }\n",
              "\n",
              "    .dataframe tbody tr th {\n",
              "        vertical-align: top;\n",
              "    }\n",
              "\n",
              "    .dataframe thead th {\n",
              "        text-align: right;\n",
              "    }\n",
              "</style>\n",
              "<table border=\"1\" class=\"dataframe\">\n",
              "  <thead>\n",
              "    <tr style=\"text-align: right;\">\n",
              "      <th></th>\n",
              "      <th>image_name</th>\n",
              "      <th>tags</th>\n",
              "      <th>weather_tags</th>\n",
              "      <th>binary_tags</th>\n",
              "    </tr>\n",
              "  </thead>\n",
              "  <tbody>\n",
              "    <tr>\n",
              "      <th>1</th>\n",
              "      <td>train_1</td>\n",
              "      <td>agriculture clear primary water</td>\n",
              "      <td>clear</td>\n",
              "      <td>water</td>\n",
              "    </tr>\n",
              "    <tr>\n",
              "      <th>2</th>\n",
              "      <td>train_2</td>\n",
              "      <td>clear primary</td>\n",
              "      <td>clear</td>\n",
              "      <td></td>\n",
              "    </tr>\n",
              "    <tr>\n",
              "      <th>3</th>\n",
              "      <td>train_3</td>\n",
              "      <td>clear primary</td>\n",
              "      <td>clear</td>\n",
              "      <td></td>\n",
              "    </tr>\n",
              "    <tr>\n",
              "      <th>4</th>\n",
              "      <td>train_4</td>\n",
              "      <td>agriculture clear habitation primary road</td>\n",
              "      <td>clear</td>\n",
              "      <td>road</td>\n",
              "    </tr>\n",
              "    <tr>\n",
              "      <th>6</th>\n",
              "      <td>train_6</td>\n",
              "      <td>agriculture clear cultivation primary water</td>\n",
              "      <td>clear</td>\n",
              "      <td>water</td>\n",
              "    </tr>\n",
              "  </tbody>\n",
              "</table>\n",
              "</div>"
            ],
            "text/plain": [
              "  image_name                                         tags weather_tags  \\\n",
              "1    train_1              agriculture clear primary water        clear   \n",
              "2    train_2                                clear primary        clear   \n",
              "3    train_3                                clear primary        clear   \n",
              "4    train_4    agriculture clear habitation primary road        clear   \n",
              "6    train_6  agriculture clear cultivation primary water        clear   \n",
              "\n",
              "  binary_tags  \n",
              "1       water  \n",
              "2              \n",
              "3              \n",
              "4        road  \n",
              "6       water  "
            ]
          },
          "metadata": {
            "tags": []
          },
          "execution_count": 11
        }
      ]
    },
    {
      "metadata": {
        "id": "3rjp3jAeRDSE",
        "colab_type": "code",
        "colab": {
          "base_uri": "https://localhost:8080/",
          "height": 204
        },
        "outputId": "8879b622-d255-40f3-e596-89bd70df8f51"
      },
      "cell_type": "code",
      "source": [
        "train_clear = train_clear[train_clear['binary_tags'].isin(binary_categories)]\n",
        "train_clear.head()"
      ],
      "execution_count": 15,
      "outputs": [
        {
          "output_type": "execute_result",
          "data": {
            "text/html": [
              "<div>\n",
              "<style scoped>\n",
              "    .dataframe tbody tr th:only-of-type {\n",
              "        vertical-align: middle;\n",
              "    }\n",
              "\n",
              "    .dataframe tbody tr th {\n",
              "        vertical-align: top;\n",
              "    }\n",
              "\n",
              "    .dataframe thead th {\n",
              "        text-align: right;\n",
              "    }\n",
              "</style>\n",
              "<table border=\"1\" class=\"dataframe\">\n",
              "  <thead>\n",
              "    <tr style=\"text-align: right;\">\n",
              "      <th></th>\n",
              "      <th>image_name</th>\n",
              "      <th>tags</th>\n",
              "      <th>weather_tags</th>\n",
              "      <th>binary_tags</th>\n",
              "    </tr>\n",
              "  </thead>\n",
              "  <tbody>\n",
              "    <tr>\n",
              "      <th>1</th>\n",
              "      <td>train_1</td>\n",
              "      <td>agriculture clear primary water</td>\n",
              "      <td>clear</td>\n",
              "      <td>water</td>\n",
              "    </tr>\n",
              "    <tr>\n",
              "      <th>4</th>\n",
              "      <td>train_4</td>\n",
              "      <td>agriculture clear habitation primary road</td>\n",
              "      <td>clear</td>\n",
              "      <td>road</td>\n",
              "    </tr>\n",
              "    <tr>\n",
              "      <th>6</th>\n",
              "      <td>train_6</td>\n",
              "      <td>agriculture clear cultivation primary water</td>\n",
              "      <td>clear</td>\n",
              "      <td>water</td>\n",
              "    </tr>\n",
              "    <tr>\n",
              "      <th>9</th>\n",
              "      <td>train_9</td>\n",
              "      <td>agriculture clear cultivation primary road</td>\n",
              "      <td>clear</td>\n",
              "      <td>road</td>\n",
              "    </tr>\n",
              "    <tr>\n",
              "      <th>10</th>\n",
              "      <td>train_10</td>\n",
              "      <td>agriculture clear primary slash_burn water</td>\n",
              "      <td>clear</td>\n",
              "      <td>water</td>\n",
              "    </tr>\n",
              "  </tbody>\n",
              "</table>\n",
              "</div>"
            ],
            "text/plain": [
              "   image_name                                         tags weather_tags  \\\n",
              "1     train_1              agriculture clear primary water        clear   \n",
              "4     train_4    agriculture clear habitation primary road        clear   \n",
              "6     train_6  agriculture clear cultivation primary water        clear   \n",
              "9     train_9   agriculture clear cultivation primary road        clear   \n",
              "10   train_10   agriculture clear primary slash_burn water        clear   \n",
              "\n",
              "   binary_tags  \n",
              "1        water  \n",
              "4         road  \n",
              "6        water  \n",
              "9         road  \n",
              "10       water  "
            ]
          },
          "metadata": {
            "tags": []
          },
          "execution_count": 15
        }
      ]
    },
    {
      "metadata": {
        "id": "ANFlBXcmm2MM",
        "colab_type": "text"
      },
      "cell_type": "markdown",
      "source": [
        "# Creating folders by class "
      ]
    },
    {
      "metadata": {
        "id": "R6nHo_r3ocF3",
        "colab_type": "code",
        "outputId": "1e02f22b-d494-45db-a2de-2c610f497bbd",
        "colab": {
          "base_uri": "https://localhost:8080/",
          "height": 173
        }
      },
      "cell_type": "code",
      "source": [
        "train_clear.describe()"
      ],
      "execution_count": 16,
      "outputs": [
        {
          "output_type": "execute_result",
          "data": {
            "text/html": [
              "<div>\n",
              "<style scoped>\n",
              "    .dataframe tbody tr th:only-of-type {\n",
              "        vertical-align: middle;\n",
              "    }\n",
              "\n",
              "    .dataframe tbody tr th {\n",
              "        vertical-align: top;\n",
              "    }\n",
              "\n",
              "    .dataframe thead th {\n",
              "        text-align: right;\n",
              "    }\n",
              "</style>\n",
              "<table border=\"1\" class=\"dataframe\">\n",
              "  <thead>\n",
              "    <tr style=\"text-align: right;\">\n",
              "      <th></th>\n",
              "      <th>image_name</th>\n",
              "      <th>tags</th>\n",
              "      <th>weather_tags</th>\n",
              "      <th>binary_tags</th>\n",
              "    </tr>\n",
              "  </thead>\n",
              "  <tbody>\n",
              "    <tr>\n",
              "      <th>count</th>\n",
              "      <td>8421</td>\n",
              "      <td>8421</td>\n",
              "      <td>8421</td>\n",
              "      <td>8421</td>\n",
              "    </tr>\n",
              "    <tr>\n",
              "      <th>unique</th>\n",
              "      <td>8421</td>\n",
              "      <td>129</td>\n",
              "      <td>1</td>\n",
              "      <td>2</td>\n",
              "    </tr>\n",
              "    <tr>\n",
              "      <th>top</th>\n",
              "      <td>train_30584</td>\n",
              "      <td>clear primary water</td>\n",
              "      <td>clear</td>\n",
              "      <td>road</td>\n",
              "    </tr>\n",
              "    <tr>\n",
              "      <th>freq</th>\n",
              "      <td>1</td>\n",
              "      <td>1850</td>\n",
              "      <td>8421</td>\n",
              "      <td>4607</td>\n",
              "    </tr>\n",
              "  </tbody>\n",
              "</table>\n",
              "</div>"
            ],
            "text/plain": [
              "         image_name                 tags weather_tags binary_tags\n",
              "count          8421                 8421         8421        8421\n",
              "unique         8421                  129            1           2\n",
              "top     train_30584  clear primary water        clear        road\n",
              "freq              1                 1850         8421        4607"
            ]
          },
          "metadata": {
            "tags": []
          },
          "execution_count": 16
        }
      ]
    },
    {
      "metadata": {
        "id": "JTloR1Djm0uM",
        "colab_type": "code",
        "outputId": "0edf10c7-f662-4ee8-9792-415588193d3d",
        "colab": {
          "base_uri": "https://localhost:8080/",
          "height": 34
        }
      },
      "cell_type": "code",
      "source": [
        "len(train_clear['tags'].unique()) # number of categories "
      ],
      "execution_count": 17,
      "outputs": [
        {
          "output_type": "execute_result",
          "data": {
            "text/plain": [
              "129"
            ]
          },
          "metadata": {
            "tags": []
          },
          "execution_count": 17
        }
      ]
    },
    {
      "metadata": {
        "id": "BPwEBBq_nO4d",
        "colab_type": "code",
        "outputId": "8a4a7855-5884-46be-f3a3-b88ef879203b",
        "colab": {
          "base_uri": "https://localhost:8080/",
          "height": 34
        }
      },
      "cell_type": "code",
      "source": [
        "train_clear.shape # number of individuals "
      ],
      "execution_count": 18,
      "outputs": [
        {
          "output_type": "execute_result",
          "data": {
            "text/plain": [
              "(8421, 4)"
            ]
          },
          "metadata": {
            "tags": []
          },
          "execution_count": 18
        }
      ]
    },
    {
      "metadata": {
        "id": "ANhKGCVps7Bv",
        "colab_type": "code",
        "outputId": "579a3da3-303f-401d-9ead-7cc38ea27269",
        "colab": {
          "base_uri": "https://localhost:8080/",
          "height": 142
        }
      },
      "cell_type": "code",
      "source": [
        "train_clear.groupby(['binary_tags']).count().sort_values(by = 'image_name', ascending = False).head(5)"
      ],
      "execution_count": 20,
      "outputs": [
        {
          "output_type": "execute_result",
          "data": {
            "text/html": [
              "<div>\n",
              "<style scoped>\n",
              "    .dataframe tbody tr th:only-of-type {\n",
              "        vertical-align: middle;\n",
              "    }\n",
              "\n",
              "    .dataframe tbody tr th {\n",
              "        vertical-align: top;\n",
              "    }\n",
              "\n",
              "    .dataframe thead th {\n",
              "        text-align: right;\n",
              "    }\n",
              "</style>\n",
              "<table border=\"1\" class=\"dataframe\">\n",
              "  <thead>\n",
              "    <tr style=\"text-align: right;\">\n",
              "      <th></th>\n",
              "      <th>image_name</th>\n",
              "      <th>tags</th>\n",
              "      <th>weather_tags</th>\n",
              "    </tr>\n",
              "    <tr>\n",
              "      <th>binary_tags</th>\n",
              "      <th></th>\n",
              "      <th></th>\n",
              "      <th></th>\n",
              "    </tr>\n",
              "  </thead>\n",
              "  <tbody>\n",
              "    <tr>\n",
              "      <th>road</th>\n",
              "      <td>4607</td>\n",
              "      <td>4607</td>\n",
              "      <td>4607</td>\n",
              "    </tr>\n",
              "    <tr>\n",
              "      <th>water</th>\n",
              "      <td>3814</td>\n",
              "      <td>3814</td>\n",
              "      <td>3814</td>\n",
              "    </tr>\n",
              "  </tbody>\n",
              "</table>\n",
              "</div>"
            ],
            "text/plain": [
              "             image_name  tags  weather_tags\n",
              "binary_tags                                \n",
              "road               4607  4607          4607\n",
              "water              3814  3814          3814"
            ]
          },
          "metadata": {
            "tags": []
          },
          "execution_count": 20
        }
      ]
    },
    {
      "metadata": {
        "id": "fCl0L5_hxYOk",
        "colab_type": "text"
      },
      "cell_type": "markdown",
      "source": [
        "# Creating train/test folders"
      ]
    },
    {
      "metadata": {
        "id": "75efDtS4xdVu",
        "colab_type": "code",
        "colab": {}
      },
      "cell_type": "code",
      "source": [
        "import shutil"
      ],
      "execution_count": 0,
      "outputs": []
    },
    {
      "metadata": {
        "id": "3VDdXaHhxhSw",
        "colab_type": "code",
        "colab": {}
      },
      "cell_type": "code",
      "source": [
        "def copy_files_to_folder(list_files, new_folder): # list of files and new folder name as string \n",
        "    !mkdir $new_folder\n",
        "    for file in list_files: \n",
        "        shutil.copy('/content/data/train-jpg/{}.jpg'.format(file), new_folder)"
      ],
      "execution_count": 0,
      "outputs": []
    },
    {
      "metadata": {
        "id": "H5OOwwzgyszV",
        "colab_type": "code",
        "colab": {}
      },
      "cell_type": "code",
      "source": [
        "binary_categories = ['water', 'road']"
      ],
      "execution_count": 0,
      "outputs": []
    },
    {
      "metadata": {
        "id": "CW8D3v5GuXJf",
        "colab_type": "code",
        "colab": {}
      },
      "cell_type": "code",
      "source": [
        "from random import sample\n",
        "\n",
        "# storing the test-train split of image_names \n",
        "groups = dict()\n",
        "for group_name in binary_categories:\n",
        "\n",
        "    full_names = list(train_clear['image_name'][train_clear['binary_tags'] == group_name])\n",
        "    shuffled_names = sample(full_names, k=len(full_names))\n",
        "    # splitting image names into test-train\n",
        "    sub_groups = dict()\n",
        "    sub_groups['train_names'] = shuffled_names[:int(0.8*len(shuffled_names))]\n",
        "    sub_groups['test_names'] = shuffled_names[int(0.8*len(shuffled_names))+1:]\n",
        "    groups[group_name] = sub_groups"
      ],
      "execution_count": 0,
      "outputs": []
    },
    {
      "metadata": {
        "id": "Y9kdU1N_uPFt",
        "colab_type": "text"
      },
      "cell_type": "markdown",
      "source": [
        "# Train"
      ]
    },
    {
      "metadata": {
        "id": "7BytNy_wyQc5",
        "colab_type": "code",
        "outputId": "12f07a12-146f-4d94-a5c1-da70693e5586",
        "colab": {
          "base_uri": "https://localhost:8080/",
          "height": 51
        }
      },
      "cell_type": "code",
      "source": [
        "% cd /content/data\n",
        "! mkdir train\n",
        "% cd train"
      ],
      "execution_count": 26,
      "outputs": [
        {
          "output_type": "stream",
          "text": [
            "/content/data\n",
            "/content/data/train\n"
          ],
          "name": "stdout"
        }
      ]
    },
    {
      "metadata": {
        "id": "fnPxLJI2HY8m",
        "colab_type": "code",
        "outputId": "9f7298b9-f3bf-4b51-897d-3ee1751c7024",
        "colab": {
          "base_uri": "https://localhost:8080/",
          "height": 34
        }
      },
      "cell_type": "code",
      "source": [
        "%cd /content/data/train\n",
        "\n",
        "for group_name in binary_categories:\n",
        "  image_names = groups[group_name]['train_names'] # groups are defined above \n",
        "  copy_files_to_folder(image_names, group_name)"
      ],
      "execution_count": 27,
      "outputs": [
        {
          "output_type": "stream",
          "text": [
            "/content/data/train\n"
          ],
          "name": "stdout"
        }
      ]
    },
    {
      "metadata": {
        "id": "jkK-bfePz8nl",
        "colab_type": "text"
      },
      "cell_type": "markdown",
      "source": [
        "# Test"
      ]
    },
    {
      "metadata": {
        "id": "Ai4eZB6Dz-OB",
        "colab_type": "code",
        "outputId": "357f637c-b070-4268-fb6c-f6617a685085",
        "colab": {
          "base_uri": "https://localhost:8080/",
          "height": 51
        }
      },
      "cell_type": "code",
      "source": [
        "% cd /content/data\n",
        "! mkdir test\n",
        "% cd test"
      ],
      "execution_count": 28,
      "outputs": [
        {
          "output_type": "stream",
          "text": [
            "/content/data\n",
            "/content/data/test\n"
          ],
          "name": "stdout"
        }
      ]
    },
    {
      "metadata": {
        "id": "DhN-cguh0EL7",
        "colab_type": "code",
        "outputId": "0f36b4d3-6068-4f36-8b6f-c96f96c14bfc",
        "colab": {
          "base_uri": "https://localhost:8080/",
          "height": 34
        }
      },
      "cell_type": "code",
      "source": [
        "%cd /content/data/test\n",
        "\n",
        "for group_name in binary_categories:\n",
        "  image_names = groups[group_name]['test_names'] # groups are defined above \n",
        "  copy_files_to_folder(image_names, group_name)"
      ],
      "execution_count": 29,
      "outputs": [
        {
          "output_type": "stream",
          "text": [
            "/content/data/test\n"
          ],
          "name": "stdout"
        }
      ]
    },
    {
      "metadata": {
        "id": "BH8o3pNZGfkr",
        "colab_type": "text"
      },
      "cell_type": "markdown",
      "source": [
        "# Creating sub sample data to check the pipeline"
      ]
    },
    {
      "metadata": {
        "id": "WHHQ51nqFqOv",
        "colab_type": "code",
        "outputId": "8ee8129b-73f8-4408-8ed0-49428aa04a6a",
        "colab": {
          "base_uri": "https://localhost:8080/",
          "height": 34
        }
      },
      "cell_type": "code",
      "source": [
        "% cd /content/data\n",
        "! mkdir sample "
      ],
      "execution_count": 30,
      "outputs": [
        {
          "output_type": "stream",
          "text": [
            "/content/data\n"
          ],
          "name": "stdout"
        }
      ]
    },
    {
      "metadata": {
        "id": "fLXrB5FT0fGm",
        "colab_type": "text"
      },
      "cell_type": "markdown",
      "source": [
        "# Train"
      ]
    },
    {
      "metadata": {
        "id": "dqHkUNEDHdrZ",
        "colab_type": "code",
        "outputId": "8db34796-da2a-4c4b-d88a-215c34603fc6",
        "colab": {
          "base_uri": "https://localhost:8080/",
          "height": 51
        }
      },
      "cell_type": "code",
      "source": [
        "% cd /content/data/sample\n",
        "! mkdir train\n",
        "% cd train"
      ],
      "execution_count": 31,
      "outputs": [
        {
          "output_type": "stream",
          "text": [
            "/content/data/sample\n",
            "/content/data/sample/train\n"
          ],
          "name": "stdout"
        }
      ]
    },
    {
      "metadata": {
        "id": "-H56ZGmfxncM",
        "colab_type": "code",
        "outputId": "3cec71a5-f6e0-4d0c-92e0-a089f09bb3aa",
        "colab": {
          "base_uri": "https://localhost:8080/",
          "height": 34
        }
      },
      "cell_type": "code",
      "source": [
        "%cd /content/data/sample/train\n",
        "\n",
        "sample_size = 1600 \n",
        "\n",
        "for group_name in binary_categories:\n",
        "  image_names = groups[group_name]['train_names'][:sample_size]\n",
        "  copy_files_to_folder(image_names, group_name)"
      ],
      "execution_count": 32,
      "outputs": [
        {
          "output_type": "stream",
          "text": [
            "/content/data/sample/train\n"
          ],
          "name": "stdout"
        }
      ]
    },
    {
      "metadata": {
        "id": "xLMOxbda0xqQ",
        "colab_type": "text"
      },
      "cell_type": "markdown",
      "source": [
        "# Test"
      ]
    },
    {
      "metadata": {
        "id": "JSdjP9TK00f2",
        "colab_type": "code",
        "outputId": "9261e46a-d3dc-4747-b280-f46bd6b36f68",
        "colab": {
          "base_uri": "https://localhost:8080/",
          "height": 51
        }
      },
      "cell_type": "code",
      "source": [
        "% cd /content/data/sample\n",
        "! mkdir test\n",
        "% cd test"
      ],
      "execution_count": 33,
      "outputs": [
        {
          "output_type": "stream",
          "text": [
            "/content/data/sample\n",
            "/content/data/sample/test\n"
          ],
          "name": "stdout"
        }
      ]
    },
    {
      "metadata": {
        "id": "R6M4K_a11TwI",
        "colab_type": "code",
        "outputId": "8f3652a9-cdfe-411d-f694-a333b579b54b",
        "colab": {
          "base_uri": "https://localhost:8080/",
          "height": 34
        }
      },
      "cell_type": "code",
      "source": [
        "%cd /content/data/sample/test\n",
        "\n",
        "sample_size = 400 \n",
        "\n",
        "for group_name in binary_categories:\n",
        "  image_names = groups[group_name]['test_names'][:sample_size]\n",
        "  copy_files_to_folder(image_names, group_name)"
      ],
      "execution_count": 34,
      "outputs": [
        {
          "output_type": "stream",
          "text": [
            "/content/data/sample/test\n"
          ],
          "name": "stdout"
        }
      ]
    },
    {
      "metadata": {
        "id": "rFO7i4r9r1zL",
        "colab_type": "text"
      },
      "cell_type": "markdown",
      "source": [
        "# Exploration - to delete"
      ]
    },
    {
      "metadata": {
        "id": "DJAfOTxAt4jL",
        "colab_type": "code",
        "outputId": "11ee5048-8766-4d89-b5a6-823a7942bd58",
        "colab": {
          "base_uri": "https://localhost:8080/",
          "height": 51
        }
      },
      "cell_type": "code",
      "source": [
        "# images from the test set \n",
        "#%cd /content/data/test\n",
        "%cd /content/data/sample/test\n",
        "%ls"
      ],
      "execution_count": 35,
      "outputs": [
        {
          "output_type": "stream",
          "text": [
            "/content/data/sample/test\n",
            "\u001b[0m\u001b[01;34mroad\u001b[0m/  \u001b[01;34mwater\u001b[0m/\n"
          ],
          "name": "stdout"
        }
      ]
    },
    {
      "metadata": {
        "id": "72AFs0GlGWpe",
        "colab_type": "code",
        "outputId": "36dc41c9-9e0c-402f-9dbb-452da57b8e18",
        "colab": {
          "base_uri": "https://localhost:8080/",
          "height": 51
        }
      },
      "cell_type": "code",
      "source": [
        "# images from the train set \n",
        "#%cd /content/data/train\n",
        "%cd /content/data/sample/train\n",
        "%ls"
      ],
      "execution_count": 36,
      "outputs": [
        {
          "output_type": "stream",
          "text": [
            "/content/data/sample/train\n",
            "\u001b[0m\u001b[01;34mroad\u001b[0m/  \u001b[01;34mwater\u001b[0m/\n"
          ],
          "name": "stdout"
        }
      ]
    },
    {
      "metadata": {
        "id": "vZhnqxaoQzDw",
        "colab_type": "code",
        "outputId": "2deda867-d4ae-4905-b5c6-ddbb6b556a34",
        "colab": {
          "base_uri": "https://localhost:8080/",
          "height": 34
        }
      },
      "cell_type": "code",
      "source": [
        "ls"
      ],
      "execution_count": 0,
      "outputs": [
        {
          "output_type": "stream",
          "text": [
            "\u001b[0m\u001b[01;34mclear\u001b[0m/  \u001b[01;34mcloudy\u001b[0m/  \u001b[01;34mhaze\u001b[0m/  \u001b[01;34mpartly_cloudy\u001b[0m/\n"
          ],
          "name": "stdout"
        }
      ]
    }
  ]
}