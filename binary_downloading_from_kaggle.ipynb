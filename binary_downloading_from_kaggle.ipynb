{
 "cells": [
  {
   "cell_type": "markdown",
   "metadata": {
    "colab_type": "text",
    "id": "view-in-github"
   },
   "source": [
    "[View in Colaboratory](https://colab.research.google.com/github/ebgv/Planet--Understanding-the-Amazon-from-Space/blob/master/binary_downloading_from_kaggle.ipynb)"
   ]
  },
  {
   "cell_type": "markdown",
   "metadata": {
    "colab_type": "text",
    "id": "UrCLonzbbmwk"
   },
   "source": [
    "# Loading the data from kaggle"
   ]
  },
  {
   "cell_type": "code",
   "execution_count": 0,
   "metadata": {
    "colab": {},
    "colab_type": "code",
    "collapsed": true,
    "id": "6rBtZlj2xhhA"
   },
   "outputs": [],
   "source": [
    "# modify according to kaggle username and key\n",
    "\n",
    "!pip install -U -q kaggle\n",
    "!mkdir -p ~/.kaggle\n",
    "!echo '{\"username\":\"xxx\",\"key\":\"xxx\"}' > ~/.kaggle/kaggle.json\n",
    "!chmod 600 ~/.kaggle/kaggle.json"
   ]
  },
  {
   "cell_type": "code",
   "execution_count": 0,
   "metadata": {
    "colab": {},
    "colab_type": "code",
    "collapsed": true,
    "id": "Ygz-8S7JLYad"
   },
   "outputs": [],
   "source": [
    "!mkdir -p data"
   ]
  },
  {
   "cell_type": "code",
   "execution_count": 4,
   "metadata": {
    "colab": {
     "base_uri": "https://localhost:8080/",
     "height": 170
    },
    "colab_type": "code",
    "id": "0rusQAUALxLK",
    "outputId": "c90f3657-5a17-4c08-fa7c-a1666227c5c1"
   },
   "outputs": [
    {
     "name": "stdout",
     "output_type": "stream",
     "text": [
      "/content\n",
      "Downloading train_v2.csv.zip to data\n",
      "  0% 0.00/159k [00:00<?, ?B/s]\n",
      "100% 159k/159k [00:00<00:00, 54.6MB/s]\n",
      "/content/data\n",
      "Archive:  train_v2.csv.zip\n",
      "  inflating: /content/data/train_v2.csv  \n",
      "   creating: /content/data/__MACOSX/\n",
      "  inflating: /content/data/__MACOSX/._train_v2.csv  \n"
     ]
    }
   ],
   "source": [
    "# train_v2.csv \n",
    "\n",
    "# downloading from kaggle \n",
    "% cd /content\n",
    "!kaggle competitions download -c planet-understanding-the-amazon-from-space -f train_v2.csv -p data\n",
    "# unzipping\n",
    "% cd /content/data\n",
    "!unzip train_v2.csv.zip -d /content/data"
   ]
  },
  {
   "cell_type": "code",
   "execution_count": 5,
   "metadata": {
    "colab": {
     "base_uri": "https://localhost:8080/",
     "height": 102
    },
    "colab_type": "code",
    "id": "VuHYbk55L36n",
    "outputId": "14ada240-965c-49e1-d977-8705778748eb"
   },
   "outputs": [
    {
     "name": "stdout",
     "output_type": "stream",
     "text": [
      "/content\n",
      "Downloading train-jpg.tar.7z to data\n",
      "100% 599M/600M [00:05<00:00, 146MB/s]\n",
      "100% 600M/600M [00:05<00:00, 112MB/s]\n",
      "/content/data\n"
     ]
    }
   ],
   "source": [
    "# train-jpg.tar.7z\n",
    "# this should take a little time - loading all the images \n",
    "\n",
    "# downloading from kaggle \n",
    "% cd /content\n",
    "!kaggle competitions download -c planet-understanding-the-amazon-from-space -f train-jpg.tar.7z -p data\n",
    "# unzipping \n",
    "% cd /content/data\n",
    "!7z x -so train-jpg.tar.7z | tar xf - -C /content/data"
   ]
  },
  {
   "cell_type": "markdown",
   "metadata": {
    "colab_type": "text",
    "id": "o8bGO9D9bxUJ"
   },
   "source": [
    "# Reading the data"
   ]
  },
  {
   "cell_type": "code",
   "execution_count": 0,
   "metadata": {
    "colab": {},
    "colab_type": "code",
    "collapsed": true,
    "id": "uYPD1eSHMBET"
   },
   "outputs": [],
   "source": [
    "import pandas as pd"
   ]
  },
  {
   "cell_type": "code",
   "execution_count": 7,
   "metadata": {
    "colab": {
     "base_uri": "https://localhost:8080/",
     "height": 204
    },
    "colab_type": "code",
    "id": "wRH6BlV6MUg9",
    "outputId": "985e03c9-0d56-4caf-b7f2-f18fdcaa9359"
   },
   "outputs": [
    {
     "data": {
      "text/html": [
       "<div>\n",
       "<style scoped>\n",
       "    .dataframe tbody tr th:only-of-type {\n",
       "        vertical-align: middle;\n",
       "    }\n",
       "\n",
       "    .dataframe tbody tr th {\n",
       "        vertical-align: top;\n",
       "    }\n",
       "\n",
       "    .dataframe thead th {\n",
       "        text-align: right;\n",
       "    }\n",
       "</style>\n",
       "<table border=\"1\" class=\"dataframe\">\n",
       "  <thead>\n",
       "    <tr style=\"text-align: right;\">\n",
       "      <th></th>\n",
       "      <th>image_name</th>\n",
       "      <th>tags</th>\n",
       "    </tr>\n",
       "  </thead>\n",
       "  <tbody>\n",
       "    <tr>\n",
       "      <th>0</th>\n",
       "      <td>train_0</td>\n",
       "      <td>haze primary</td>\n",
       "    </tr>\n",
       "    <tr>\n",
       "      <th>1</th>\n",
       "      <td>train_1</td>\n",
       "      <td>agriculture clear primary water</td>\n",
       "    </tr>\n",
       "    <tr>\n",
       "      <th>2</th>\n",
       "      <td>train_2</td>\n",
       "      <td>clear primary</td>\n",
       "    </tr>\n",
       "    <tr>\n",
       "      <th>3</th>\n",
       "      <td>train_3</td>\n",
       "      <td>clear primary</td>\n",
       "    </tr>\n",
       "    <tr>\n",
       "      <th>4</th>\n",
       "      <td>train_4</td>\n",
       "      <td>agriculture clear habitation primary road</td>\n",
       "    </tr>\n",
       "  </tbody>\n",
       "</table>\n",
       "</div>"
      ],
      "text/plain": [
       "  image_name                                       tags\n",
       "0    train_0                               haze primary\n",
       "1    train_1            agriculture clear primary water\n",
       "2    train_2                              clear primary\n",
       "3    train_3                              clear primary\n",
       "4    train_4  agriculture clear habitation primary road"
      ]
     },
     "execution_count": 7,
     "metadata": {
      "tags": []
     },
     "output_type": "execute_result"
    }
   ],
   "source": [
    "train_label = pd.read_csv('/content/data/train_v2.csv')\n",
    "train_label.head()"
   ]
  },
  {
   "cell_type": "code",
   "execution_count": 8,
   "metadata": {
    "colab": {
     "base_uri": "https://localhost:8080/",
     "height": 204
    },
    "colab_type": "code",
    "id": "6lgh7tUiThQY",
    "outputId": "b01e2fd5-e0f8-40e5-a0a4-931ea9fc31c0"
   },
   "outputs": [
    {
     "data": {
      "text/html": [
       "<div>\n",
       "<style scoped>\n",
       "    .dataframe tbody tr th:only-of-type {\n",
       "        vertical-align: middle;\n",
       "    }\n",
       "\n",
       "    .dataframe tbody tr th {\n",
       "        vertical-align: top;\n",
       "    }\n",
       "\n",
       "    .dataframe thead th {\n",
       "        text-align: right;\n",
       "    }\n",
       "</style>\n",
       "<table border=\"1\" class=\"dataframe\">\n",
       "  <thead>\n",
       "    <tr style=\"text-align: right;\">\n",
       "      <th></th>\n",
       "      <th>image_name</th>\n",
       "      <th>tags</th>\n",
       "      <th>weather_tags</th>\n",
       "    </tr>\n",
       "  </thead>\n",
       "  <tbody>\n",
       "    <tr>\n",
       "      <th>0</th>\n",
       "      <td>train_0</td>\n",
       "      <td>haze primary</td>\n",
       "      <td>haze</td>\n",
       "    </tr>\n",
       "    <tr>\n",
       "      <th>1</th>\n",
       "      <td>train_1</td>\n",
       "      <td>agriculture clear primary water</td>\n",
       "      <td>clear</td>\n",
       "    </tr>\n",
       "    <tr>\n",
       "      <th>2</th>\n",
       "      <td>train_2</td>\n",
       "      <td>clear primary</td>\n",
       "      <td>clear</td>\n",
       "    </tr>\n",
       "    <tr>\n",
       "      <th>3</th>\n",
       "      <td>train_3</td>\n",
       "      <td>clear primary</td>\n",
       "      <td>clear</td>\n",
       "    </tr>\n",
       "    <tr>\n",
       "      <th>4</th>\n",
       "      <td>train_4</td>\n",
       "      <td>agriculture clear habitation primary road</td>\n",
       "      <td>clear</td>\n",
       "    </tr>\n",
       "  </tbody>\n",
       "</table>\n",
       "</div>"
      ],
      "text/plain": [
       "  image_name                                       tags weather_tags\n",
       "0    train_0                               haze primary         haze\n",
       "1    train_1            agriculture clear primary water        clear\n",
       "2    train_2                              clear primary        clear\n",
       "3    train_3                              clear primary        clear\n",
       "4    train_4  agriculture clear habitation primary road        clear"
      ]
     },
     "execution_count": 8,
     "metadata": {
      "tags": []
     },
     "output_type": "execute_result"
    }
   ],
   "source": [
    "# creating the weather labels\n",
    "weather_categories = ['partly_cloudy', 'haze', 'cloudy', 'clear']\n",
    "weather_tag_list = [[element for element in tag.split() if element in weather_categories] for tag in train_label['tags']]\n",
    "train_label['weather_tags'] = [''.join(tag) for tag in weather_tag_list]\n",
    "train_label.head()"
   ]
  },
  {
   "cell_type": "code",
   "execution_count": 10,
   "metadata": {
    "colab": {
     "base_uri": "https://localhost:8080/",
     "height": 204
    },
    "colab_type": "code",
    "id": "lx-huxM0QaiF",
    "outputId": "fc6c0be0-96e1-4d14-cd31-c787e844f084"
   },
   "outputs": [
    {
     "data": {
      "text/html": [
       "<div>\n",
       "<style scoped>\n",
       "    .dataframe tbody tr th:only-of-type {\n",
       "        vertical-align: middle;\n",
       "    }\n",
       "\n",
       "    .dataframe tbody tr th {\n",
       "        vertical-align: top;\n",
       "    }\n",
       "\n",
       "    .dataframe thead th {\n",
       "        text-align: right;\n",
       "    }\n",
       "</style>\n",
       "<table border=\"1\" class=\"dataframe\">\n",
       "  <thead>\n",
       "    <tr style=\"text-align: right;\">\n",
       "      <th></th>\n",
       "      <th>image_name</th>\n",
       "      <th>tags</th>\n",
       "      <th>weather_tags</th>\n",
       "    </tr>\n",
       "  </thead>\n",
       "  <tbody>\n",
       "    <tr>\n",
       "      <th>1</th>\n",
       "      <td>train_1</td>\n",
       "      <td>agriculture clear primary water</td>\n",
       "      <td>clear</td>\n",
       "    </tr>\n",
       "    <tr>\n",
       "      <th>2</th>\n",
       "      <td>train_2</td>\n",
       "      <td>clear primary</td>\n",
       "      <td>clear</td>\n",
       "    </tr>\n",
       "    <tr>\n",
       "      <th>3</th>\n",
       "      <td>train_3</td>\n",
       "      <td>clear primary</td>\n",
       "      <td>clear</td>\n",
       "    </tr>\n",
       "    <tr>\n",
       "      <th>4</th>\n",
       "      <td>train_4</td>\n",
       "      <td>agriculture clear habitation primary road</td>\n",
       "      <td>clear</td>\n",
       "    </tr>\n",
       "    <tr>\n",
       "      <th>6</th>\n",
       "      <td>train_6</td>\n",
       "      <td>agriculture clear cultivation primary water</td>\n",
       "      <td>clear</td>\n",
       "    </tr>\n",
       "  </tbody>\n",
       "</table>\n",
       "</div>"
      ],
      "text/plain": [
       "  image_name                                         tags weather_tags\n",
       "1    train_1              agriculture clear primary water        clear\n",
       "2    train_2                                clear primary        clear\n",
       "3    train_3                                clear primary        clear\n",
       "4    train_4    agriculture clear habitation primary road        clear\n",
       "6    train_6  agriculture clear cultivation primary water        clear"
      ]
     },
     "execution_count": 10,
     "metadata": {
      "tags": []
     },
     "output_type": "execute_result"
    }
   ],
   "source": [
    "# selecting images of clear weather only \n",
    "train_clear = train_label[train_label['weather_tags'] == 'clear'].copy()\n",
    "train_clear.head()"
   ]
  },
  {
   "cell_type": "code",
   "execution_count": 11,
   "metadata": {
    "colab": {
     "base_uri": "https://localhost:8080/",
     "height": 204
    },
    "colab_type": "code",
    "id": "Ee7ZD7glQnx3",
    "outputId": "42da1348-b8e9-4a4e-92b6-b09285cf084a"
   },
   "outputs": [
    {
     "data": {
      "text/html": [
       "<div>\n",
       "<style scoped>\n",
       "    .dataframe tbody tr th:only-of-type {\n",
       "        vertical-align: middle;\n",
       "    }\n",
       "\n",
       "    .dataframe tbody tr th {\n",
       "        vertical-align: top;\n",
       "    }\n",
       "\n",
       "    .dataframe thead th {\n",
       "        text-align: right;\n",
       "    }\n",
       "</style>\n",
       "<table border=\"1\" class=\"dataframe\">\n",
       "  <thead>\n",
       "    <tr style=\"text-align: right;\">\n",
       "      <th></th>\n",
       "      <th>image_name</th>\n",
       "      <th>tags</th>\n",
       "      <th>weather_tags</th>\n",
       "      <th>binary_tags</th>\n",
       "    </tr>\n",
       "  </thead>\n",
       "  <tbody>\n",
       "    <tr>\n",
       "      <th>1</th>\n",
       "      <td>train_1</td>\n",
       "      <td>agriculture clear primary water</td>\n",
       "      <td>clear</td>\n",
       "      <td>water</td>\n",
       "    </tr>\n",
       "    <tr>\n",
       "      <th>2</th>\n",
       "      <td>train_2</td>\n",
       "      <td>clear primary</td>\n",
       "      <td>clear</td>\n",
       "      <td></td>\n",
       "    </tr>\n",
       "    <tr>\n",
       "      <th>3</th>\n",
       "      <td>train_3</td>\n",
       "      <td>clear primary</td>\n",
       "      <td>clear</td>\n",
       "      <td></td>\n",
       "    </tr>\n",
       "    <tr>\n",
       "      <th>4</th>\n",
       "      <td>train_4</td>\n",
       "      <td>agriculture clear habitation primary road</td>\n",
       "      <td>clear</td>\n",
       "      <td>road</td>\n",
       "    </tr>\n",
       "    <tr>\n",
       "      <th>6</th>\n",
       "      <td>train_6</td>\n",
       "      <td>agriculture clear cultivation primary water</td>\n",
       "      <td>clear</td>\n",
       "      <td>water</td>\n",
       "    </tr>\n",
       "  </tbody>\n",
       "</table>\n",
       "</div>"
      ],
      "text/plain": [
       "  image_name                                         tags weather_tags  \\\n",
       "1    train_1              agriculture clear primary water        clear   \n",
       "2    train_2                                clear primary        clear   \n",
       "3    train_3                                clear primary        clear   \n",
       "4    train_4    agriculture clear habitation primary road        clear   \n",
       "6    train_6  agriculture clear cultivation primary water        clear   \n",
       "\n",
       "  binary_tags  \n",
       "1       water  \n",
       "2              \n",
       "3              \n",
       "4        road  \n",
       "6       water  "
      ]
     },
     "execution_count": 11,
     "metadata": {
      "tags": []
     },
     "output_type": "execute_result"
    }
   ],
   "source": [
    "binary_categories = ['water', 'road']\n",
    "binary_tag_list = [[element for element in tag.split() if element in binary_categories] for tag in train_clear['tags']]\n",
    "train_clear['binary_tags'] = [''.join(tag) for tag in binary_tag_list]\n",
    "train_clear = train_clear[train_clear['binary_tags'].isin(binary_categories)]\n",
    "train_clear.head()"
   ]
  },
  {
   "cell_type": "markdown",
   "metadata": {
    "colab_type": "text",
    "id": "ANFlBXcmm2MM"
   },
   "source": [
    "# Creating folders by class "
   ]
  },
  {
   "cell_type": "code",
   "execution_count": 16,
   "metadata": {
    "colab": {
     "base_uri": "https://localhost:8080/",
     "height": 173
    },
    "colab_type": "code",
    "id": "R6nHo_r3ocF3",
    "outputId": "1e02f22b-d494-45db-a2de-2c610f497bbd"
   },
   "outputs": [
    {
     "data": {
      "text/html": [
       "<div>\n",
       "<style scoped>\n",
       "    .dataframe tbody tr th:only-of-type {\n",
       "        vertical-align: middle;\n",
       "    }\n",
       "\n",
       "    .dataframe tbody tr th {\n",
       "        vertical-align: top;\n",
       "    }\n",
       "\n",
       "    .dataframe thead th {\n",
       "        text-align: right;\n",
       "    }\n",
       "</style>\n",
       "<table border=\"1\" class=\"dataframe\">\n",
       "  <thead>\n",
       "    <tr style=\"text-align: right;\">\n",
       "      <th></th>\n",
       "      <th>image_name</th>\n",
       "      <th>tags</th>\n",
       "      <th>weather_tags</th>\n",
       "      <th>binary_tags</th>\n",
       "    </tr>\n",
       "  </thead>\n",
       "  <tbody>\n",
       "    <tr>\n",
       "      <th>count</th>\n",
       "      <td>8421</td>\n",
       "      <td>8421</td>\n",
       "      <td>8421</td>\n",
       "      <td>8421</td>\n",
       "    </tr>\n",
       "    <tr>\n",
       "      <th>unique</th>\n",
       "      <td>8421</td>\n",
       "      <td>129</td>\n",
       "      <td>1</td>\n",
       "      <td>2</td>\n",
       "    </tr>\n",
       "    <tr>\n",
       "      <th>top</th>\n",
       "      <td>train_30584</td>\n",
       "      <td>clear primary water</td>\n",
       "      <td>clear</td>\n",
       "      <td>road</td>\n",
       "    </tr>\n",
       "    <tr>\n",
       "      <th>freq</th>\n",
       "      <td>1</td>\n",
       "      <td>1850</td>\n",
       "      <td>8421</td>\n",
       "      <td>4607</td>\n",
       "    </tr>\n",
       "  </tbody>\n",
       "</table>\n",
       "</div>"
      ],
      "text/plain": [
       "         image_name                 tags weather_tags binary_tags\n",
       "count          8421                 8421         8421        8421\n",
       "unique         8421                  129            1           2\n",
       "top     train_30584  clear primary water        clear        road\n",
       "freq              1                 1850         8421        4607"
      ]
     },
     "execution_count": 16,
     "metadata": {
      "tags": []
     },
     "output_type": "execute_result"
    }
   ],
   "source": [
    "train_clear.describe()"
   ]
  },
  {
   "cell_type": "code",
   "execution_count": 17,
   "metadata": {
    "colab": {
     "base_uri": "https://localhost:8080/",
     "height": 34
    },
    "colab_type": "code",
    "id": "JTloR1Djm0uM",
    "outputId": "0edf10c7-f662-4ee8-9792-415588193d3d"
   },
   "outputs": [
    {
     "data": {
      "text/plain": [
       "129"
      ]
     },
     "execution_count": 17,
     "metadata": {
      "tags": []
     },
     "output_type": "execute_result"
    }
   ],
   "source": [
    "len(train_clear['tags'].unique()) # number of categories "
   ]
  },
  {
   "cell_type": "code",
   "execution_count": 18,
   "metadata": {
    "colab": {
     "base_uri": "https://localhost:8080/",
     "height": 34
    },
    "colab_type": "code",
    "id": "BPwEBBq_nO4d",
    "outputId": "8a4a7855-5884-46be-f3a3-b88ef879203b"
   },
   "outputs": [
    {
     "data": {
      "text/plain": [
       "(8421, 4)"
      ]
     },
     "execution_count": 18,
     "metadata": {
      "tags": []
     },
     "output_type": "execute_result"
    }
   ],
   "source": [
    "train_clear.shape # number of individuals "
   ]
  },
  {
   "cell_type": "code",
   "execution_count": 20,
   "metadata": {
    "colab": {
     "base_uri": "https://localhost:8080/",
     "height": 142
    },
    "colab_type": "code",
    "id": "ANhKGCVps7Bv",
    "outputId": "579a3da3-303f-401d-9ead-7cc38ea27269"
   },
   "outputs": [
    {
     "data": {
      "text/html": [
       "<div>\n",
       "<style scoped>\n",
       "    .dataframe tbody tr th:only-of-type {\n",
       "        vertical-align: middle;\n",
       "    }\n",
       "\n",
       "    .dataframe tbody tr th {\n",
       "        vertical-align: top;\n",
       "    }\n",
       "\n",
       "    .dataframe thead th {\n",
       "        text-align: right;\n",
       "    }\n",
       "</style>\n",
       "<table border=\"1\" class=\"dataframe\">\n",
       "  <thead>\n",
       "    <tr style=\"text-align: right;\">\n",
       "      <th></th>\n",
       "      <th>image_name</th>\n",
       "      <th>tags</th>\n",
       "      <th>weather_tags</th>\n",
       "    </tr>\n",
       "    <tr>\n",
       "      <th>binary_tags</th>\n",
       "      <th></th>\n",
       "      <th></th>\n",
       "      <th></th>\n",
       "    </tr>\n",
       "  </thead>\n",
       "  <tbody>\n",
       "    <tr>\n",
       "      <th>road</th>\n",
       "      <td>4607</td>\n",
       "      <td>4607</td>\n",
       "      <td>4607</td>\n",
       "    </tr>\n",
       "    <tr>\n",
       "      <th>water</th>\n",
       "      <td>3814</td>\n",
       "      <td>3814</td>\n",
       "      <td>3814</td>\n",
       "    </tr>\n",
       "  </tbody>\n",
       "</table>\n",
       "</div>"
      ],
      "text/plain": [
       "             image_name  tags  weather_tags\n",
       "binary_tags                                \n",
       "road               4607  4607          4607\n",
       "water              3814  3814          3814"
      ]
     },
     "execution_count": 20,
     "metadata": {
      "tags": []
     },
     "output_type": "execute_result"
    }
   ],
   "source": [
    "train_clear.groupby(['binary_tags']).count().sort_values(by = 'image_name', ascending = False).head(5)"
   ]
  },
  {
   "cell_type": "markdown",
   "metadata": {
    "colab_type": "text",
    "id": "fCl0L5_hxYOk"
   },
   "source": [
    "# Creating train/test folders"
   ]
  },
  {
   "cell_type": "code",
   "execution_count": 0,
   "metadata": {
    "colab": {},
    "colab_type": "code",
    "collapsed": true,
    "id": "75efDtS4xdVu"
   },
   "outputs": [],
   "source": [
    "import shutil"
   ]
  },
  {
   "cell_type": "code",
   "execution_count": 0,
   "metadata": {
    "colab": {},
    "colab_type": "code",
    "collapsed": true,
    "id": "3VDdXaHhxhSw"
   },
   "outputs": [],
   "source": [
    "def copy_files_to_folder(list_files, new_folder): # list of files and new folder name as string \n",
    "    !mkdir $new_folder\n",
    "    for file in list_files: \n",
    "        shutil.copy('/content/data/train-jpg/{}.jpg'.format(file), new_folder)"
   ]
  },
  {
   "cell_type": "code",
   "execution_count": 0,
   "metadata": {
    "colab": {},
    "colab_type": "code",
    "collapsed": true,
    "id": "H5OOwwzgyszV"
   },
   "outputs": [],
   "source": [
    "binary_categories = ['water', 'road']"
   ]
  },
  {
   "cell_type": "code",
   "execution_count": 0,
   "metadata": {
    "colab": {},
    "colab_type": "code",
    "collapsed": true,
    "id": "CW8D3v5GuXJf"
   },
   "outputs": [],
   "source": [
    "from random import sample\n",
    "\n",
    "# storing the test-train split of image_names \n",
    "groups = dict()\n",
    "for group_name in binary_categories:\n",
    "\n",
    "    full_names = list(train_clear['image_name'][train_clear['binary_tags'] == group_name])\n",
    "    shuffled_names = sample(full_names, k=len(full_names))\n",
    "    # splitting image names into test-train\n",
    "    sub_groups = dict()\n",
    "    sub_groups['train_names'] = shuffled_names[:int(0.8*len(shuffled_names))]\n",
    "    sub_groups['test_names'] = shuffled_names[int(0.8*len(shuffled_names))+1:]\n",
    "    groups[group_name] = sub_groups"
   ]
  },
  {
   "cell_type": "markdown",
   "metadata": {
    "colab_type": "text",
    "id": "Y9kdU1N_uPFt"
   },
   "source": [
    "# Train"
   ]
  },
  {
   "cell_type": "code",
   "execution_count": 26,
   "metadata": {
    "colab": {
     "base_uri": "https://localhost:8080/",
     "height": 51
    },
    "colab_type": "code",
    "id": "7BytNy_wyQc5",
    "outputId": "12f07a12-146f-4d94-a5c1-da70693e5586"
   },
   "outputs": [
    {
     "name": "stdout",
     "output_type": "stream",
     "text": [
      "/content/data\n",
      "/content/data/train\n"
     ]
    }
   ],
   "source": [
    "% cd /content/data\n",
    "! mkdir train\n",
    "% cd train"
   ]
  },
  {
   "cell_type": "code",
   "execution_count": 27,
   "metadata": {
    "colab": {
     "base_uri": "https://localhost:8080/",
     "height": 34
    },
    "colab_type": "code",
    "id": "fnPxLJI2HY8m",
    "outputId": "9f7298b9-f3bf-4b51-897d-3ee1751c7024"
   },
   "outputs": [
    {
     "name": "stdout",
     "output_type": "stream",
     "text": [
      "/content/data/train\n"
     ]
    }
   ],
   "source": [
    "%cd /content/data/train\n",
    "\n",
    "for group_name in binary_categories:\n",
    "  image_names = groups[group_name]['train_names'] # groups are defined above \n",
    "  copy_files_to_folder(image_names, group_name)"
   ]
  },
  {
   "cell_type": "markdown",
   "metadata": {
    "colab_type": "text",
    "id": "jkK-bfePz8nl"
   },
   "source": [
    "# Test"
   ]
  },
  {
   "cell_type": "code",
   "execution_count": 28,
   "metadata": {
    "colab": {
     "base_uri": "https://localhost:8080/",
     "height": 51
    },
    "colab_type": "code",
    "id": "Ai4eZB6Dz-OB",
    "outputId": "357f637c-b070-4268-fb6c-f6617a685085"
   },
   "outputs": [
    {
     "name": "stdout",
     "output_type": "stream",
     "text": [
      "/content/data\n",
      "/content/data/test\n"
     ]
    }
   ],
   "source": [
    "% cd /content/data\n",
    "! mkdir test\n",
    "% cd test"
   ]
  },
  {
   "cell_type": "code",
   "execution_count": 29,
   "metadata": {
    "colab": {
     "base_uri": "https://localhost:8080/",
     "height": 34
    },
    "colab_type": "code",
    "id": "DhN-cguh0EL7",
    "outputId": "0f36b4d3-6068-4f36-8b6f-c96f96c14bfc"
   },
   "outputs": [
    {
     "name": "stdout",
     "output_type": "stream",
     "text": [
      "/content/data/test\n"
     ]
    }
   ],
   "source": [
    "%cd /content/data/test\n",
    "\n",
    "for group_name in binary_categories:\n",
    "  image_names = groups[group_name]['test_names'] # groups are defined above \n",
    "  copy_files_to_folder(image_names, group_name)"
   ]
  },
  {
   "cell_type": "markdown",
   "metadata": {
    "colab_type": "text",
    "id": "BH8o3pNZGfkr"
   },
   "source": [
    "# Creating sub sample data to check the pipeline"
   ]
  },
  {
   "cell_type": "code",
   "execution_count": 30,
   "metadata": {
    "colab": {
     "base_uri": "https://localhost:8080/",
     "height": 34
    },
    "colab_type": "code",
    "id": "WHHQ51nqFqOv",
    "outputId": "8ee8129b-73f8-4408-8ed0-49428aa04a6a"
   },
   "outputs": [
    {
     "name": "stdout",
     "output_type": "stream",
     "text": [
      "/content/data\n"
     ]
    }
   ],
   "source": [
    "% cd /content/data\n",
    "! mkdir sample "
   ]
  },
  {
   "cell_type": "markdown",
   "metadata": {
    "colab_type": "text",
    "id": "fLXrB5FT0fGm"
   },
   "source": [
    "# Train"
   ]
  },
  {
   "cell_type": "code",
   "execution_count": 31,
   "metadata": {
    "colab": {
     "base_uri": "https://localhost:8080/",
     "height": 51
    },
    "colab_type": "code",
    "id": "dqHkUNEDHdrZ",
    "outputId": "8db34796-da2a-4c4b-d88a-215c34603fc6"
   },
   "outputs": [
    {
     "name": "stdout",
     "output_type": "stream",
     "text": [
      "/content/data/sample\n",
      "/content/data/sample/train\n"
     ]
    }
   ],
   "source": [
    "% cd /content/data/sample\n",
    "! mkdir train\n",
    "% cd train"
   ]
  },
  {
   "cell_type": "code",
   "execution_count": 32,
   "metadata": {
    "colab": {
     "base_uri": "https://localhost:8080/",
     "height": 34
    },
    "colab_type": "code",
    "id": "-H56ZGmfxncM",
    "outputId": "3cec71a5-f6e0-4d0c-92e0-a089f09bb3aa"
   },
   "outputs": [
    {
     "name": "stdout",
     "output_type": "stream",
     "text": [
      "/content/data/sample/train\n"
     ]
    }
   ],
   "source": [
    "%cd /content/data/sample/train\n",
    "\n",
    "sample_size = 1600 \n",
    "\n",
    "for group_name in binary_categories:\n",
    "  image_names = groups[group_name]['train_names'][:sample_size]\n",
    "  copy_files_to_folder(image_names, group_name)"
   ]
  },
  {
   "cell_type": "markdown",
   "metadata": {
    "colab_type": "text",
    "id": "xLMOxbda0xqQ"
   },
   "source": [
    "# Test"
   ]
  },
  {
   "cell_type": "code",
   "execution_count": 33,
   "metadata": {
    "colab": {
     "base_uri": "https://localhost:8080/",
     "height": 51
    },
    "colab_type": "code",
    "id": "JSdjP9TK00f2",
    "outputId": "9261e46a-d3dc-4747-b280-f46bd6b36f68"
   },
   "outputs": [
    {
     "name": "stdout",
     "output_type": "stream",
     "text": [
      "/content/data/sample\n",
      "/content/data/sample/test\n"
     ]
    }
   ],
   "source": [
    "% cd /content/data/sample\n",
    "! mkdir test\n",
    "% cd test"
   ]
  },
  {
   "cell_type": "code",
   "execution_count": 34,
   "metadata": {
    "colab": {
     "base_uri": "https://localhost:8080/",
     "height": 34
    },
    "colab_type": "code",
    "id": "R6M4K_a11TwI",
    "outputId": "8f3652a9-cdfe-411d-f694-a333b579b54b"
   },
   "outputs": [
    {
     "name": "stdout",
     "output_type": "stream",
     "text": [
      "/content/data/sample/test\n"
     ]
    }
   ],
   "source": [
    "%cd /content/data/sample/test\n",
    "\n",
    "sample_size = 400 \n",
    "\n",
    "for group_name in binary_categories:\n",
    "  image_names = groups[group_name]['test_names'][:sample_size]\n",
    "  copy_files_to_folder(image_names, group_name)"
   ]
  }
 ],
 "metadata": {
  "accelerator": "GPU",
  "colab": {
   "collapsed_sections": [],
   "include_colab_link": true,
   "name": "binary_downloading_from_kaggle.ipynb",
   "provenance": [],
   "version": "0.3.2"
  },
  "kernelspec": {
   "display_name": "Python 3",
   "language": "python",
   "name": "python3"
  },
  "language_info": {
   "codemirror_mode": {
    "name": "ipython",
    "version": 3
   },
   "file_extension": ".py",
   "mimetype": "text/x-python",
   "name": "python",
   "nbconvert_exporter": "python",
   "pygments_lexer": "ipython3",
   "version": "3.6.2"
  }
 },
 "nbformat": 4,
 "nbformat_minor": 1
}
