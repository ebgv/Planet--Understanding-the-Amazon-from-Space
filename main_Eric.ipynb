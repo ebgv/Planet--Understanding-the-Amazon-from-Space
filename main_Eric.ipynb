{
  "nbformat": 4,
  "nbformat_minor": 0,
  "metadata": {
    "colab": {
      "name": "Untitled0.ipynb",
      "version": "0.3.2",
      "provenance": [],
      "collapsed_sections": [],
      "include_colab_link": true
    },
    "kernelspec": {
      "name": "python3",
      "display_name": "Python 3"
    }
  },
  "cells": [
    {
      "cell_type": "markdown",
      "metadata": {
        "id": "view-in-github",
        "colab_type": "text"
      },
      "source": [
        "[View in Colaboratory](https://colab.research.google.com/github/ebgv/Planet--Understanding-the-Amazon-from-Space/blob/master/main_Eric.ipynb)"
      ]
    },
    {
      "metadata": {
        "id": "xNAHzQgKc11x",
        "colab_type": "text"
      },
      "cell_type": "markdown",
      "source": [
        "# Planet: Understanding the Amazon from Space"
      ]
    },
    {
      "metadata": {
        "id": "i6atcHTPe4wn",
        "colab_type": "text"
      },
      "cell_type": "markdown",
      "source": [
        "## 1. Loading the data"
      ]
    },
    {
      "metadata": {
        "id": "-E8_cSDccpfa",
        "colab_type": "code",
        "colab": {}
      },
      "cell_type": "code",
      "source": [
        ""
      ],
      "execution_count": 0,
      "outputs": []
    }
  ]
}