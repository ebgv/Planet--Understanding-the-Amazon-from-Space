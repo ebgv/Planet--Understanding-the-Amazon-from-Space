{
  "nbformat": 4,
  "nbformat_minor": 0,
  "metadata": {
    "colab": {
      "name": "Untitled0.ipynb",
      "version": "0.3.2",
      "provenance": [],
      "collapsed_sections": [],
      "include_colab_link": true
    },
    "kernelspec": {
      "name": "python3",
      "display_name": "Python 3"
    },
    "accelerator": "GPU"
  },
  "cells": [
    {
      "cell_type": "markdown",
      "metadata": {
        "id": "view-in-github",
        "colab_type": "text"
      },
      "source": [
        "[![Open In Colab](https://colab.research.google.com/assets/colab-badge.svg)](https://colab.research.google.com/github/ebgv/Planet--Understanding-the-Amazon-from-Space/blob/master/main_Eric_v1.ipynb)"
      ]
    },
    {
      "metadata": {
        "id": "xNAHzQgKc11x",
        "colab_type": "text"
      },
      "cell_type": "markdown",
      "source": [
        "# Planet: Understanding the Amazon from Space"
      ]
    },
    {
      "metadata": {
        "id": "1akWNshagQDH",
        "colab_type": "text"
      },
      "cell_type": "markdown",
      "source": [
        "## 0. Installing all the required packages"
      ]
    },
    {
      "metadata": {
        "id": "hzo-e4T4gPLY",
        "colab_type": "code",
        "outputId": "0afb980f-6e28-4817-ef2f-f7b47e9c5d9d",
        "colab": {
          "base_uri": "https://localhost:8080/",
          "height": 54
        }
      },
      "cell_type": "code",
      "source": [
        "# to install pytorch on colab\n",
        "from os import path\n",
        "from wheel.pep425tags import get_abbr_impl, get_impl_ver, get_abi_tag\n",
        "platform = '{}{}-{}'.format(get_abbr_impl(), get_impl_ver(), get_abi_tag())\n",
        "\n",
        "accelerator = 'cu80' if path.exists('/opt/bin/nvidia-smi') else 'cpu'\n",
        "\n",
        "!pip install -q http://download.pytorch.org/whl/{accelerator}/torch-0.4.1-{platform}-linux_x86_64.whl torchvision"
      ],
      "execution_count": 1,
      "outputs": [
        {
          "output_type": "stream",
          "text": [
            "tcmalloc: large alloc 1073750016 bytes == 0x56b44000 @  0x7fdb9c3be2a4 0x594e17 0x626104 0x51190a 0x4f5277 0x510c78 0x5119bd 0x4f5277 0x4f3338 0x510fb0 0x5119bd 0x4f5277 0x4f3338 0x510fb0 0x5119bd 0x4f5277 0x4f3338 0x510fb0 0x5119bd 0x4f6070 0x510c78 0x5119bd 0x4f5277 0x4f3338 0x510fb0 0x5119bd 0x4f6070 0x4f3338 0x510fb0 0x5119bd 0x4f6070\n"
          ],
          "name": "stdout"
        }
      ]
    },
    {
      "metadata": {
        "id": "tAwwD5pkgvS9",
        "colab_type": "code",
        "outputId": "0b10b556-6a90-4360-89a8-d426297c1188",
        "colab": {
          "base_uri": "https://localhost:8080/",
          "height": 185
        }
      },
      "cell_type": "code",
      "source": [
        "!pip install -U bcolz"
      ],
      "execution_count": 2,
      "outputs": [
        {
          "output_type": "stream",
          "text": [
            "Collecting bcolz\n",
            "\u001b[?25l  Downloading https://files.pythonhosted.org/packages/5c/4e/23942de9d5c0fb16f10335fa83e52b431bcb8c0d4a8419c9ac206268c279/bcolz-1.2.1.tar.gz (1.5MB)\n",
            "\r\u001b[K    0% |▎                               | 10kB 17.3MB/s eta 0:00:01\r\u001b[K    1% |▌                               | 20kB 4.9MB/s eta 0:00:01\r\u001b[K    2% |▊                               | 30kB 6.7MB/s eta 0:00:01\r\u001b[K    2% |█                               | 40kB 4.4MB/s eta 0:00:01\r\u001b[K    3% |█▏                              | 51kB 5.3MB/s eta 0:00:01\r\u001b[K    4% |█▍                              | 61kB 6.2MB/s eta 0:00:01\r\u001b[K    4% |█▋                              | 71kB 7.1MB/s eta 0:00:01\r\u001b[K    5% |█▉                              | 81kB 7.9MB/s eta 0:00:01\r\u001b[K    6% |██                              | 92kB 8.7MB/s eta 0:00:01\r\u001b[K    7% |██▎                             | 102kB 7.1MB/s eta 0:00:01\r\u001b[K    7% |██▌                             | 112kB 7.1MB/s eta 0:00:01\r\u001b[K    8% |██▊                             | 122kB 9.3MB/s eta 0:00:01\r\u001b[K    9% |███                             | 133kB 9.3MB/s eta 0:00:01\r\u001b[K    9% |███▏                            | 143kB 15.7MB/s eta 0:00:01\r\u001b[K    10% |███▍                            | 153kB 16.0MB/s eta 0:00:01\r\u001b[K    11% |███▋                            | 163kB 16.0MB/s eta 0:00:01\r\u001b[K    11% |███▉                            | 174kB 15.9MB/s eta 0:00:01\r\u001b[K    12% |████                            | 184kB 16.0MB/s eta 0:00:01\r\u001b[K    13% |████▎                           | 194kB 16.0MB/s eta 0:00:01\r\u001b[K    14% |████▌                           | 204kB 35.0MB/s eta 0:00:01\r\u001b[K    14% |████▊                           | 215kB 18.7MB/s eta 0:00:01\r\u001b[K    15% |█████                           | 225kB 18.6MB/s eta 0:00:01\r\u001b[K    16% |█████▏                          | 235kB 19.1MB/s eta 0:00:01\r\u001b[K    16% |█████▍                          | 245kB 19.0MB/s eta 0:00:01\r\u001b[K    17% |█████▋                          | 256kB 19.1MB/s eta 0:00:01\r\u001b[K    18% |█████▉                          | 266kB 18.0MB/s eta 0:00:01\r\u001b[K    18% |██████                          | 276kB 18.4MB/s eta 0:00:01\r\u001b[K    19% |██████▎                         | 286kB 18.4MB/s eta 0:00:01\r\u001b[K    20% |██████▌                         | 296kB 18.4MB/s eta 0:00:01\r\u001b[K    21% |██████▊                         | 307kB 18.9MB/s eta 0:00:01\r\u001b[K    21% |███████                         | 317kB 40.1MB/s eta 0:00:01\r\u001b[K    22% |███████▏                        | 327kB 41.3MB/s eta 0:00:01\r\u001b[K    23% |███████▍                        | 337kB 42.7MB/s eta 0:00:01\r\u001b[K    23% |███████▋                        | 348kB 38.7MB/s eta 0:00:01\r\u001b[K    24% |███████▉                        | 358kB 39.0MB/s eta 0:00:01\r\u001b[K    25% |████████                        | 368kB 45.2MB/s eta 0:00:01\r\u001b[K    25% |████████▎                       | 378kB 44.1MB/s eta 0:00:01\r\u001b[K    26% |████████▌                       | 389kB 44.0MB/s eta 0:00:01\r\u001b[K    27% |████████▊                       | 399kB 42.8MB/s eta 0:00:01\r\u001b[K    28% |█████████                       | 409kB 29.6MB/s eta 0:00:01\r\u001b[K    28% |█████████▏                      | 419kB 29.3MB/s eta 0:00:01\r\u001b[K    29% |█████████▍                      | 430kB 29.2MB/s eta 0:00:01\r\u001b[K    30% |█████████▋                      | 440kB 28.9MB/s eta 0:00:01\r\u001b[K    30% |█████████▉                      | 450kB 29.7MB/s eta 0:00:01\r\u001b[K    31% |██████████                      | 460kB 29.5MB/s eta 0:00:01\r\u001b[K    32% |██████████▎                     | 471kB 29.8MB/s eta 0:00:01\r\u001b[K    32% |██████████▋                     | 481kB 30.0MB/s eta 0:00:01\r\u001b[K    33% |██████████▉                     | 491kB 29.9MB/s eta 0:00:01\r\u001b[K    34% |███████████                     | 501kB 30.8MB/s eta 0:00:01\r\u001b[K    35% |███████████▎                    | 512kB 42.3MB/s eta 0:00:01\r\u001b[K    35% |███████████▌                    | 522kB 43.6MB/s eta 0:00:01\r\u001b[K    36% |███████████▊                    | 532kB 44.4MB/s eta 0:00:01\r\u001b[K    37% |████████████                    | 542kB 44.7MB/s eta 0:00:01\r\u001b[K    37% |████████████▏                   | 552kB 49.1MB/s eta 0:00:01\r\u001b[K    38% |████████████▍                   | 563kB 48.6MB/s eta 0:00:01\r\u001b[K    39% |████████████▋                   | 573kB 45.8MB/s eta 0:00:01\r\u001b[K    40% |████████████▉                   | 583kB 44.9MB/s eta 0:00:01\r\u001b[K    40% |█████████████                   | 593kB 44.1MB/s eta 0:00:01\r\u001b[K    41% |█████████████▎                  | 604kB 42.9MB/s eta 0:00:01\r\u001b[K    42% |█████████████▌                  | 614kB 45.1MB/s eta 0:00:01\r\u001b[K    42% |█████████████▊                  | 624kB 44.5MB/s eta 0:00:01\r\u001b[K    43% |██████████████                  | 634kB 43.4MB/s eta 0:00:01\r\u001b[K    44% |██████████████▏                 | 645kB 42.0MB/s eta 0:00:01\r\u001b[K    44% |██████████████▍                 | 655kB 39.4MB/s eta 0:00:01\r\u001b[K    45% |██████████████▋                 | 665kB 31.2MB/s eta 0:00:01\r\u001b[K    46% |██████████████▉                 | 675kB 31.7MB/s eta 0:00:01\r\u001b[K    47% |███████████████                 | 686kB 32.6MB/s eta 0:00:01\r\u001b[K    47% |███████████████▎                | 696kB 33.3MB/s eta 0:00:01\r\u001b[K    48% |███████████████▌                | 706kB 33.7MB/s eta 0:00:01\r\u001b[K    49% |███████████████▊                | 716kB 34.0MB/s eta 0:00:01\r\u001b[K    49% |████████████████                | 727kB 34.0MB/s eta 0:00:01\r\u001b[K    50% |████████████████▏               | 737kB 34.6MB/s eta 0:00:01\r\u001b[K    51% |████████████████▍               | 747kB 35.9MB/s eta 0:00:01\r\u001b[K    51% |████████████████▋               | 757kB 37.6MB/s eta 0:00:01\r\u001b[K    52% |████████████████▉               | 768kB 49.1MB/s eta 0:00:01\r\u001b[K    53% |█████████████████               | 778kB 49.0MB/s eta 0:00:01\r\u001b[K    54% |█████████████████▎              | 788kB 48.4MB/s eta 0:00:01\r\u001b[K    54% |█████████████████▌              | 798kB 48.7MB/s eta 0:00:01\r\u001b[K    55% |█████████████████▊              | 808kB 48.3MB/s eta 0:00:01\r\u001b[K    56% |██████████████████              | 819kB 48.3MB/s eta 0:00:01\r\u001b[K    56% |██████████████████▏             | 829kB 49.2MB/s eta 0:00:01\r\u001b[K    57% |██████████████████▍             | 839kB 48.0MB/s eta 0:00:01\r\u001b[K    58% |██████████████████▋             | 849kB 46.7MB/s eta 0:00:01\r\u001b[K    58% |██████████████████▉             | 860kB 39.8MB/s eta 0:00:01\r\u001b[K    59% |███████████████████             | 870kB 40.5MB/s eta 0:00:01\r\u001b[K    60% |███████████████████▎            | 880kB 41.8MB/s eta 0:00:01\r\u001b[K    61% |███████████████████▌            | 890kB 41.4MB/s eta 0:00:01\r\u001b[K    61% |███████████████████▊            | 901kB 40.8MB/s eta 0:00:01\r\u001b[K    62% |████████████████████            | 911kB 41.3MB/s eta 0:00:01\r\u001b[K    63% |████████████████████▏           | 921kB 40.9MB/s eta 0:00:01\r\u001b[K    63% |████████████████████▍           | 931kB 41.1MB/s eta 0:00:01\r\u001b[K    64% |████████████████████▋           | 942kB 41.7MB/s eta 0:00:01\r\u001b[K    65% |████████████████████▉           | 952kB 42.3MB/s eta 0:00:01\r\u001b[K    65% |█████████████████████▏          | 962kB 50.7MB/s eta 0:00:01\r\u001b[K    66% |█████████████████████▍          | 972kB 51.2MB/s eta 0:00:01\r\u001b[K    67% |█████████████████████▋          | 983kB 49.8MB/s eta 0:00:01\r\u001b[K    68% |█████████████████████▉          | 993kB 50.4MB/s eta 0:00:01\r\u001b[K    68% |██████████████████████          | 1.0MB 50.8MB/s eta 0:00:01\r\u001b[K    69% |██████████████████████▎         | 1.0MB 51.3MB/s eta 0:00:01\r\u001b[K    70% |██████████████████████▌         | 1.0MB 52.2MB/s eta 0:00:01\r\u001b[K    70% |██████████████████████▊         | 1.0MB 51.1MB/s eta 0:00:01\r\u001b[K    71% |███████████████████████         | 1.0MB 51.6MB/s eta 0:00:01\r\u001b[K    72% |███████████████████████▏        | 1.1MB 51.8MB/s eta 0:00:01\r\u001b[K    72% |███████████████████████▍        | 1.1MB 51.3MB/s eta 0:00:01\r\u001b[K    73% |███████████████████████▋        | 1.1MB 52.0MB/s eta 0:00:01\r\u001b[K    74% |███████████████████████▉        | 1.1MB 52.9MB/s eta 0:00:01\r\u001b[K    75% |████████████████████████        | 1.1MB 43.1MB/s eta 0:00:01\r\u001b[K    75% |████████████████████████▎       | 1.1MB 43.2MB/s eta 0:00:01\r\u001b[K    76% |████████████████████████▌       | 1.1MB 42.9MB/s eta 0:00:01\r\u001b[K    77% |████████████████████████▊       | 1.1MB 42.7MB/s eta 0:00:01\r\u001b[K    77% |█████████████████████████       | 1.1MB 42.7MB/s eta 0:00:01\r\u001b[K    78% |█████████████████████████▏      | 1.1MB 42.5MB/s eta 0:00:01\r\u001b[K    79% |█████████████████████████▍      | 1.2MB 42.2MB/s eta 0:00:01\r\u001b[K    80% |█████████████████████████▋      | 1.2MB 42.1MB/s eta 0:00:01\r\u001b[K    80% |█████████████████████████▉      | 1.2MB 41.5MB/s eta 0:00:01\r\u001b[K    81% |██████████████████████████      | 1.2MB 41.4MB/s eta 0:00:01\r\u001b[K    82% |██████████████████████████▎     | 1.2MB 49.8MB/s eta 0:00:01\r\u001b[K    82% |██████████████████████████▌     | 1.2MB 50.3MB/s eta 0:00:01\r\u001b[K    83% |██████████████████████████▊     | 1.2MB 50.2MB/s eta 0:00:01\r\u001b[K    84% |███████████████████████████     | 1.2MB 49.8MB/s eta 0:00:01\r\u001b[K    84% |███████████████████████████▏    | 1.2MB 50.1MB/s eta 0:00:01\r\u001b[K    85% |███████████████████████████▍    | 1.2MB 50.1MB/s eta 0:00:01\r\u001b[K    86% |███████████████████████████▋    | 1.3MB 50.2MB/s eta 0:00:01\r\u001b[K    87% |███████████████████████████▉    | 1.3MB 49.8MB/s eta 0:00:01\r\u001b[K    87% |████████████████████████████    | 1.3MB 49.8MB/s eta 0:00:01\r\u001b[K    88% |████████████████████████████▎   | 1.3MB 50.2MB/s eta 0:00:01\r\u001b[K    89% |████████████████████████████▌   | 1.3MB 50.7MB/s eta 0:00:01\r\u001b[K    89% |████████████████████████████▊   | 1.3MB 49.6MB/s eta 0:00:01\r\u001b[K    90% |█████████████████████████████   | 1.3MB 48.0MB/s eta 0:00:01\r\u001b[K    91% |█████████████████████████████▏  | 1.3MB 48.1MB/s eta 0:00:01\r\u001b[K    91% |█████████████████████████████▍  | 1.3MB 48.6MB/s eta 0:00:01\r\u001b[K    92% |█████████████████████████████▋  | 1.4MB 48.9MB/s eta 0:00:01\r\u001b[K    93% |█████████████████████████████▉  | 1.4MB 49.2MB/s eta 0:00:01\r\u001b[K    94% |██████████████████████████████  | 1.4MB 49.1MB/s eta 0:00:01\r\u001b[K    94% |██████████████████████████████▎ | 1.4MB 49.5MB/s eta 0:00:01\r\u001b[K    95% |██████████████████████████████▌ | 1.4MB 49.1MB/s eta 0:00:01\r\u001b[K    96% |██████████████████████████████▊ | 1.4MB 31.7MB/s eta 0:00:01\r\u001b[K    96% |███████████████████████████████ | 1.4MB 31.4MB/s eta 0:00:01\r\u001b[K    97% |███████████████████████████████▏| 1.4MB 32.2MB/s eta 0:00:01\r\u001b[K    98% |███████████████████████████████▍| 1.4MB 32.3MB/s eta 0:00:01\r\u001b[K    98% |███████████████████████████████▊| 1.4MB 32.1MB/s eta 0:00:01\r\u001b[K    99% |████████████████████████████████| 1.5MB 32.2MB/s eta 0:00:01\r\u001b[K    100% |████████████████████████████████| 1.5MB 13.4MB/s \n",
            "\u001b[?25hRequirement already satisfied, skipping upgrade: numpy>=1.7 in /usr/local/lib/python3.6/dist-packages (from bcolz) (1.14.6)\n",
            "Building wheels for collected packages: bcolz\n",
            "  Running setup.py bdist_wheel for bcolz ... \u001b[?25l-\b \b\\\b \b|\b \b/\b \b-\b \b\\\b \b|\b \b/\b \b-\b \b\\\b \b|\b \b/\b \b-\b \b\\\b \b|\b \b/\b \b-\b \b\\\b \b|\b \b/\b \b-\b \b\\\b \b|\b \b/\b \b-\b \b\\\b \b|\b \b/\b \b-\b \b\\\b \b|\b \b/\b \b-\b \b\\\b \b|\b \b/\b \b-\b \b\\\b \b|\b \b/\b \b-\b \b\\\b \b|\b \b/\b \b-\b \b\\\b \b|\b \b/\b \b-\b \b\\\b \b|\b \b/\b \b-\b \b\\\b \b|\b \b/\b \b-\b \b\\\b \b|\b \bdone\n",
            "\u001b[?25h  Stored in directory: /root/.cache/pip/wheels/9f/78/26/fb8c0acb91a100dc8914bf236c4eaa4b207cb876893c40b745\n",
            "Successfully built bcolz\n",
            "Installing collected packages: bcolz\n",
            "Successfully installed bcolz-1.2.1\n"
          ],
          "name": "stdout"
        }
      ]
    },
    {
      "metadata": {
        "id": "pvVBq1R8gyxx",
        "colab_type": "code",
        "outputId": "7d9f8264-3a59-44b6-cadf-cfd439520143",
        "colab": {
          "base_uri": "https://localhost:8080/",
          "height": 185
        }
      },
      "cell_type": "code",
      "source": [
        "!pip install Pillow==4.0.0"
      ],
      "execution_count": 3,
      "outputs": [
        {
          "output_type": "stream",
          "text": [
            "Collecting Pillow==4.0.0\n",
            "\u001b[?25l  Downloading https://files.pythonhosted.org/packages/37/e8/b3fbf87b0188d22246678f8cd61e23e31caa1769ebc06f1664e2e5fe8a17/Pillow-4.0.0-cp36-cp36m-manylinux1_x86_64.whl (5.6MB)\n",
            "\u001b[K    100% |████████████████████████████████| 5.6MB 5.9MB/s \n",
            "\u001b[?25hRequirement already satisfied: olefile in /usr/local/lib/python3.6/dist-packages (from Pillow==4.0.0) (0.46)\n",
            "\u001b[31mtorchvision 0.2.1 has requirement pillow>=4.1.1, but you'll have pillow 4.0.0 which is incompatible.\u001b[0m\n",
            "Installing collected packages: Pillow\n",
            "  Found existing installation: Pillow 5.3.0\n",
            "    Uninstalling Pillow-5.3.0:\n",
            "      Successfully uninstalled Pillow-5.3.0\n",
            "Successfully installed Pillow-4.0.0\n"
          ],
          "name": "stdout"
        }
      ]
    },
    {
      "metadata": {
        "id": "33dB1KwHg3yE",
        "colab_type": "code",
        "colab": {}
      },
      "cell_type": "code",
      "source": [
        "from PIL import Image\n",
        "import numpy as np\n",
        "import pandas as pd\n",
        "import matplotlib.pyplot as plt\n",
        "import os\n",
        "import torch\n",
        "import torch.nn as nn\n",
        "import torchvision\n",
        "from torchvision import models,transforms,datasets\n",
        "import bcolz\n",
        "import time\n",
        "%matplotlib inline"
      ],
      "execution_count": 0,
      "outputs": []
    },
    {
      "metadata": {
        "id": "i6atcHTPe4wn",
        "colab_type": "text"
      },
      "cell_type": "markdown",
      "source": [
        "## 1. Downloading the data"
      ]
    },
    {
      "metadata": {
        "id": "Z_J5tcFyiMIj",
        "colab_type": "text"
      },
      "cell_type": "markdown",
      "source": [
        "First, we create the directory where we will store the data:"
      ]
    },
    {
      "metadata": {
        "id": "-E8_cSDccpfa",
        "colab_type": "code",
        "outputId": "c4eb2bcf-79ca-44c2-f2bc-53386c33abfd",
        "colab": {
          "base_uri": "https://localhost:8080/",
          "height": 50
        }
      },
      "cell_type": "code",
      "source": [
        "!pwd\n",
        "!mkdir data\n",
        "!ls"
      ],
      "execution_count": 5,
      "outputs": [
        {
          "output_type": "stream",
          "text": [
            "/content\n",
            "data  sample_data\n"
          ],
          "name": "stdout"
        }
      ]
    },
    {
      "metadata": {
        "id": "_7FIZ09mikGe",
        "colab_type": "text"
      },
      "cell_type": "markdown",
      "source": [
        "Now we retrive the data from kaggle:"
      ]
    },
    {
      "metadata": {
        "id": "wvR2QVdK1DsF",
        "colab_type": "code",
        "colab": {}
      },
      "cell_type": "code",
      "source": [
        "# First downloading the Kaggle API token\n",
        "!pip install -U -q kaggle\n",
        "!mkdir -p ~/.kaggle\n",
        "!echo '{\"username\":\"danielwientjens\",\"key\":\"57cf17d52f3b8964bfc1796533f16115\"}' > ~/.kaggle/kaggle.json\n",
        "!chmod 600 ~/.kaggle/kaggle.json"
      ],
      "execution_count": 0,
      "outputs": []
    },
    {
      "metadata": {
        "id": "kNeSilxg1v5O",
        "colab_type": "code",
        "outputId": "1b3f81c9-4e47-4176-ecdd-2c78f8e2e3ae",
        "colab": {
          "base_uri": "https://localhost:8080/",
          "height": 252
        }
      },
      "cell_type": "code",
      "source": [
        "# downloading from kaggle:\n",
        "## train_v2.csv\n",
        "% cd /content\n",
        "!kaggle competitions download -c planet-understanding-the-amazon-from-space -f train_v2.csv -p data\n",
        "# unzipping\n",
        "% cd /content/data\n",
        "!unzip train_v2.csv.zip -d /content/data\n",
        "\n",
        "## train-jpg.tar.7z\n",
        "% cd /content\n",
        "!kaggle competitions download -c planet-understanding-the-amazon-from-space -f train-jpg.tar.7z -p data\n",
        "# unzipping \n",
        "% cd /content/data\n",
        "!7z x -so train-jpg.tar.7z | tar xf - -C /content/data"
      ],
      "execution_count": 7,
      "outputs": [
        {
          "output_type": "stream",
          "text": [
            "/content\n",
            "Downloading train_v2.csv.zip to data\n",
            "  0% 0.00/159k [00:00<?, ?B/s]\n",
            "100% 159k/159k [00:00<00:00, 50.5MB/s]\n",
            "/content/data\n",
            "Archive:  train_v2.csv.zip\n",
            "  inflating: /content/data/train_v2.csv  \n",
            "   creating: /content/data/__MACOSX/\n",
            "  inflating: /content/data/__MACOSX/._train_v2.csv  \n",
            "/content\n",
            "Downloading train-jpg.tar.7z to data\n",
            " 99% 593M/600M [00:04<00:00, 170MB/s]\n",
            "100% 600M/600M [00:04<00:00, 127MB/s]\n",
            "/content/data\n"
          ],
          "name": "stdout"
        }
      ]
    },
    {
      "metadata": {
        "id": "UyNDn2rKq1bQ",
        "colab_type": "code",
        "outputId": "d8cd8753-4d0f-4cbd-8bcf-8e50bb3c6465",
        "colab": {
          "base_uri": "https://localhost:8080/",
          "height": 50
        }
      },
      "cell_type": "code",
      "source": [
        "# Check files:\n",
        "%cd /content/data\n",
        "%ls"
      ],
      "execution_count": 8,
      "outputs": [
        {
          "output_type": "stream",
          "text": [
            "/content/data\n",
            "\u001b[0m\u001b[01;34m__MACOSX\u001b[0m/  \u001b[01;34mtrain-jpg\u001b[0m/  train-jpg.tar.7z  train_v2.csv  train_v2.csv.zip\n"
          ],
          "name": "stdout"
        }
      ]
    },
    {
      "metadata": {
        "id": "-pCUP-ODqJOk",
        "colab_type": "text"
      },
      "cell_type": "markdown",
      "source": [
        "## 2.  Loading the data"
      ]
    },
    {
      "metadata": {
        "id": "P069zdy45YOY",
        "colab_type": "text"
      },
      "cell_type": "markdown",
      "source": [
        "Let's visualize the data, we have a .csv file with the image labels:"
      ]
    },
    {
      "metadata": {
        "id": "VfL0ylhzqFjo",
        "colab_type": "code",
        "outputId": "b54f4c3e-8421-4e38-893f-6677b111e4df",
        "colab": {
          "base_uri": "https://localhost:8080/",
          "height": 195
        }
      },
      "cell_type": "code",
      "source": [
        "train_label = pd.read_csv('/content/data/train_v2.csv')\n",
        "train_label.head()"
      ],
      "execution_count": 9,
      "outputs": [
        {
          "output_type": "execute_result",
          "data": {
            "text/html": [
              "<div>\n",
              "<style scoped>\n",
              "    .dataframe tbody tr th:only-of-type {\n",
              "        vertical-align: middle;\n",
              "    }\n",
              "\n",
              "    .dataframe tbody tr th {\n",
              "        vertical-align: top;\n",
              "    }\n",
              "\n",
              "    .dataframe thead th {\n",
              "        text-align: right;\n",
              "    }\n",
              "</style>\n",
              "<table border=\"1\" class=\"dataframe\">\n",
              "  <thead>\n",
              "    <tr style=\"text-align: right;\">\n",
              "      <th></th>\n",
              "      <th>image_name</th>\n",
              "      <th>tags</th>\n",
              "    </tr>\n",
              "  </thead>\n",
              "  <tbody>\n",
              "    <tr>\n",
              "      <th>0</th>\n",
              "      <td>train_0</td>\n",
              "      <td>haze primary</td>\n",
              "    </tr>\n",
              "    <tr>\n",
              "      <th>1</th>\n",
              "      <td>train_1</td>\n",
              "      <td>agriculture clear primary water</td>\n",
              "    </tr>\n",
              "    <tr>\n",
              "      <th>2</th>\n",
              "      <td>train_2</td>\n",
              "      <td>clear primary</td>\n",
              "    </tr>\n",
              "    <tr>\n",
              "      <th>3</th>\n",
              "      <td>train_3</td>\n",
              "      <td>clear primary</td>\n",
              "    </tr>\n",
              "    <tr>\n",
              "      <th>4</th>\n",
              "      <td>train_4</td>\n",
              "      <td>agriculture clear habitation primary road</td>\n",
              "    </tr>\n",
              "  </tbody>\n",
              "</table>\n",
              "</div>"
            ],
            "text/plain": [
              "  image_name                                       tags\n",
              "0    train_0                               haze primary\n",
              "1    train_1            agriculture clear primary water\n",
              "2    train_2                              clear primary\n",
              "3    train_3                              clear primary\n",
              "4    train_4  agriculture clear habitation primary road"
            ]
          },
          "metadata": {
            "tags": []
          },
          "execution_count": 9
        }
      ]
    },
    {
      "metadata": {
        "id": "XvcAv7cVI801",
        "colab_type": "code",
        "outputId": "11ed522b-9d30-490a-acb5-9fd84838461a",
        "colab": {
          "base_uri": "https://localhost:8080/",
          "height": 34
        }
      },
      "cell_type": "code",
      "source": [
        "len(train_label)"
      ],
      "execution_count": 10,
      "outputs": [
        {
          "output_type": "execute_result",
          "data": {
            "text/plain": [
              "40479"
            ]
          },
          "metadata": {
            "tags": []
          },
          "execution_count": 10
        }
      ]
    },
    {
      "metadata": {
        "id": "3QJllzHFsM8d",
        "colab_type": "text"
      },
      "cell_type": "markdown",
      "source": [
        "Add the weather_tags:"
      ]
    },
    {
      "metadata": {
        "id": "addRCv_VsSde",
        "colab_type": "code",
        "colab": {
          "base_uri": "https://localhost:8080/",
          "height": 195
        },
        "outputId": "21471a21-e270-4b0d-85ee-898be9729dca"
      },
      "cell_type": "code",
      "source": [
        "weather_list = ['partly_cloudy', 'haze', 'cloudy', 'clear']\n",
        "weather_tag_list = [[element for element in tag.split() if element in weather_list] for tag in train_label['tags']]\n",
        "train_label['weather_tags'] = [''.join(tag) for tag in weather_tag_list]\n",
        "train_label.head()"
      ],
      "execution_count": 11,
      "outputs": [
        {
          "output_type": "execute_result",
          "data": {
            "text/html": [
              "<div>\n",
              "<style scoped>\n",
              "    .dataframe tbody tr th:only-of-type {\n",
              "        vertical-align: middle;\n",
              "    }\n",
              "\n",
              "    .dataframe tbody tr th {\n",
              "        vertical-align: top;\n",
              "    }\n",
              "\n",
              "    .dataframe thead th {\n",
              "        text-align: right;\n",
              "    }\n",
              "</style>\n",
              "<table border=\"1\" class=\"dataframe\">\n",
              "  <thead>\n",
              "    <tr style=\"text-align: right;\">\n",
              "      <th></th>\n",
              "      <th>image_name</th>\n",
              "      <th>tags</th>\n",
              "      <th>weather_tags</th>\n",
              "    </tr>\n",
              "  </thead>\n",
              "  <tbody>\n",
              "    <tr>\n",
              "      <th>0</th>\n",
              "      <td>train_0</td>\n",
              "      <td>haze primary</td>\n",
              "      <td>haze</td>\n",
              "    </tr>\n",
              "    <tr>\n",
              "      <th>1</th>\n",
              "      <td>train_1</td>\n",
              "      <td>agriculture clear primary water</td>\n",
              "      <td>clear</td>\n",
              "    </tr>\n",
              "    <tr>\n",
              "      <th>2</th>\n",
              "      <td>train_2</td>\n",
              "      <td>clear primary</td>\n",
              "      <td>clear</td>\n",
              "    </tr>\n",
              "    <tr>\n",
              "      <th>3</th>\n",
              "      <td>train_3</td>\n",
              "      <td>clear primary</td>\n",
              "      <td>clear</td>\n",
              "    </tr>\n",
              "    <tr>\n",
              "      <th>4</th>\n",
              "      <td>train_4</td>\n",
              "      <td>agriculture clear habitation primary road</td>\n",
              "      <td>clear</td>\n",
              "    </tr>\n",
              "  </tbody>\n",
              "</table>\n",
              "</div>"
            ],
            "text/plain": [
              "  image_name                                       tags weather_tags\n",
              "0    train_0                               haze primary         haze\n",
              "1    train_1            agriculture clear primary water        clear\n",
              "2    train_2                              clear primary        clear\n",
              "3    train_3                              clear primary        clear\n",
              "4    train_4  agriculture clear habitation primary road        clear"
            ]
          },
          "metadata": {
            "tags": []
          },
          "execution_count": 11
        }
      ]
    },
    {
      "metadata": {
        "id": "3HM-YP9G51xY",
        "colab_type": "text"
      },
      "cell_type": "markdown",
      "source": [
        "And the image folder:"
      ]
    },
    {
      "metadata": {
        "id": "qdEM53tT5ywG",
        "colab_type": "code",
        "outputId": "69c12412-1d5e-4462-d45d-831a010703d7",
        "colab": {
          "base_uri": "https://localhost:8080/",
          "height": 286
        }
      },
      "cell_type": "code",
      "source": [
        "% cd /content/data/train-jpg\n",
        "\n",
        "import matplotlib.pyplot as plt\n",
        "import matplotlib.image as mpimg\n",
        "import numpy as np\n",
        "\n",
        "img = mpimg.imread('train_1.jpg')\n",
        "imgplot = plt.imshow(img)\n",
        "plt.show()"
      ],
      "execution_count": 12,
      "outputs": [
        {
          "output_type": "stream",
          "text": [
            "/content/data/train-jpg\n"
          ],
          "name": "stdout"
        },
        {
          "output_type": "display_data",
          "data": {
            "image/png": "[encoded data removed]",
            "text/plain": [
              "<matplotlib.figure.Figure at 0x7f116fcc57b8>"
            ]
          },
          "metadata": {
            "tags": []
          }
        }
      ]
    },
    {
      "metadata": {
        "id": "6H_23BPB8hIB",
        "colab_type": "text"
      },
      "cell_type": "markdown",
      "source": [
        "Now we can proceed to the data loading:"
      ]
    },
    {
      "metadata": {
        "id": "Hz0KD3MH_9e9",
        "colab_type": "code",
        "colab": {}
      },
      "cell_type": "code",
      "source": [
        "img_path = '/content/data/train-jpg/'\n",
        "img_ext = '.jpg'\n",
        "train_data = '/content/data/train_v2.csv'"
      ],
      "execution_count": 0,
      "outputs": []
    },
    {
      "metadata": {
        "id": "xQ78sTpz8fxZ",
        "colab_type": "code",
        "colab": {}
      },
      "cell_type": "code",
      "source": [
        "from torch.utils.data.dataset import Dataset\n",
        "from sklearn.preprocessing import MultiLabelBinarizer\n",
        "\n",
        "class KaggleAmazonDataset(Dataset):\n",
        "  def __init__(self, csv_path, img_path, img_ext, transform=None):\n",
        "    # Check that all images mentioned in the .csv exist in the folder:\n",
        "    tmp_df = train_label #pd.read_csv('/content/data/train_v2.csv')\n",
        "    assert tmp_df['image_name'].apply(lambda x: os.path.isfile(img_path+x+img_ext)).all(), \"Some images referenced in the CSV file were not found\"\n",
        "      \n",
        "    self.mlb = MultiLabelBinarizer()\n",
        "    self.img_path = img_path\n",
        "    self.img_ext = img_ext\n",
        "    self.transform = transform\n",
        "      \n",
        "    self.X_train = tmp_df['image_name']\n",
        "    self.Y_train = self.mlb.fit_transform(tmp_df['weather_tags'].str.split()).astype(np.float32)\n",
        "      \n",
        "  def __getitem__(self, index):\n",
        "    img = Image.open(self.img_path + self.X_train[index] + self.img_ext)\n",
        "    img = img.convert('RGB')\n",
        "    \n",
        "    if self.transform is not None:\n",
        "      img = self.transform(img)\n",
        "      \n",
        "    label = torch.from_numpy(self.Y_train[index]) # Create a tensor from np array\n",
        "    return img, label\n",
        "  \n",
        "  def __len__(self):\n",
        "    return len(self.X_train.index)"
      ],
      "execution_count": 0,
      "outputs": []
    },
    {
      "metadata": {
        "id": "WzBlDts9TQ2e",
        "colab_type": "text"
      },
      "cell_type": "markdown",
      "source": [
        "We need to define now the transformation we want to apply to the iamge:"
      ]
    },
    {
      "metadata": {
        "id": "rY5ubEYdTXIv",
        "colab_type": "code",
        "colab": {}
      },
      "cell_type": "code",
      "source": [
        "# Using torchvision image transformation options we resize them and convert them into a tensor:\n",
        "transformations = transforms.Compose([transforms.Resize(32),transforms.ToTensor()])\n"
      ],
      "execution_count": 0,
      "outputs": []
    },
    {
      "metadata": {
        "id": "RleKpLNeFSAr",
        "colab_type": "code",
        "colab": {}
      },
      "cell_type": "code",
      "source": [
        "dset_train = KaggleAmazonDataset(train_data,img_path, img_ext, transformations)"
      ],
      "execution_count": 0,
      "outputs": []
    },
    {
      "metadata": {
        "id": "WPKHSWPwTQSk",
        "colab_type": "text"
      },
      "cell_type": "markdown",
      "source": [
        "As an example of the resulting data formatting, extracting the first image:"
      ]
    },
    {
      "metadata": {
        "id": "tfc2ZYrMJq3c",
        "colab_type": "code",
        "outputId": "e2d1a4bd-e720-469a-fdc0-d054fac9047f",
        "colab": {
          "base_uri": "https://localhost:8080/",
          "height": 420
        }
      },
      "cell_type": "code",
      "source": [
        "dset_train[1]"
      ],
      "execution_count": 29,
      "outputs": [
        {
          "output_type": "execute_result",
          "data": {
            "text/plain": [
              "(tensor([[[0.2431, 0.2392, 0.2510,  ..., 0.2196, 0.2588, 0.2392],\n",
              "          [0.2549, 0.2471, 0.2471,  ..., 0.2157, 0.2549, 0.2863],\n",
              "          [0.2471, 0.2549, 0.2314,  ..., 0.2078, 0.2275, 0.2667],\n",
              "          ...,\n",
              "          [0.4039, 0.4000, 0.3608,  ..., 0.2078, 0.2157, 0.2196],\n",
              "          [0.3961, 0.3961, 0.3569,  ..., 0.2000, 0.2235, 0.2157],\n",
              "          [0.3843, 0.3765, 0.3725,  ..., 0.2000, 0.2431, 0.2627]],\n",
              " \n",
              "         [[0.2784, 0.2863, 0.3020,  ..., 0.2627, 0.3059, 0.2863],\n",
              "          [0.2941, 0.2941, 0.2902,  ..., 0.2549, 0.2980, 0.3333],\n",
              "          [0.2902, 0.3059, 0.2784,  ..., 0.2471, 0.2706, 0.3137],\n",
              "          ...,\n",
              "          [0.4314, 0.4275, 0.3961,  ..., 0.2588, 0.2667, 0.2706],\n",
              "          [0.4275, 0.4157, 0.3961,  ..., 0.2431, 0.2706, 0.2627],\n",
              "          [0.4118, 0.4039, 0.4000,  ..., 0.2471, 0.2902, 0.3020]],\n",
              " \n",
              "         [[0.2471, 0.2471, 0.2549,  ..., 0.2353, 0.2549, 0.2431],\n",
              "          [0.2549, 0.2510, 0.2510,  ..., 0.2353, 0.2510, 0.2667],\n",
              "          [0.2510, 0.2549, 0.2431,  ..., 0.2275, 0.2431, 0.2627],\n",
              "          ...,\n",
              "          [0.3216, 0.3176, 0.3059,  ..., 0.2314, 0.2353, 0.2392],\n",
              "          [0.3216, 0.3137, 0.3020,  ..., 0.2275, 0.2392, 0.2275],\n",
              "          [0.3176, 0.3098, 0.3059,  ..., 0.2314, 0.2510, 0.2510]]]),\n",
              " tensor([1., 0., 0., 0.]))"
            ]
          },
          "metadata": {
            "tags": []
          },
          "execution_count": 29
        }
      ]
    },
    {
      "metadata": {
        "id": "O6W86L21UjNc",
        "colab_type": "text"
      },
      "cell_type": "markdown",
      "source": [
        "With the data storage created we can load data with DataLoader:"
      ]
    },
    {
      "metadata": {
        "id": "tn7TQBy9E1Zo",
        "colab_type": "code",
        "colab": {}
      },
      "cell_type": "code",
      "source": [
        "from torch.utils.data import DataLoader\n",
        "\n",
        "train_loader = DataLoader(dset_train,\n",
        "                          batch_size=256,\n",
        "                          shuffle=True, # Reshuffle data at every epoch\n",
        "                          num_workers=1,\n",
        "                          pin_memory=True # CUDA only\n",
        "                         )"
      ],
      "execution_count": 0,
      "outputs": []
    },
    {
      "metadata": {
        "id": "gxa3-GGEXelE",
        "colab_type": "text"
      },
      "cell_type": "markdown",
      "source": [
        "## 3. Model development"
      ]
    },
    {
      "metadata": {
        "id": "qBW4YStUYgAB",
        "colab_type": "text"
      },
      "cell_type": "markdown",
      "source": [
        "Check if a GPU is available:"
      ]
    },
    {
      "metadata": {
        "id": "yki-V0nSYjkw",
        "colab_type": "code",
        "outputId": "110ce280-cd7a-4522-f2cc-3c04133c7f71",
        "colab": {
          "base_uri": "https://localhost:8080/",
          "height": 34
        }
      },
      "cell_type": "code",
      "source": [
        "use_gpu = torch.cuda.is_available()\n",
        "print('Using gpu: %s ' % use_gpu)"
      ],
      "execution_count": 31,
      "outputs": [
        {
          "output_type": "stream",
          "text": [
            "Using gpu: True \n"
          ],
          "name": "stdout"
        }
      ]
    },
    {
      "metadata": {
        "id": "WqDspmhYVSCZ",
        "colab_type": "code",
        "colab": {}
      },
      "cell_type": "code",
      "source": [
        "class Net(nn.Module):\n",
        "    def __init__(self):\n",
        "        super(Net, self).__init__()\n",
        "        self.conv1 = nn.Conv2d(3, 32, kernel_size=3)\n",
        "        self.conv2 = nn.Conv2d(32, 64, kernel_size=3)\n",
        "        self.conv2_drop = nn.Dropout2d()\n",
        "        self.fc1 = nn.Linear(2304, 256)\n",
        "        self.fc2 = nn.Linear(256, 4)\n",
        "\n",
        "    def forward(self, x):\n",
        "        x = F.relu(F.max_pool2d(self.conv1(x), 2))\n",
        "        x = F.relu(F.max_pool2d(self.conv2_drop(self.conv2(x)), 2))\n",
        "        x = x.view(x.size(0), -1) # Flatten layer\n",
        "        x = F.relu(self.fc1(x))\n",
        "        x = F.dropout(x, training=self.training)\n",
        "        x = self.fc2(x)\n",
        "        return torch.sigmoid(x)\n",
        "\n",
        "#model = Net() # On CPU\n",
        "model = Net().cuda() # On GPU"
      ],
      "execution_count": 0,
      "outputs": []
    },
    {
      "metadata": {
        "id": "g7VuXEI1chS-",
        "colab_type": "text"
      },
      "cell_type": "markdown",
      "source": [
        "Defining the optimizer:"
      ]
    },
    {
      "metadata": {
        "id": "J5Ht5B8pckth",
        "colab_type": "code",
        "colab": {}
      },
      "cell_type": "code",
      "source": [
        "import torch.optim as optim\n",
        "\n",
        "optimizer = optim.SGD(model.parameters(), lr=0.01, momentum=0.5)"
      ],
      "execution_count": 0,
      "outputs": []
    },
    {
      "metadata": {
        "id": "N5K2n8V-cm4e",
        "colab_type": "text"
      },
      "cell_type": "markdown",
      "source": [
        "Defining the training function:"
      ]
    },
    {
      "metadata": {
        "id": "g7kQbQQQcrvt",
        "colab_type": "code",
        "colab": {}
      },
      "cell_type": "code",
      "source": [
        "import torch.nn.functional as F\n",
        "\n",
        "def train(epoch):\n",
        "    model.train()\n",
        "    for batch_idx, (data, target) in enumerate(train_loader):\n",
        "        data, target = data.cuda(async=True), target.cuda(async=True) # On GPU\n",
        "        #data, target = Variable(data), Variable(target)\n",
        "        optimizer.zero_grad()\n",
        "        output = model(data)\n",
        "        loss = loss = F.binary_cross_entropy(output, target)\n",
        "        loss.backward()\n",
        "        optimizer.step()\n",
        "        if batch_idx % 10 == 0:\n",
        "            print('Train Epoch: {} [{}/{} ({:.0f}%)]\\tLoss: {:.6f}'.format(\n",
        "                epoch, batch_idx * len(data), len(train_loader.dataset),\n",
        "                100. * batch_idx / len(train_loader), loss.data[0]))"
      ],
      "execution_count": 0,
      "outputs": []
    },
    {
      "metadata": {
        "id": "guuAgcbLc-Vq",
        "colab_type": "text"
      },
      "cell_type": "markdown",
      "source": [
        "And train the model:"
      ]
    },
    {
      "metadata": {
        "id": "Kx836dHrdAwK",
        "colab_type": "code",
        "outputId": "cb389a69-40ca-4849-c471-84e56f60a6dd",
        "colab": {
          "base_uri": "https://localhost:8080/",
          "height": 339
        }
      },
      "cell_type": "code",
      "source": [
        "for epoch in range(1, 2):\n",
        "    train(epoch)"
      ],
      "execution_count": 48,
      "outputs": [
        {
          "output_type": "stream",
          "text": [
            "/usr/local/lib/python3.6/dist-packages/ipykernel_launcher.py:16: UserWarning: invalid index of a 0-dim tensor. This will be an error in PyTorch 0.5. Use tensor.item() to convert a 0-dim tensor to a Python number\n",
            "  app.launch_new_instance()\n"
          ],
          "name": "stderr"
        },
        {
          "output_type": "stream",
          "text": [
            "Train Epoch: 1 [0/40479 (0%)]\tLoss: 0.698736\n",
            "Train Epoch: 1 [2560/40479 (6%)]\tLoss: 0.684137\n",
            "Train Epoch: 1 [5120/40479 (13%)]\tLoss: 0.667166\n",
            "Train Epoch: 1 [7680/40479 (19%)]\tLoss: 0.644141\n",
            "Train Epoch: 1 [10240/40479 (25%)]\tLoss: 0.615572\n",
            "Train Epoch: 1 [12800/40479 (31%)]\tLoss: 0.579931\n",
            "Train Epoch: 1 [15360/40479 (38%)]\tLoss: 0.527291\n",
            "Train Epoch: 1 [17920/40479 (44%)]\tLoss: 0.495886\n",
            "Train Epoch: 1 [20480/40479 (50%)]\tLoss: 0.456831\n",
            "Train Epoch: 1 [23040/40479 (57%)]\tLoss: 0.418036\n",
            "Train Epoch: 1 [25600/40479 (63%)]\tLoss: 0.456203\n",
            "Train Epoch: 1 [28160/40479 (69%)]\tLoss: 0.469202\n",
            "Train Epoch: 1 [30720/40479 (75%)]\tLoss: 0.428555\n",
            "Train Epoch: 1 [33280/40479 (82%)]\tLoss: 0.448076\n",
            "Train Epoch: 1 [35840/40479 (88%)]\tLoss: 0.472512\n",
            "Train Epoch: 1 [38400/40479 (94%)]\tLoss: 0.443304\n"
          ],
          "name": "stdout"
        }
      ]
    }
  ]
}